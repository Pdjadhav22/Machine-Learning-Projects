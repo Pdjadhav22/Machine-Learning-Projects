{
 "cells": [
  {
   "cell_type": "markdown",
   "metadata": {},
   "source": [
    "# Employee Attrition Prediction"
   ]
  },
  {
   "cell_type": "markdown",
   "metadata": {},
   "source": [
    "**Problem Statement**\n",
    "- Need to predict Employee Attrition bassed on given features\n",
    "- Features impacting for employee Attrition."
   ]
  },
  {
   "cell_type": "markdown",
   "metadata": {},
   "source": [
    "## Load requried Libraries"
   ]
  },
  {
   "cell_type": "code",
   "execution_count": 1071,
   "metadata": {
    "ExecuteTime": {
     "end_time": "2022-01-16T16:32:33.437589Z",
     "start_time": "2022-01-16T16:32:33.424384Z"
    }
   },
   "outputs": [],
   "source": [
    "import pandas as pd\n",
    "import numpy as np\n",
    "import matplotlib.pyplot as plt\n",
    "%matplotlib inline\n",
    "import seaborn as sns"
   ]
  },
  {
   "cell_type": "code",
   "execution_count": 880,
   "metadata": {
    "ExecuteTime": {
     "end_time": "2022-01-15T19:44:48.550064Z",
     "start_time": "2022-01-15T19:44:48.537378Z"
    }
   },
   "outputs": [],
   "source": [
    "import warnings\n",
    "warnings.filterwarnings('ignore')"
   ]
  },
  {
   "cell_type": "markdown",
   "metadata": {},
   "source": [
    "### Import Datasets"
   ]
  },
  {
   "cell_type": "code",
   "execution_count": 881,
   "metadata": {
    "ExecuteTime": {
     "end_time": "2022-01-15T19:44:48.581252Z",
     "start_time": "2022-01-15T19:44:48.552333Z"
    }
   },
   "outputs": [],
   "source": [
    "df= pd.read_csv('employee_attrition.csv')"
   ]
  },
  {
   "cell_type": "code",
   "execution_count": 882,
   "metadata": {
    "ExecuteTime": {
     "end_time": "2022-01-15T19:44:48.596904Z",
     "start_time": "2022-01-15T19:44:48.583248Z"
    }
   },
   "outputs": [],
   "source": [
    "pd.set_option('display.max_columns',None)"
   ]
  },
  {
   "cell_type": "markdown",
   "metadata": {},
   "source": [
    "### Getting into Dataset"
   ]
  },
  {
   "cell_type": "code",
   "execution_count": 883,
   "metadata": {
    "ExecuteTime": {
     "end_time": "2022-01-15T19:44:48.628218Z",
     "start_time": "2022-01-15T19:44:48.598205Z"
    },
    "scrolled": true
   },
   "outputs": [
    {
     "data": {
      "text/html": [
       "<div>\n",
       "<style scoped>\n",
       "    .dataframe tbody tr th:only-of-type {\n",
       "        vertical-align: middle;\n",
       "    }\n",
       "\n",
       "    .dataframe tbody tr th {\n",
       "        vertical-align: top;\n",
       "    }\n",
       "\n",
       "    .dataframe thead th {\n",
       "        text-align: right;\n",
       "    }\n",
       "</style>\n",
       "<table border=\"1\" class=\"dataframe\">\n",
       "  <thead>\n",
       "    <tr style=\"text-align: right;\">\n",
       "      <th></th>\n",
       "      <th>Age</th>\n",
       "      <th>Attrition</th>\n",
       "      <th>BusinessTravel</th>\n",
       "      <th>DailyRate</th>\n",
       "      <th>Department</th>\n",
       "      <th>DistanceFromHome</th>\n",
       "      <th>Education</th>\n",
       "      <th>EducationField</th>\n",
       "      <th>EmployeeCount</th>\n",
       "      <th>EmployeeNumber</th>\n",
       "      <th>EnvironmentSatisfaction</th>\n",
       "      <th>Gender</th>\n",
       "      <th>HourlyRate</th>\n",
       "      <th>JobInvolvement</th>\n",
       "      <th>JobLevel</th>\n",
       "      <th>JobRole</th>\n",
       "      <th>JobSatisfaction</th>\n",
       "      <th>MaritalStatus</th>\n",
       "      <th>MonthlyIncome</th>\n",
       "      <th>MonthlyRate</th>\n",
       "      <th>NumCompaniesWorked</th>\n",
       "      <th>Over18</th>\n",
       "      <th>OverTime</th>\n",
       "      <th>PercentSalaryHike</th>\n",
       "      <th>PerformanceRating</th>\n",
       "      <th>RelationshipSatisfaction</th>\n",
       "      <th>StandardHours</th>\n",
       "      <th>StockOptionLevel</th>\n",
       "      <th>TotalWorkingYears</th>\n",
       "      <th>TrainingTimesLastYear</th>\n",
       "      <th>WorkLifeBalance</th>\n",
       "      <th>YearsAtCompany</th>\n",
       "      <th>YearsInCurrentRole</th>\n",
       "      <th>YearsSinceLastPromotion</th>\n",
       "      <th>YearsWithCurrManager</th>\n",
       "    </tr>\n",
       "  </thead>\n",
       "  <tbody>\n",
       "    <tr>\n",
       "      <th>672</th>\n",
       "      <td>42</td>\n",
       "      <td>No</td>\n",
       "      <td>Travel_Rarely</td>\n",
       "      <td>462</td>\n",
       "      <td>Sales</td>\n",
       "      <td>14</td>\n",
       "      <td>2</td>\n",
       "      <td>Medical</td>\n",
       "      <td>1</td>\n",
       "      <td>936</td>\n",
       "      <td>3</td>\n",
       "      <td>Female</td>\n",
       "      <td>68</td>\n",
       "      <td>2</td>\n",
       "      <td>2</td>\n",
       "      <td>Sales Executive</td>\n",
       "      <td>3</td>\n",
       "      <td>Single</td>\n",
       "      <td>6244</td>\n",
       "      <td>7824</td>\n",
       "      <td>7</td>\n",
       "      <td>Y</td>\n",
       "      <td>No</td>\n",
       "      <td>17</td>\n",
       "      <td>3</td>\n",
       "      <td>1</td>\n",
       "      <td>80</td>\n",
       "      <td>0</td>\n",
       "      <td>10</td>\n",
       "      <td>6</td>\n",
       "      <td>3</td>\n",
       "      <td>5</td>\n",
       "      <td>4</td>\n",
       "      <td>0</td>\n",
       "      <td>3</td>\n",
       "    </tr>\n",
       "    <tr>\n",
       "      <th>934</th>\n",
       "      <td>25</td>\n",
       "      <td>No</td>\n",
       "      <td>Travel_Rarely</td>\n",
       "      <td>266</td>\n",
       "      <td>Research &amp; Development</td>\n",
       "      <td>1</td>\n",
       "      <td>3</td>\n",
       "      <td>Medical</td>\n",
       "      <td>1</td>\n",
       "      <td>1303</td>\n",
       "      <td>4</td>\n",
       "      <td>Female</td>\n",
       "      <td>40</td>\n",
       "      <td>3</td>\n",
       "      <td>1</td>\n",
       "      <td>Research Scientist</td>\n",
       "      <td>2</td>\n",
       "      <td>Single</td>\n",
       "      <td>2096</td>\n",
       "      <td>18830</td>\n",
       "      <td>1</td>\n",
       "      <td>Y</td>\n",
       "      <td>No</td>\n",
       "      <td>18</td>\n",
       "      <td>3</td>\n",
       "      <td>4</td>\n",
       "      <td>80</td>\n",
       "      <td>0</td>\n",
       "      <td>2</td>\n",
       "      <td>3</td>\n",
       "      <td>2</td>\n",
       "      <td>2</td>\n",
       "      <td>2</td>\n",
       "      <td>2</td>\n",
       "      <td>1</td>\n",
       "    </tr>\n",
       "    <tr>\n",
       "      <th>277</th>\n",
       "      <td>38</td>\n",
       "      <td>No</td>\n",
       "      <td>Travel_Rarely</td>\n",
       "      <td>322</td>\n",
       "      <td>Sales</td>\n",
       "      <td>7</td>\n",
       "      <td>2</td>\n",
       "      <td>Medical</td>\n",
       "      <td>1</td>\n",
       "      <td>382</td>\n",
       "      <td>1</td>\n",
       "      <td>Female</td>\n",
       "      <td>44</td>\n",
       "      <td>4</td>\n",
       "      <td>2</td>\n",
       "      <td>Sales Executive</td>\n",
       "      <td>1</td>\n",
       "      <td>Divorced</td>\n",
       "      <td>5605</td>\n",
       "      <td>19191</td>\n",
       "      <td>1</td>\n",
       "      <td>Y</td>\n",
       "      <td>Yes</td>\n",
       "      <td>24</td>\n",
       "      <td>4</td>\n",
       "      <td>3</td>\n",
       "      <td>80</td>\n",
       "      <td>1</td>\n",
       "      <td>8</td>\n",
       "      <td>3</td>\n",
       "      <td>3</td>\n",
       "      <td>8</td>\n",
       "      <td>0</td>\n",
       "      <td>7</td>\n",
       "      <td>7</td>\n",
       "    </tr>\n",
       "    <tr>\n",
       "      <th>1454</th>\n",
       "      <td>45</td>\n",
       "      <td>No</td>\n",
       "      <td>Travel_Rarely</td>\n",
       "      <td>374</td>\n",
       "      <td>Sales</td>\n",
       "      <td>20</td>\n",
       "      <td>3</td>\n",
       "      <td>Life Sciences</td>\n",
       "      <td>1</td>\n",
       "      <td>2046</td>\n",
       "      <td>4</td>\n",
       "      <td>Female</td>\n",
       "      <td>50</td>\n",
       "      <td>3</td>\n",
       "      <td>2</td>\n",
       "      <td>Sales Executive</td>\n",
       "      <td>3</td>\n",
       "      <td>Single</td>\n",
       "      <td>4850</td>\n",
       "      <td>23333</td>\n",
       "      <td>8</td>\n",
       "      <td>Y</td>\n",
       "      <td>No</td>\n",
       "      <td>15</td>\n",
       "      <td>3</td>\n",
       "      <td>3</td>\n",
       "      <td>80</td>\n",
       "      <td>0</td>\n",
       "      <td>8</td>\n",
       "      <td>3</td>\n",
       "      <td>3</td>\n",
       "      <td>5</td>\n",
       "      <td>3</td>\n",
       "      <td>0</td>\n",
       "      <td>1</td>\n",
       "    </tr>\n",
       "    <tr>\n",
       "      <th>1388</th>\n",
       "      <td>32</td>\n",
       "      <td>No</td>\n",
       "      <td>Non-Travel</td>\n",
       "      <td>1146</td>\n",
       "      <td>Research &amp; Development</td>\n",
       "      <td>15</td>\n",
       "      <td>4</td>\n",
       "      <td>Medical</td>\n",
       "      <td>1</td>\n",
       "      <td>1955</td>\n",
       "      <td>3</td>\n",
       "      <td>Female</td>\n",
       "      <td>34</td>\n",
       "      <td>3</td>\n",
       "      <td>2</td>\n",
       "      <td>Healthcare Representative</td>\n",
       "      <td>4</td>\n",
       "      <td>Divorced</td>\n",
       "      <td>6667</td>\n",
       "      <td>16542</td>\n",
       "      <td>5</td>\n",
       "      <td>Y</td>\n",
       "      <td>No</td>\n",
       "      <td>18</td>\n",
       "      <td>3</td>\n",
       "      <td>2</td>\n",
       "      <td>80</td>\n",
       "      <td>1</td>\n",
       "      <td>9</td>\n",
       "      <td>6</td>\n",
       "      <td>3</td>\n",
       "      <td>5</td>\n",
       "      <td>1</td>\n",
       "      <td>1</td>\n",
       "      <td>2</td>\n",
       "    </tr>\n",
       "  </tbody>\n",
       "</table>\n",
       "</div>"
      ],
      "text/plain": [
       "      Age Attrition BusinessTravel  DailyRate              Department  \\\n",
       "672    42        No  Travel_Rarely        462                   Sales   \n",
       "934    25        No  Travel_Rarely        266  Research & Development   \n",
       "277    38        No  Travel_Rarely        322                   Sales   \n",
       "1454   45        No  Travel_Rarely        374                   Sales   \n",
       "1388   32        No     Non-Travel       1146  Research & Development   \n",
       "\n",
       "      DistanceFromHome  Education EducationField  EmployeeCount  \\\n",
       "672                 14          2        Medical              1   \n",
       "934                  1          3        Medical              1   \n",
       "277                  7          2        Medical              1   \n",
       "1454                20          3  Life Sciences              1   \n",
       "1388                15          4        Medical              1   \n",
       "\n",
       "      EmployeeNumber  EnvironmentSatisfaction  Gender  HourlyRate  \\\n",
       "672              936                        3  Female          68   \n",
       "934             1303                        4  Female          40   \n",
       "277              382                        1  Female          44   \n",
       "1454            2046                        4  Female          50   \n",
       "1388            1955                        3  Female          34   \n",
       "\n",
       "      JobInvolvement  JobLevel                    JobRole  JobSatisfaction  \\\n",
       "672                2         2            Sales Executive                3   \n",
       "934                3         1         Research Scientist                2   \n",
       "277                4         2            Sales Executive                1   \n",
       "1454               3         2            Sales Executive                3   \n",
       "1388               3         2  Healthcare Representative                4   \n",
       "\n",
       "     MaritalStatus  MonthlyIncome  MonthlyRate  NumCompaniesWorked Over18  \\\n",
       "672         Single           6244         7824                   7      Y   \n",
       "934         Single           2096        18830                   1      Y   \n",
       "277       Divorced           5605        19191                   1      Y   \n",
       "1454        Single           4850        23333                   8      Y   \n",
       "1388      Divorced           6667        16542                   5      Y   \n",
       "\n",
       "     OverTime  PercentSalaryHike  PerformanceRating  RelationshipSatisfaction  \\\n",
       "672        No                 17                  3                         1   \n",
       "934        No                 18                  3                         4   \n",
       "277       Yes                 24                  4                         3   \n",
       "1454       No                 15                  3                         3   \n",
       "1388       No                 18                  3                         2   \n",
       "\n",
       "      StandardHours  StockOptionLevel  TotalWorkingYears  \\\n",
       "672              80                 0                 10   \n",
       "934              80                 0                  2   \n",
       "277              80                 1                  8   \n",
       "1454             80                 0                  8   \n",
       "1388             80                 1                  9   \n",
       "\n",
       "      TrainingTimesLastYear  WorkLifeBalance  YearsAtCompany  \\\n",
       "672                       6                3               5   \n",
       "934                       3                2               2   \n",
       "277                       3                3               8   \n",
       "1454                      3                3               5   \n",
       "1388                      6                3               5   \n",
       "\n",
       "      YearsInCurrentRole  YearsSinceLastPromotion  YearsWithCurrManager  \n",
       "672                    4                        0                     3  \n",
       "934                    2                        2                     1  \n",
       "277                    0                        7                     7  \n",
       "1454                   3                        0                     1  \n",
       "1388                   1                        1                     2  "
      ]
     },
     "execution_count": 883,
     "metadata": {},
     "output_type": "execute_result"
    }
   ],
   "source": [
    "df.sample(5)"
   ]
  },
  {
   "cell_type": "markdown",
   "metadata": {},
   "source": [
    "- Attrition column is dependent variable"
   ]
  },
  {
   "cell_type": "code",
   "execution_count": 884,
   "metadata": {
    "ExecuteTime": {
     "end_time": "2022-01-15T19:44:48.643086Z",
     "start_time": "2022-01-15T19:44:48.629124Z"
    }
   },
   "outputs": [
    {
     "data": {
      "text/plain": [
       "array(['Yes', 'No'], dtype=object)"
      ]
     },
     "execution_count": 884,
     "metadata": {},
     "output_type": "execute_result"
    }
   ],
   "source": [
    "# Check unique values in dependent feaature\n",
    "df.Attrition.unique()"
   ]
  },
  {
   "cell_type": "markdown",
   "metadata": {},
   "source": [
    "- 2 unique values, means its a Binary classificatoin Problem"
   ]
  },
  {
   "cell_type": "code",
   "execution_count": 885,
   "metadata": {
    "ExecuteTime": {
     "end_time": "2022-01-15T19:44:48.659043Z",
     "start_time": "2022-01-15T19:44:48.645117Z"
    }
   },
   "outputs": [],
   "source": [
    "# Converting Target varibae to numeric type\n",
    "df['target']= np.where(df.Attrition=='Yes',1,0)"
   ]
  },
  {
   "cell_type": "code",
   "execution_count": 886,
   "metadata": {
    "ExecuteTime": {
     "end_time": "2022-01-15T19:44:48.674905Z",
     "start_time": "2022-01-15T19:44:48.662050Z"
    }
   },
   "outputs": [],
   "source": [
    "df= df.drop('Attrition',axis=1)"
   ]
  },
  {
   "cell_type": "code",
   "execution_count": 887,
   "metadata": {
    "ExecuteTime": {
     "end_time": "2022-01-15T19:44:48.689754Z",
     "start_time": "2022-01-15T19:44:48.676786Z"
    }
   },
   "outputs": [
    {
     "data": {
      "text/plain": [
       "(1470, 35)"
      ]
     },
     "execution_count": 887,
     "metadata": {},
     "output_type": "execute_result"
    }
   ],
   "source": [
    "df.shape"
   ]
  },
  {
   "cell_type": "code",
   "execution_count": 888,
   "metadata": {
    "ExecuteTime": {
     "end_time": "2022-01-15T19:44:48.705710Z",
     "start_time": "2022-01-15T19:44:48.690749Z"
    },
    "scrolled": true
   },
   "outputs": [
    {
     "name": "stdout",
     "output_type": "stream",
     "text": [
      "<class 'pandas.core.frame.DataFrame'>\n",
      "RangeIndex: 1470 entries, 0 to 1469\n",
      "Data columns (total 35 columns):\n",
      " #   Column                    Non-Null Count  Dtype \n",
      "---  ------                    --------------  ----- \n",
      " 0   Age                       1470 non-null   int64 \n",
      " 1   BusinessTravel            1470 non-null   object\n",
      " 2   DailyRate                 1470 non-null   int64 \n",
      " 3   Department                1470 non-null   object\n",
      " 4   DistanceFromHome          1470 non-null   int64 \n",
      " 5   Education                 1470 non-null   int64 \n",
      " 6   EducationField            1470 non-null   object\n",
      " 7   EmployeeCount             1470 non-null   int64 \n",
      " 8   EmployeeNumber            1470 non-null   int64 \n",
      " 9   EnvironmentSatisfaction   1470 non-null   int64 \n",
      " 10  Gender                    1470 non-null   object\n",
      " 11  HourlyRate                1470 non-null   int64 \n",
      " 12  JobInvolvement            1470 non-null   int64 \n",
      " 13  JobLevel                  1470 non-null   int64 \n",
      " 14  JobRole                   1470 non-null   object\n",
      " 15  JobSatisfaction           1470 non-null   int64 \n",
      " 16  MaritalStatus             1470 non-null   object\n",
      " 17  MonthlyIncome             1470 non-null   int64 \n",
      " 18  MonthlyRate               1470 non-null   int64 \n",
      " 19  NumCompaniesWorked        1470 non-null   int64 \n",
      " 20  Over18                    1470 non-null   object\n",
      " 21  OverTime                  1470 non-null   object\n",
      " 22  PercentSalaryHike         1470 non-null   int64 \n",
      " 23  PerformanceRating         1470 non-null   int64 \n",
      " 24  RelationshipSatisfaction  1470 non-null   int64 \n",
      " 25  StandardHours             1470 non-null   int64 \n",
      " 26  StockOptionLevel          1470 non-null   int64 \n",
      " 27  TotalWorkingYears         1470 non-null   int64 \n",
      " 28  TrainingTimesLastYear     1470 non-null   int64 \n",
      " 29  WorkLifeBalance           1470 non-null   int64 \n",
      " 30  YearsAtCompany            1470 non-null   int64 \n",
      " 31  YearsInCurrentRole        1470 non-null   int64 \n",
      " 32  YearsSinceLastPromotion   1470 non-null   int64 \n",
      " 33  YearsWithCurrManager      1470 non-null   int64 \n",
      " 34  target                    1470 non-null   int32 \n",
      "dtypes: int32(1), int64(26), object(8)\n",
      "memory usage: 396.3+ KB\n"
     ]
    }
   ],
   "source": [
    "df.info()"
   ]
  },
  {
   "cell_type": "markdown",
   "metadata": {},
   "source": [
    "- No null values\n",
    "- there are categorical & Numerical features"
   ]
  },
  {
   "cell_type": "code",
   "execution_count": 889,
   "metadata": {
    "ExecuteTime": {
     "end_time": "2022-01-15T19:44:48.813120Z",
     "start_time": "2022-01-15T19:44:48.707705Z"
    },
    "scrolled": true
   },
   "outputs": [
    {
     "data": {
      "text/html": [
       "<div>\n",
       "<style scoped>\n",
       "    .dataframe tbody tr th:only-of-type {\n",
       "        vertical-align: middle;\n",
       "    }\n",
       "\n",
       "    .dataframe tbody tr th {\n",
       "        vertical-align: top;\n",
       "    }\n",
       "\n",
       "    .dataframe thead th {\n",
       "        text-align: right;\n",
       "    }\n",
       "</style>\n",
       "<table border=\"1\" class=\"dataframe\">\n",
       "  <thead>\n",
       "    <tr style=\"text-align: right;\">\n",
       "      <th></th>\n",
       "      <th>Age</th>\n",
       "      <th>DailyRate</th>\n",
       "      <th>DistanceFromHome</th>\n",
       "      <th>Education</th>\n",
       "      <th>EmployeeCount</th>\n",
       "      <th>EmployeeNumber</th>\n",
       "      <th>EnvironmentSatisfaction</th>\n",
       "      <th>HourlyRate</th>\n",
       "      <th>JobInvolvement</th>\n",
       "      <th>JobLevel</th>\n",
       "      <th>JobSatisfaction</th>\n",
       "      <th>MonthlyIncome</th>\n",
       "      <th>MonthlyRate</th>\n",
       "      <th>NumCompaniesWorked</th>\n",
       "      <th>PercentSalaryHike</th>\n",
       "      <th>PerformanceRating</th>\n",
       "      <th>RelationshipSatisfaction</th>\n",
       "      <th>StandardHours</th>\n",
       "      <th>StockOptionLevel</th>\n",
       "      <th>TotalWorkingYears</th>\n",
       "      <th>TrainingTimesLastYear</th>\n",
       "      <th>WorkLifeBalance</th>\n",
       "      <th>YearsAtCompany</th>\n",
       "      <th>YearsInCurrentRole</th>\n",
       "      <th>YearsSinceLastPromotion</th>\n",
       "      <th>YearsWithCurrManager</th>\n",
       "      <th>target</th>\n",
       "      <th>BusinessTravel</th>\n",
       "      <th>Department</th>\n",
       "      <th>EducationField</th>\n",
       "      <th>Gender</th>\n",
       "      <th>JobRole</th>\n",
       "      <th>MaritalStatus</th>\n",
       "      <th>Over18</th>\n",
       "      <th>OverTime</th>\n",
       "    </tr>\n",
       "  </thead>\n",
       "  <tbody>\n",
       "    <tr>\n",
       "      <th>count</th>\n",
       "      <td>1470.000000</td>\n",
       "      <td>1470.000000</td>\n",
       "      <td>1470.000000</td>\n",
       "      <td>1470.000000</td>\n",
       "      <td>1470.0</td>\n",
       "      <td>1470.000000</td>\n",
       "      <td>1470.000000</td>\n",
       "      <td>1470.000000</td>\n",
       "      <td>1470.000000</td>\n",
       "      <td>1470.000000</td>\n",
       "      <td>1470.000000</td>\n",
       "      <td>1470.000000</td>\n",
       "      <td>1470.000000</td>\n",
       "      <td>1470.000000</td>\n",
       "      <td>1470.000000</td>\n",
       "      <td>1470.000000</td>\n",
       "      <td>1470.000000</td>\n",
       "      <td>1470.0</td>\n",
       "      <td>1470.000000</td>\n",
       "      <td>1470.000000</td>\n",
       "      <td>1470.000000</td>\n",
       "      <td>1470.000000</td>\n",
       "      <td>1470.000000</td>\n",
       "      <td>1470.000000</td>\n",
       "      <td>1470.000000</td>\n",
       "      <td>1470.000000</td>\n",
       "      <td>1470.000000</td>\n",
       "      <td>NaN</td>\n",
       "      <td>NaN</td>\n",
       "      <td>NaN</td>\n",
       "      <td>NaN</td>\n",
       "      <td>NaN</td>\n",
       "      <td>NaN</td>\n",
       "      <td>NaN</td>\n",
       "      <td>NaN</td>\n",
       "    </tr>\n",
       "    <tr>\n",
       "      <th>mean</th>\n",
       "      <td>36.923810</td>\n",
       "      <td>802.485714</td>\n",
       "      <td>9.192517</td>\n",
       "      <td>2.912925</td>\n",
       "      <td>1.0</td>\n",
       "      <td>1024.865306</td>\n",
       "      <td>2.721769</td>\n",
       "      <td>65.891156</td>\n",
       "      <td>2.729932</td>\n",
       "      <td>2.063946</td>\n",
       "      <td>2.728571</td>\n",
       "      <td>6502.931293</td>\n",
       "      <td>14313.103401</td>\n",
       "      <td>2.693197</td>\n",
       "      <td>15.209524</td>\n",
       "      <td>3.153741</td>\n",
       "      <td>2.712245</td>\n",
       "      <td>80.0</td>\n",
       "      <td>0.793878</td>\n",
       "      <td>11.279592</td>\n",
       "      <td>2.799320</td>\n",
       "      <td>2.761224</td>\n",
       "      <td>7.008163</td>\n",
       "      <td>4.229252</td>\n",
       "      <td>2.187755</td>\n",
       "      <td>4.123129</td>\n",
       "      <td>0.161224</td>\n",
       "      <td>NaN</td>\n",
       "      <td>NaN</td>\n",
       "      <td>NaN</td>\n",
       "      <td>NaN</td>\n",
       "      <td>NaN</td>\n",
       "      <td>NaN</td>\n",
       "      <td>NaN</td>\n",
       "      <td>NaN</td>\n",
       "    </tr>\n",
       "    <tr>\n",
       "      <th>std</th>\n",
       "      <td>9.135373</td>\n",
       "      <td>403.509100</td>\n",
       "      <td>8.106864</td>\n",
       "      <td>1.024165</td>\n",
       "      <td>0.0</td>\n",
       "      <td>602.024335</td>\n",
       "      <td>1.093082</td>\n",
       "      <td>20.329428</td>\n",
       "      <td>0.711561</td>\n",
       "      <td>1.106940</td>\n",
       "      <td>1.102846</td>\n",
       "      <td>4707.956783</td>\n",
       "      <td>7117.786044</td>\n",
       "      <td>2.498009</td>\n",
       "      <td>3.659938</td>\n",
       "      <td>0.360824</td>\n",
       "      <td>1.081209</td>\n",
       "      <td>0.0</td>\n",
       "      <td>0.852077</td>\n",
       "      <td>7.780782</td>\n",
       "      <td>1.289271</td>\n",
       "      <td>0.706476</td>\n",
       "      <td>6.126525</td>\n",
       "      <td>3.623137</td>\n",
       "      <td>3.222430</td>\n",
       "      <td>3.568136</td>\n",
       "      <td>0.367863</td>\n",
       "      <td>NaN</td>\n",
       "      <td>NaN</td>\n",
       "      <td>NaN</td>\n",
       "      <td>NaN</td>\n",
       "      <td>NaN</td>\n",
       "      <td>NaN</td>\n",
       "      <td>NaN</td>\n",
       "      <td>NaN</td>\n",
       "    </tr>\n",
       "    <tr>\n",
       "      <th>min</th>\n",
       "      <td>18.000000</td>\n",
       "      <td>102.000000</td>\n",
       "      <td>1.000000</td>\n",
       "      <td>1.000000</td>\n",
       "      <td>1.0</td>\n",
       "      <td>1.000000</td>\n",
       "      <td>1.000000</td>\n",
       "      <td>30.000000</td>\n",
       "      <td>1.000000</td>\n",
       "      <td>1.000000</td>\n",
       "      <td>1.000000</td>\n",
       "      <td>1009.000000</td>\n",
       "      <td>2094.000000</td>\n",
       "      <td>0.000000</td>\n",
       "      <td>11.000000</td>\n",
       "      <td>3.000000</td>\n",
       "      <td>1.000000</td>\n",
       "      <td>80.0</td>\n",
       "      <td>0.000000</td>\n",
       "      <td>0.000000</td>\n",
       "      <td>0.000000</td>\n",
       "      <td>1.000000</td>\n",
       "      <td>0.000000</td>\n",
       "      <td>0.000000</td>\n",
       "      <td>0.000000</td>\n",
       "      <td>0.000000</td>\n",
       "      <td>0.000000</td>\n",
       "      <td>NaN</td>\n",
       "      <td>NaN</td>\n",
       "      <td>NaN</td>\n",
       "      <td>NaN</td>\n",
       "      <td>NaN</td>\n",
       "      <td>NaN</td>\n",
       "      <td>NaN</td>\n",
       "      <td>NaN</td>\n",
       "    </tr>\n",
       "    <tr>\n",
       "      <th>1%</th>\n",
       "      <td>19.000000</td>\n",
       "      <td>117.000000</td>\n",
       "      <td>1.000000</td>\n",
       "      <td>1.000000</td>\n",
       "      <td>1.0</td>\n",
       "      <td>19.690000</td>\n",
       "      <td>1.000000</td>\n",
       "      <td>30.000000</td>\n",
       "      <td>1.000000</td>\n",
       "      <td>1.000000</td>\n",
       "      <td>1.000000</td>\n",
       "      <td>1382.460000</td>\n",
       "      <td>2325.070000</td>\n",
       "      <td>0.000000</td>\n",
       "      <td>11.000000</td>\n",
       "      <td>3.000000</td>\n",
       "      <td>1.000000</td>\n",
       "      <td>80.0</td>\n",
       "      <td>0.000000</td>\n",
       "      <td>1.000000</td>\n",
       "      <td>0.000000</td>\n",
       "      <td>1.000000</td>\n",
       "      <td>0.000000</td>\n",
       "      <td>0.000000</td>\n",
       "      <td>0.000000</td>\n",
       "      <td>0.000000</td>\n",
       "      <td>0.000000</td>\n",
       "      <td>NaN</td>\n",
       "      <td>NaN</td>\n",
       "      <td>NaN</td>\n",
       "      <td>NaN</td>\n",
       "      <td>NaN</td>\n",
       "      <td>NaN</td>\n",
       "      <td>NaN</td>\n",
       "      <td>NaN</td>\n",
       "    </tr>\n",
       "    <tr>\n",
       "      <th>50%</th>\n",
       "      <td>36.000000</td>\n",
       "      <td>802.000000</td>\n",
       "      <td>7.000000</td>\n",
       "      <td>3.000000</td>\n",
       "      <td>1.0</td>\n",
       "      <td>1020.500000</td>\n",
       "      <td>3.000000</td>\n",
       "      <td>66.000000</td>\n",
       "      <td>3.000000</td>\n",
       "      <td>2.000000</td>\n",
       "      <td>3.000000</td>\n",
       "      <td>4919.000000</td>\n",
       "      <td>14235.500000</td>\n",
       "      <td>2.000000</td>\n",
       "      <td>14.000000</td>\n",
       "      <td>3.000000</td>\n",
       "      <td>3.000000</td>\n",
       "      <td>80.0</td>\n",
       "      <td>1.000000</td>\n",
       "      <td>10.000000</td>\n",
       "      <td>3.000000</td>\n",
       "      <td>3.000000</td>\n",
       "      <td>5.000000</td>\n",
       "      <td>3.000000</td>\n",
       "      <td>1.000000</td>\n",
       "      <td>3.000000</td>\n",
       "      <td>0.000000</td>\n",
       "      <td>NaN</td>\n",
       "      <td>NaN</td>\n",
       "      <td>NaN</td>\n",
       "      <td>NaN</td>\n",
       "      <td>NaN</td>\n",
       "      <td>NaN</td>\n",
       "      <td>NaN</td>\n",
       "      <td>NaN</td>\n",
       "    </tr>\n",
       "    <tr>\n",
       "      <th>99%</th>\n",
       "      <td>58.310000</td>\n",
       "      <td>1485.000000</td>\n",
       "      <td>29.000000</td>\n",
       "      <td>5.000000</td>\n",
       "      <td>1.0</td>\n",
       "      <td>2046.620000</td>\n",
       "      <td>4.000000</td>\n",
       "      <td>100.000000</td>\n",
       "      <td>4.000000</td>\n",
       "      <td>5.000000</td>\n",
       "      <td>4.000000</td>\n",
       "      <td>19626.310000</td>\n",
       "      <td>26704.240000</td>\n",
       "      <td>9.000000</td>\n",
       "      <td>25.000000</td>\n",
       "      <td>4.000000</td>\n",
       "      <td>4.000000</td>\n",
       "      <td>80.0</td>\n",
       "      <td>3.000000</td>\n",
       "      <td>35.000000</td>\n",
       "      <td>6.000000</td>\n",
       "      <td>4.000000</td>\n",
       "      <td>31.000000</td>\n",
       "      <td>15.000000</td>\n",
       "      <td>14.000000</td>\n",
       "      <td>14.000000</td>\n",
       "      <td>1.000000</td>\n",
       "      <td>NaN</td>\n",
       "      <td>NaN</td>\n",
       "      <td>NaN</td>\n",
       "      <td>NaN</td>\n",
       "      <td>NaN</td>\n",
       "      <td>NaN</td>\n",
       "      <td>NaN</td>\n",
       "      <td>NaN</td>\n",
       "    </tr>\n",
       "    <tr>\n",
       "      <th>max</th>\n",
       "      <td>60.000000</td>\n",
       "      <td>1499.000000</td>\n",
       "      <td>29.000000</td>\n",
       "      <td>5.000000</td>\n",
       "      <td>1.0</td>\n",
       "      <td>2068.000000</td>\n",
       "      <td>4.000000</td>\n",
       "      <td>100.000000</td>\n",
       "      <td>4.000000</td>\n",
       "      <td>5.000000</td>\n",
       "      <td>4.000000</td>\n",
       "      <td>19999.000000</td>\n",
       "      <td>26999.000000</td>\n",
       "      <td>9.000000</td>\n",
       "      <td>25.000000</td>\n",
       "      <td>4.000000</td>\n",
       "      <td>4.000000</td>\n",
       "      <td>80.0</td>\n",
       "      <td>3.000000</td>\n",
       "      <td>40.000000</td>\n",
       "      <td>6.000000</td>\n",
       "      <td>4.000000</td>\n",
       "      <td>40.000000</td>\n",
       "      <td>18.000000</td>\n",
       "      <td>15.000000</td>\n",
       "      <td>17.000000</td>\n",
       "      <td>1.000000</td>\n",
       "      <td>NaN</td>\n",
       "      <td>NaN</td>\n",
       "      <td>NaN</td>\n",
       "      <td>NaN</td>\n",
       "      <td>NaN</td>\n",
       "      <td>NaN</td>\n",
       "      <td>NaN</td>\n",
       "      <td>NaN</td>\n",
       "    </tr>\n",
       "    <tr>\n",
       "      <th>unique</th>\n",
       "      <td>43.000000</td>\n",
       "      <td>886.000000</td>\n",
       "      <td>29.000000</td>\n",
       "      <td>5.000000</td>\n",
       "      <td>1.0</td>\n",
       "      <td>1470.000000</td>\n",
       "      <td>4.000000</td>\n",
       "      <td>71.000000</td>\n",
       "      <td>4.000000</td>\n",
       "      <td>5.000000</td>\n",
       "      <td>4.000000</td>\n",
       "      <td>1349.000000</td>\n",
       "      <td>1427.000000</td>\n",
       "      <td>10.000000</td>\n",
       "      <td>15.000000</td>\n",
       "      <td>2.000000</td>\n",
       "      <td>4.000000</td>\n",
       "      <td>1.0</td>\n",
       "      <td>4.000000</td>\n",
       "      <td>40.000000</td>\n",
       "      <td>7.000000</td>\n",
       "      <td>4.000000</td>\n",
       "      <td>37.000000</td>\n",
       "      <td>19.000000</td>\n",
       "      <td>16.000000</td>\n",
       "      <td>18.000000</td>\n",
       "      <td>2.000000</td>\n",
       "      <td>3.0</td>\n",
       "      <td>3.0</td>\n",
       "      <td>6.0</td>\n",
       "      <td>2.0</td>\n",
       "      <td>9.0</td>\n",
       "      <td>3.0</td>\n",
       "      <td>1.0</td>\n",
       "      <td>2.0</td>\n",
       "    </tr>\n",
       "  </tbody>\n",
       "</table>\n",
       "</div>"
      ],
      "text/plain": [
       "                Age    DailyRate  DistanceFromHome    Education  \\\n",
       "count   1470.000000  1470.000000       1470.000000  1470.000000   \n",
       "mean      36.923810   802.485714          9.192517     2.912925   \n",
       "std        9.135373   403.509100          8.106864     1.024165   \n",
       "min       18.000000   102.000000          1.000000     1.000000   \n",
       "1%        19.000000   117.000000          1.000000     1.000000   \n",
       "50%       36.000000   802.000000          7.000000     3.000000   \n",
       "99%       58.310000  1485.000000         29.000000     5.000000   \n",
       "max       60.000000  1499.000000         29.000000     5.000000   \n",
       "unique    43.000000   886.000000         29.000000     5.000000   \n",
       "\n",
       "        EmployeeCount  EmployeeNumber  EnvironmentSatisfaction   HourlyRate  \\\n",
       "count          1470.0     1470.000000              1470.000000  1470.000000   \n",
       "mean              1.0     1024.865306                 2.721769    65.891156   \n",
       "std               0.0      602.024335                 1.093082    20.329428   \n",
       "min               1.0        1.000000                 1.000000    30.000000   \n",
       "1%                1.0       19.690000                 1.000000    30.000000   \n",
       "50%               1.0     1020.500000                 3.000000    66.000000   \n",
       "99%               1.0     2046.620000                 4.000000   100.000000   \n",
       "max               1.0     2068.000000                 4.000000   100.000000   \n",
       "unique            1.0     1470.000000                 4.000000    71.000000   \n",
       "\n",
       "        JobInvolvement     JobLevel  JobSatisfaction  MonthlyIncome  \\\n",
       "count      1470.000000  1470.000000      1470.000000    1470.000000   \n",
       "mean          2.729932     2.063946         2.728571    6502.931293   \n",
       "std           0.711561     1.106940         1.102846    4707.956783   \n",
       "min           1.000000     1.000000         1.000000    1009.000000   \n",
       "1%            1.000000     1.000000         1.000000    1382.460000   \n",
       "50%           3.000000     2.000000         3.000000    4919.000000   \n",
       "99%           4.000000     5.000000         4.000000   19626.310000   \n",
       "max           4.000000     5.000000         4.000000   19999.000000   \n",
       "unique        4.000000     5.000000         4.000000    1349.000000   \n",
       "\n",
       "         MonthlyRate  NumCompaniesWorked  PercentSalaryHike  \\\n",
       "count    1470.000000         1470.000000        1470.000000   \n",
       "mean    14313.103401            2.693197          15.209524   \n",
       "std      7117.786044            2.498009           3.659938   \n",
       "min      2094.000000            0.000000          11.000000   \n",
       "1%       2325.070000            0.000000          11.000000   \n",
       "50%     14235.500000            2.000000          14.000000   \n",
       "99%     26704.240000            9.000000          25.000000   \n",
       "max     26999.000000            9.000000          25.000000   \n",
       "unique   1427.000000           10.000000          15.000000   \n",
       "\n",
       "        PerformanceRating  RelationshipSatisfaction  StandardHours  \\\n",
       "count         1470.000000               1470.000000         1470.0   \n",
       "mean             3.153741                  2.712245           80.0   \n",
       "std              0.360824                  1.081209            0.0   \n",
       "min              3.000000                  1.000000           80.0   \n",
       "1%               3.000000                  1.000000           80.0   \n",
       "50%              3.000000                  3.000000           80.0   \n",
       "99%              4.000000                  4.000000           80.0   \n",
       "max              4.000000                  4.000000           80.0   \n",
       "unique           2.000000                  4.000000            1.0   \n",
       "\n",
       "        StockOptionLevel  TotalWorkingYears  TrainingTimesLastYear  \\\n",
       "count        1470.000000        1470.000000            1470.000000   \n",
       "mean            0.793878          11.279592               2.799320   \n",
       "std             0.852077           7.780782               1.289271   \n",
       "min             0.000000           0.000000               0.000000   \n",
       "1%              0.000000           1.000000               0.000000   \n",
       "50%             1.000000          10.000000               3.000000   \n",
       "99%             3.000000          35.000000               6.000000   \n",
       "max             3.000000          40.000000               6.000000   \n",
       "unique          4.000000          40.000000               7.000000   \n",
       "\n",
       "        WorkLifeBalance  YearsAtCompany  YearsInCurrentRole  \\\n",
       "count       1470.000000     1470.000000         1470.000000   \n",
       "mean           2.761224        7.008163            4.229252   \n",
       "std            0.706476        6.126525            3.623137   \n",
       "min            1.000000        0.000000            0.000000   \n",
       "1%             1.000000        0.000000            0.000000   \n",
       "50%            3.000000        5.000000            3.000000   \n",
       "99%            4.000000       31.000000           15.000000   \n",
       "max            4.000000       40.000000           18.000000   \n",
       "unique         4.000000       37.000000           19.000000   \n",
       "\n",
       "        YearsSinceLastPromotion  YearsWithCurrManager       target  \\\n",
       "count               1470.000000           1470.000000  1470.000000   \n",
       "mean                   2.187755              4.123129     0.161224   \n",
       "std                    3.222430              3.568136     0.367863   \n",
       "min                    0.000000              0.000000     0.000000   \n",
       "1%                     0.000000              0.000000     0.000000   \n",
       "50%                    1.000000              3.000000     0.000000   \n",
       "99%                   14.000000             14.000000     1.000000   \n",
       "max                   15.000000             17.000000     1.000000   \n",
       "unique                16.000000             18.000000     2.000000   \n",
       "\n",
       "        BusinessTravel  Department  EducationField  Gender  JobRole  \\\n",
       "count              NaN         NaN             NaN     NaN      NaN   \n",
       "mean               NaN         NaN             NaN     NaN      NaN   \n",
       "std                NaN         NaN             NaN     NaN      NaN   \n",
       "min                NaN         NaN             NaN     NaN      NaN   \n",
       "1%                 NaN         NaN             NaN     NaN      NaN   \n",
       "50%                NaN         NaN             NaN     NaN      NaN   \n",
       "99%                NaN         NaN             NaN     NaN      NaN   \n",
       "max                NaN         NaN             NaN     NaN      NaN   \n",
       "unique             3.0         3.0             6.0     2.0      9.0   \n",
       "\n",
       "        MaritalStatus  Over18  OverTime  \n",
       "count             NaN     NaN       NaN  \n",
       "mean              NaN     NaN       NaN  \n",
       "std               NaN     NaN       NaN  \n",
       "min               NaN     NaN       NaN  \n",
       "1%                NaN     NaN       NaN  \n",
       "50%               NaN     NaN       NaN  \n",
       "99%               NaN     NaN       NaN  \n",
       "max               NaN     NaN       NaN  \n",
       "unique            3.0     1.0       2.0  "
      ]
     },
     "execution_count": 889,
     "metadata": {},
     "output_type": "execute_result"
    }
   ],
   "source": [
    "def Describe(df):\n",
    "    describe = df.describe(percentiles=[0.01,0.99])\n",
    "    describe = describe.append(df.nunique().rename('unique')) # .rename used to provide name to a series\n",
    "    return describe\n",
    "describe(df)"
   ]
  },
  {
   "cell_type": "markdown",
   "metadata": {},
   "source": [
    "- EmployeeCount, StandardHours have only 1 unique value\n",
    "- many numerical features have unique values less then 10, need to consider them as descrete features\n",
    "- employeenumber feature has all unique values, we will treat it as unique ID for each employee\n",
    "- Most Features have normal distribution as mean & Median are nearby.\n",
    "- Max values are beyond 99%, we will consider till 99% to avoid Outliers."
   ]
  },
  {
   "cell_type": "markdown",
   "metadata": {},
   "source": [
    "### defining Index variable from given features"
   ]
  },
  {
   "cell_type": "code",
   "execution_count": 890,
   "metadata": {
    "ExecuteTime": {
     "end_time": "2022-01-15T19:44:48.860347Z",
     "start_time": "2022-01-15T19:44:48.815709Z"
    }
   },
   "outputs": [
    {
     "data": {
      "text/html": [
       "<div>\n",
       "<style scoped>\n",
       "    .dataframe tbody tr th:only-of-type {\n",
       "        vertical-align: middle;\n",
       "    }\n",
       "\n",
       "    .dataframe tbody tr th {\n",
       "        vertical-align: top;\n",
       "    }\n",
       "\n",
       "    .dataframe thead th {\n",
       "        text-align: right;\n",
       "    }\n",
       "</style>\n",
       "<table border=\"1\" class=\"dataframe\">\n",
       "  <thead>\n",
       "    <tr style=\"text-align: right;\">\n",
       "      <th></th>\n",
       "      <th>Age</th>\n",
       "      <th>BusinessTravel</th>\n",
       "      <th>DailyRate</th>\n",
       "      <th>Department</th>\n",
       "      <th>DistanceFromHome</th>\n",
       "      <th>Education</th>\n",
       "      <th>EducationField</th>\n",
       "      <th>EmployeeCount</th>\n",
       "      <th>EnvironmentSatisfaction</th>\n",
       "      <th>Gender</th>\n",
       "      <th>HourlyRate</th>\n",
       "      <th>JobInvolvement</th>\n",
       "      <th>JobLevel</th>\n",
       "      <th>JobRole</th>\n",
       "      <th>JobSatisfaction</th>\n",
       "      <th>MaritalStatus</th>\n",
       "      <th>MonthlyIncome</th>\n",
       "      <th>MonthlyRate</th>\n",
       "      <th>NumCompaniesWorked</th>\n",
       "      <th>Over18</th>\n",
       "      <th>OverTime</th>\n",
       "      <th>PercentSalaryHike</th>\n",
       "      <th>PerformanceRating</th>\n",
       "      <th>RelationshipSatisfaction</th>\n",
       "      <th>StandardHours</th>\n",
       "      <th>StockOptionLevel</th>\n",
       "      <th>TotalWorkingYears</th>\n",
       "      <th>TrainingTimesLastYear</th>\n",
       "      <th>WorkLifeBalance</th>\n",
       "      <th>YearsAtCompany</th>\n",
       "      <th>YearsInCurrentRole</th>\n",
       "      <th>YearsSinceLastPromotion</th>\n",
       "      <th>YearsWithCurrManager</th>\n",
       "      <th>target</th>\n",
       "    </tr>\n",
       "    <tr>\n",
       "      <th>Emp.ID</th>\n",
       "      <th></th>\n",
       "      <th></th>\n",
       "      <th></th>\n",
       "      <th></th>\n",
       "      <th></th>\n",
       "      <th></th>\n",
       "      <th></th>\n",
       "      <th></th>\n",
       "      <th></th>\n",
       "      <th></th>\n",
       "      <th></th>\n",
       "      <th></th>\n",
       "      <th></th>\n",
       "      <th></th>\n",
       "      <th></th>\n",
       "      <th></th>\n",
       "      <th></th>\n",
       "      <th></th>\n",
       "      <th></th>\n",
       "      <th></th>\n",
       "      <th></th>\n",
       "      <th></th>\n",
       "      <th></th>\n",
       "      <th></th>\n",
       "      <th></th>\n",
       "      <th></th>\n",
       "      <th></th>\n",
       "      <th></th>\n",
       "      <th></th>\n",
       "      <th></th>\n",
       "      <th></th>\n",
       "      <th></th>\n",
       "      <th></th>\n",
       "      <th></th>\n",
       "    </tr>\n",
       "  </thead>\n",
       "  <tbody>\n",
       "    <tr>\n",
       "      <th>1</th>\n",
       "      <td>41</td>\n",
       "      <td>Travel_Rarely</td>\n",
       "      <td>1102</td>\n",
       "      <td>Sales</td>\n",
       "      <td>1</td>\n",
       "      <td>2</td>\n",
       "      <td>Life Sciences</td>\n",
       "      <td>1</td>\n",
       "      <td>2</td>\n",
       "      <td>Female</td>\n",
       "      <td>94</td>\n",
       "      <td>3</td>\n",
       "      <td>2</td>\n",
       "      <td>Sales Executive</td>\n",
       "      <td>4</td>\n",
       "      <td>Single</td>\n",
       "      <td>5993</td>\n",
       "      <td>19479</td>\n",
       "      <td>8</td>\n",
       "      <td>Y</td>\n",
       "      <td>Yes</td>\n",
       "      <td>11</td>\n",
       "      <td>3</td>\n",
       "      <td>1</td>\n",
       "      <td>80</td>\n",
       "      <td>0</td>\n",
       "      <td>8</td>\n",
       "      <td>0</td>\n",
       "      <td>1</td>\n",
       "      <td>6</td>\n",
       "      <td>4</td>\n",
       "      <td>0</td>\n",
       "      <td>5</td>\n",
       "      <td>1</td>\n",
       "    </tr>\n",
       "    <tr>\n",
       "      <th>2</th>\n",
       "      <td>49</td>\n",
       "      <td>Travel_Frequently</td>\n",
       "      <td>279</td>\n",
       "      <td>Research &amp; Development</td>\n",
       "      <td>8</td>\n",
       "      <td>1</td>\n",
       "      <td>Life Sciences</td>\n",
       "      <td>1</td>\n",
       "      <td>3</td>\n",
       "      <td>Male</td>\n",
       "      <td>61</td>\n",
       "      <td>2</td>\n",
       "      <td>2</td>\n",
       "      <td>Research Scientist</td>\n",
       "      <td>2</td>\n",
       "      <td>Married</td>\n",
       "      <td>5130</td>\n",
       "      <td>24907</td>\n",
       "      <td>1</td>\n",
       "      <td>Y</td>\n",
       "      <td>No</td>\n",
       "      <td>23</td>\n",
       "      <td>4</td>\n",
       "      <td>4</td>\n",
       "      <td>80</td>\n",
       "      <td>1</td>\n",
       "      <td>10</td>\n",
       "      <td>3</td>\n",
       "      <td>3</td>\n",
       "      <td>10</td>\n",
       "      <td>7</td>\n",
       "      <td>1</td>\n",
       "      <td>7</td>\n",
       "      <td>0</td>\n",
       "    </tr>\n",
       "    <tr>\n",
       "      <th>4</th>\n",
       "      <td>37</td>\n",
       "      <td>Travel_Rarely</td>\n",
       "      <td>1373</td>\n",
       "      <td>Research &amp; Development</td>\n",
       "      <td>2</td>\n",
       "      <td>2</td>\n",
       "      <td>Other</td>\n",
       "      <td>1</td>\n",
       "      <td>4</td>\n",
       "      <td>Male</td>\n",
       "      <td>92</td>\n",
       "      <td>2</td>\n",
       "      <td>1</td>\n",
       "      <td>Laboratory Technician</td>\n",
       "      <td>3</td>\n",
       "      <td>Single</td>\n",
       "      <td>2090</td>\n",
       "      <td>2396</td>\n",
       "      <td>6</td>\n",
       "      <td>Y</td>\n",
       "      <td>Yes</td>\n",
       "      <td>15</td>\n",
       "      <td>3</td>\n",
       "      <td>2</td>\n",
       "      <td>80</td>\n",
       "      <td>0</td>\n",
       "      <td>7</td>\n",
       "      <td>3</td>\n",
       "      <td>3</td>\n",
       "      <td>0</td>\n",
       "      <td>0</td>\n",
       "      <td>0</td>\n",
       "      <td>0</td>\n",
       "      <td>1</td>\n",
       "    </tr>\n",
       "    <tr>\n",
       "      <th>5</th>\n",
       "      <td>33</td>\n",
       "      <td>Travel_Frequently</td>\n",
       "      <td>1392</td>\n",
       "      <td>Research &amp; Development</td>\n",
       "      <td>3</td>\n",
       "      <td>4</td>\n",
       "      <td>Life Sciences</td>\n",
       "      <td>1</td>\n",
       "      <td>4</td>\n",
       "      <td>Female</td>\n",
       "      <td>56</td>\n",
       "      <td>3</td>\n",
       "      <td>1</td>\n",
       "      <td>Research Scientist</td>\n",
       "      <td>3</td>\n",
       "      <td>Married</td>\n",
       "      <td>2909</td>\n",
       "      <td>23159</td>\n",
       "      <td>1</td>\n",
       "      <td>Y</td>\n",
       "      <td>Yes</td>\n",
       "      <td>11</td>\n",
       "      <td>3</td>\n",
       "      <td>3</td>\n",
       "      <td>80</td>\n",
       "      <td>0</td>\n",
       "      <td>8</td>\n",
       "      <td>3</td>\n",
       "      <td>3</td>\n",
       "      <td>8</td>\n",
       "      <td>7</td>\n",
       "      <td>3</td>\n",
       "      <td>0</td>\n",
       "      <td>0</td>\n",
       "    </tr>\n",
       "    <tr>\n",
       "      <th>7</th>\n",
       "      <td>27</td>\n",
       "      <td>Travel_Rarely</td>\n",
       "      <td>591</td>\n",
       "      <td>Research &amp; Development</td>\n",
       "      <td>2</td>\n",
       "      <td>1</td>\n",
       "      <td>Medical</td>\n",
       "      <td>1</td>\n",
       "      <td>1</td>\n",
       "      <td>Male</td>\n",
       "      <td>40</td>\n",
       "      <td>3</td>\n",
       "      <td>1</td>\n",
       "      <td>Laboratory Technician</td>\n",
       "      <td>2</td>\n",
       "      <td>Married</td>\n",
       "      <td>3468</td>\n",
       "      <td>16632</td>\n",
       "      <td>9</td>\n",
       "      <td>Y</td>\n",
       "      <td>No</td>\n",
       "      <td>12</td>\n",
       "      <td>3</td>\n",
       "      <td>4</td>\n",
       "      <td>80</td>\n",
       "      <td>1</td>\n",
       "      <td>6</td>\n",
       "      <td>3</td>\n",
       "      <td>3</td>\n",
       "      <td>2</td>\n",
       "      <td>2</td>\n",
       "      <td>2</td>\n",
       "      <td>2</td>\n",
       "      <td>0</td>\n",
       "    </tr>\n",
       "  </tbody>\n",
       "</table>\n",
       "</div>"
      ],
      "text/plain": [
       "        Age     BusinessTravel  DailyRate              Department  \\\n",
       "Emp.ID                                                              \n",
       "1        41      Travel_Rarely       1102                   Sales   \n",
       "2        49  Travel_Frequently        279  Research & Development   \n",
       "4        37      Travel_Rarely       1373  Research & Development   \n",
       "5        33  Travel_Frequently       1392  Research & Development   \n",
       "7        27      Travel_Rarely        591  Research & Development   \n",
       "\n",
       "        DistanceFromHome  Education EducationField  EmployeeCount  \\\n",
       "Emp.ID                                                              \n",
       "1                      1          2  Life Sciences              1   \n",
       "2                      8          1  Life Sciences              1   \n",
       "4                      2          2          Other              1   \n",
       "5                      3          4  Life Sciences              1   \n",
       "7                      2          1        Medical              1   \n",
       "\n",
       "        EnvironmentSatisfaction  Gender  HourlyRate  JobInvolvement  JobLevel  \\\n",
       "Emp.ID                                                                          \n",
       "1                             2  Female          94               3         2   \n",
       "2                             3    Male          61               2         2   \n",
       "4                             4    Male          92               2         1   \n",
       "5                             4  Female          56               3         1   \n",
       "7                             1    Male          40               3         1   \n",
       "\n",
       "                      JobRole  JobSatisfaction MaritalStatus  MonthlyIncome  \\\n",
       "Emp.ID                                                                        \n",
       "1             Sales Executive                4        Single           5993   \n",
       "2          Research Scientist                2       Married           5130   \n",
       "4       Laboratory Technician                3        Single           2090   \n",
       "5          Research Scientist                3       Married           2909   \n",
       "7       Laboratory Technician                2       Married           3468   \n",
       "\n",
       "        MonthlyRate  NumCompaniesWorked Over18 OverTime  PercentSalaryHike  \\\n",
       "Emp.ID                                                                       \n",
       "1             19479                   8      Y      Yes                 11   \n",
       "2             24907                   1      Y       No                 23   \n",
       "4              2396                   6      Y      Yes                 15   \n",
       "5             23159                   1      Y      Yes                 11   \n",
       "7             16632                   9      Y       No                 12   \n",
       "\n",
       "        PerformanceRating  RelationshipSatisfaction  StandardHours  \\\n",
       "Emp.ID                                                               \n",
       "1                       3                         1             80   \n",
       "2                       4                         4             80   \n",
       "4                       3                         2             80   \n",
       "5                       3                         3             80   \n",
       "7                       3                         4             80   \n",
       "\n",
       "        StockOptionLevel  TotalWorkingYears  TrainingTimesLastYear  \\\n",
       "Emp.ID                                                               \n",
       "1                      0                  8                      0   \n",
       "2                      1                 10                      3   \n",
       "4                      0                  7                      3   \n",
       "5                      0                  8                      3   \n",
       "7                      1                  6                      3   \n",
       "\n",
       "        WorkLifeBalance  YearsAtCompany  YearsInCurrentRole  \\\n",
       "Emp.ID                                                        \n",
       "1                     1               6                   4   \n",
       "2                     3              10                   7   \n",
       "4                     3               0                   0   \n",
       "5                     3               8                   7   \n",
       "7                     3               2                   2   \n",
       "\n",
       "        YearsSinceLastPromotion  YearsWithCurrManager  target  \n",
       "Emp.ID                                                         \n",
       "1                             0                     5       1  \n",
       "2                             1                     7       0  \n",
       "4                             0                     0       1  \n",
       "5                             3                     0       0  \n",
       "7                             2                     2       0  "
      ]
     },
     "execution_count": 890,
     "metadata": {},
     "output_type": "execute_result"
    }
   ],
   "source": [
    "df = df.set_index('EmployeeNumber')\n",
    "df.index.names = ['Emp.ID']\n",
    "df.head()"
   ]
  },
  {
   "cell_type": "markdown",
   "metadata": {},
   "source": [
    "### Defining Target & independent variables"
   ]
  },
  {
   "cell_type": "code",
   "execution_count": 891,
   "metadata": {
    "ExecuteTime": {
     "end_time": "2022-01-15T19:44:48.875307Z",
     "start_time": "2022-01-15T19:44:48.862292Z"
    }
   },
   "outputs": [],
   "source": [
    "X = df.drop('target', axis=1)\n",
    "y = df.target"
   ]
  },
  {
   "cell_type": "markdown",
   "metadata": {},
   "source": [
    "### analyse Target Variable"
   ]
  },
  {
   "cell_type": "code",
   "execution_count": 892,
   "metadata": {
    "ExecuteTime": {
     "end_time": "2022-01-15T19:44:48.890979Z",
     "start_time": "2022-01-15T19:44:48.877251Z"
    }
   },
   "outputs": [
    {
     "data": {
      "text/plain": [
       "count    1470.000000\n",
       "mean        0.161224\n",
       "std         0.367863\n",
       "min         0.000000\n",
       "25%         0.000000\n",
       "50%         0.000000\n",
       "75%         0.000000\n",
       "max         1.000000\n",
       "Name: target, dtype: float64"
      ]
     },
     "execution_count": 892,
     "metadata": {},
     "output_type": "execute_result"
    }
   ],
   "source": [
    "y.describe()"
   ]
  },
  {
   "cell_type": "code",
   "execution_count": 893,
   "metadata": {
    "ExecuteTime": {
     "end_time": "2022-01-15T19:44:48.906175Z",
     "start_time": "2022-01-15T19:44:48.893431Z"
    }
   },
   "outputs": [
    {
     "data": {
      "text/plain": [
       "0    1233\n",
       "1     237\n",
       "Name: target, dtype: int64"
      ]
     },
     "execution_count": 893,
     "metadata": {},
     "output_type": "execute_result"
    }
   ],
   "source": [
    "y.value_counts()"
   ]
  },
  {
   "cell_type": "code",
   "execution_count": 894,
   "metadata": {
    "ExecuteTime": {
     "end_time": "2022-01-15T19:44:48.922132Z",
     "start_time": "2022-01-15T19:44:48.908169Z"
    }
   },
   "outputs": [
    {
     "data": {
      "text/plain": [
       "('Imbalance', 0.16122448979591836)"
      ]
     },
     "execution_count": 894,
     "metadata": {},
     "output_type": "execute_result"
    }
   ],
   "source": [
    "# check if target variable is imbalance\n",
    "('Imbalance',y.mean()) if y.mean() not in range(40,60) else ('Balanced',y.mean())"
   ]
  },
  {
   "cell_type": "markdown",
   "metadata": {},
   "source": [
    "> - In such type of problems its expected to have imbalaced target feature, we will work on it later"
   ]
  },
  {
   "cell_type": "markdown",
   "metadata": {},
   "source": [
    "### Split Features in Numeric & categorical features"
   ]
  },
  {
   "cell_type": "code",
   "execution_count": 895,
   "metadata": {
    "ExecuteTime": {
     "end_time": "2022-01-15T19:44:48.937092Z",
     "start_time": "2022-01-15T19:44:48.924127Z"
    }
   },
   "outputs": [],
   "source": [
    "num = X.select_dtypes(include='number')\n",
    "cat = X.select_dtypes(include='object')"
   ]
  },
  {
   "cell_type": "code",
   "execution_count": 896,
   "metadata": {
    "ExecuteTime": {
     "end_time": "2022-01-15T19:44:48.968009Z",
     "start_time": "2022-01-15T19:44:48.939086Z"
    },
    "scrolled": false
   },
   "outputs": [
    {
     "data": {
      "text/html": [
       "<div>\n",
       "<style scoped>\n",
       "    .dataframe tbody tr th:only-of-type {\n",
       "        vertical-align: middle;\n",
       "    }\n",
       "\n",
       "    .dataframe tbody tr th {\n",
       "        vertical-align: top;\n",
       "    }\n",
       "\n",
       "    .dataframe thead th {\n",
       "        text-align: right;\n",
       "    }\n",
       "</style>\n",
       "<table border=\"1\" class=\"dataframe\">\n",
       "  <thead>\n",
       "    <tr style=\"text-align: right;\">\n",
       "      <th></th>\n",
       "      <th>Age</th>\n",
       "      <th>DailyRate</th>\n",
       "      <th>DistanceFromHome</th>\n",
       "      <th>Education</th>\n",
       "      <th>EmployeeCount</th>\n",
       "      <th>EnvironmentSatisfaction</th>\n",
       "      <th>HourlyRate</th>\n",
       "      <th>JobInvolvement</th>\n",
       "      <th>JobLevel</th>\n",
       "      <th>JobSatisfaction</th>\n",
       "      <th>MonthlyIncome</th>\n",
       "      <th>MonthlyRate</th>\n",
       "      <th>NumCompaniesWorked</th>\n",
       "      <th>PercentSalaryHike</th>\n",
       "      <th>PerformanceRating</th>\n",
       "      <th>RelationshipSatisfaction</th>\n",
       "      <th>StandardHours</th>\n",
       "      <th>StockOptionLevel</th>\n",
       "      <th>TotalWorkingYears</th>\n",
       "      <th>TrainingTimesLastYear</th>\n",
       "      <th>WorkLifeBalance</th>\n",
       "      <th>YearsAtCompany</th>\n",
       "      <th>YearsInCurrentRole</th>\n",
       "      <th>YearsSinceLastPromotion</th>\n",
       "      <th>YearsWithCurrManager</th>\n",
       "    </tr>\n",
       "    <tr>\n",
       "      <th>Emp.ID</th>\n",
       "      <th></th>\n",
       "      <th></th>\n",
       "      <th></th>\n",
       "      <th></th>\n",
       "      <th></th>\n",
       "      <th></th>\n",
       "      <th></th>\n",
       "      <th></th>\n",
       "      <th></th>\n",
       "      <th></th>\n",
       "      <th></th>\n",
       "      <th></th>\n",
       "      <th></th>\n",
       "      <th></th>\n",
       "      <th></th>\n",
       "      <th></th>\n",
       "      <th></th>\n",
       "      <th></th>\n",
       "      <th></th>\n",
       "      <th></th>\n",
       "      <th></th>\n",
       "      <th></th>\n",
       "      <th></th>\n",
       "      <th></th>\n",
       "      <th></th>\n",
       "    </tr>\n",
       "  </thead>\n",
       "  <tbody>\n",
       "    <tr>\n",
       "      <th>321</th>\n",
       "      <td>59</td>\n",
       "      <td>818</td>\n",
       "      <td>6</td>\n",
       "      <td>2</td>\n",
       "      <td>1</td>\n",
       "      <td>2</td>\n",
       "      <td>52</td>\n",
       "      <td>3</td>\n",
       "      <td>1</td>\n",
       "      <td>3</td>\n",
       "      <td>2267</td>\n",
       "      <td>25657</td>\n",
       "      <td>8</td>\n",
       "      <td>17</td>\n",
       "      <td>3</td>\n",
       "      <td>4</td>\n",
       "      <td>80</td>\n",
       "      <td>0</td>\n",
       "      <td>7</td>\n",
       "      <td>2</td>\n",
       "      <td>2</td>\n",
       "      <td>2</td>\n",
       "      <td>2</td>\n",
       "      <td>2</td>\n",
       "      <td>2</td>\n",
       "    </tr>\n",
       "    <tr>\n",
       "      <th>1997</th>\n",
       "      <td>38</td>\n",
       "      <td>508</td>\n",
       "      <td>6</td>\n",
       "      <td>4</td>\n",
       "      <td>1</td>\n",
       "      <td>1</td>\n",
       "      <td>72</td>\n",
       "      <td>2</td>\n",
       "      <td>2</td>\n",
       "      <td>3</td>\n",
       "      <td>5321</td>\n",
       "      <td>14284</td>\n",
       "      <td>2</td>\n",
       "      <td>11</td>\n",
       "      <td>3</td>\n",
       "      <td>4</td>\n",
       "      <td>80</td>\n",
       "      <td>1</td>\n",
       "      <td>10</td>\n",
       "      <td>1</td>\n",
       "      <td>3</td>\n",
       "      <td>8</td>\n",
       "      <td>3</td>\n",
       "      <td>7</td>\n",
       "      <td>7</td>\n",
       "    </tr>\n",
       "    <tr>\n",
       "      <th>644</th>\n",
       "      <td>50</td>\n",
       "      <td>1246</td>\n",
       "      <td>3</td>\n",
       "      <td>3</td>\n",
       "      <td>1</td>\n",
       "      <td>1</td>\n",
       "      <td>99</td>\n",
       "      <td>3</td>\n",
       "      <td>5</td>\n",
       "      <td>2</td>\n",
       "      <td>18200</td>\n",
       "      <td>7999</td>\n",
       "      <td>1</td>\n",
       "      <td>11</td>\n",
       "      <td>3</td>\n",
       "      <td>3</td>\n",
       "      <td>80</td>\n",
       "      <td>1</td>\n",
       "      <td>32</td>\n",
       "      <td>2</td>\n",
       "      <td>3</td>\n",
       "      <td>32</td>\n",
       "      <td>5</td>\n",
       "      <td>10</td>\n",
       "      <td>7</td>\n",
       "    </tr>\n",
       "    <tr>\n",
       "      <th>175</th>\n",
       "      <td>31</td>\n",
       "      <td>542</td>\n",
       "      <td>20</td>\n",
       "      <td>3</td>\n",
       "      <td>1</td>\n",
       "      <td>2</td>\n",
       "      <td>71</td>\n",
       "      <td>1</td>\n",
       "      <td>2</td>\n",
       "      <td>3</td>\n",
       "      <td>4559</td>\n",
       "      <td>24788</td>\n",
       "      <td>3</td>\n",
       "      <td>11</td>\n",
       "      <td>3</td>\n",
       "      <td>3</td>\n",
       "      <td>80</td>\n",
       "      <td>1</td>\n",
       "      <td>4</td>\n",
       "      <td>2</td>\n",
       "      <td>3</td>\n",
       "      <td>2</td>\n",
       "      <td>2</td>\n",
       "      <td>2</td>\n",
       "      <td>2</td>\n",
       "    </tr>\n",
       "    <tr>\n",
       "      <th>1787</th>\n",
       "      <td>37</td>\n",
       "      <td>589</td>\n",
       "      <td>9</td>\n",
       "      <td>2</td>\n",
       "      <td>1</td>\n",
       "      <td>2</td>\n",
       "      <td>46</td>\n",
       "      <td>2</td>\n",
       "      <td>2</td>\n",
       "      <td>2</td>\n",
       "      <td>4189</td>\n",
       "      <td>8800</td>\n",
       "      <td>1</td>\n",
       "      <td>14</td>\n",
       "      <td>3</td>\n",
       "      <td>1</td>\n",
       "      <td>80</td>\n",
       "      <td>2</td>\n",
       "      <td>5</td>\n",
       "      <td>2</td>\n",
       "      <td>3</td>\n",
       "      <td>5</td>\n",
       "      <td>2</td>\n",
       "      <td>0</td>\n",
       "      <td>3</td>\n",
       "    </tr>\n",
       "  </tbody>\n",
       "</table>\n",
       "</div>"
      ],
      "text/plain": [
       "        Age  DailyRate  DistanceFromHome  Education  EmployeeCount  \\\n",
       "Emp.ID                                                               \n",
       "321      59        818                 6          2              1   \n",
       "1997     38        508                 6          4              1   \n",
       "644      50       1246                 3          3              1   \n",
       "175      31        542                20          3              1   \n",
       "1787     37        589                 9          2              1   \n",
       "\n",
       "        EnvironmentSatisfaction  HourlyRate  JobInvolvement  JobLevel  \\\n",
       "Emp.ID                                                                  \n",
       "321                           2          52               3         1   \n",
       "1997                          1          72               2         2   \n",
       "644                           1          99               3         5   \n",
       "175                           2          71               1         2   \n",
       "1787                          2          46               2         2   \n",
       "\n",
       "        JobSatisfaction  MonthlyIncome  MonthlyRate  NumCompaniesWorked  \\\n",
       "Emp.ID                                                                    \n",
       "321                   3           2267        25657                   8   \n",
       "1997                  3           5321        14284                   2   \n",
       "644                   2          18200         7999                   1   \n",
       "175                   3           4559        24788                   3   \n",
       "1787                  2           4189         8800                   1   \n",
       "\n",
       "        PercentSalaryHike  PerformanceRating  RelationshipSatisfaction  \\\n",
       "Emp.ID                                                                   \n",
       "321                    17                  3                         4   \n",
       "1997                   11                  3                         4   \n",
       "644                    11                  3                         3   \n",
       "175                    11                  3                         3   \n",
       "1787                   14                  3                         1   \n",
       "\n",
       "        StandardHours  StockOptionLevel  TotalWorkingYears  \\\n",
       "Emp.ID                                                       \n",
       "321                80                 0                  7   \n",
       "1997               80                 1                 10   \n",
       "644                80                 1                 32   \n",
       "175                80                 1                  4   \n",
       "1787               80                 2                  5   \n",
       "\n",
       "        TrainingTimesLastYear  WorkLifeBalance  YearsAtCompany  \\\n",
       "Emp.ID                                                           \n",
       "321                         2                2               2   \n",
       "1997                        1                3               8   \n",
       "644                         2                3              32   \n",
       "175                         2                3               2   \n",
       "1787                        2                3               5   \n",
       "\n",
       "        YearsInCurrentRole  YearsSinceLastPromotion  YearsWithCurrManager  \n",
       "Emp.ID                                                                     \n",
       "321                      2                        2                     2  \n",
       "1997                     3                        7                     7  \n",
       "644                      5                       10                     7  \n",
       "175                      2                        2                     2  \n",
       "1787                     2                        0                     3  "
      ]
     },
     "execution_count": 896,
     "metadata": {},
     "output_type": "execute_result"
    }
   ],
   "source": [
    "num.sample(5)"
   ]
  },
  {
   "cell_type": "code",
   "execution_count": 897,
   "metadata": {
    "ExecuteTime": {
     "end_time": "2022-01-15T19:44:48.983966Z",
     "start_time": "2022-01-15T19:44:48.970005Z"
    }
   },
   "outputs": [
    {
     "data": {
      "text/plain": [
       "(1470, 25)"
      ]
     },
     "execution_count": 897,
     "metadata": {},
     "output_type": "execute_result"
    }
   ],
   "source": [
    "num.shape"
   ]
  },
  {
   "cell_type": "code",
   "execution_count": 898,
   "metadata": {
    "ExecuteTime": {
     "end_time": "2022-01-15T19:44:48.999954Z",
     "start_time": "2022-01-15T19:44:48.984965Z"
    },
    "scrolled": true
   },
   "outputs": [
    {
     "data": {
      "text/html": [
       "<div>\n",
       "<style scoped>\n",
       "    .dataframe tbody tr th:only-of-type {\n",
       "        vertical-align: middle;\n",
       "    }\n",
       "\n",
       "    .dataframe tbody tr th {\n",
       "        vertical-align: top;\n",
       "    }\n",
       "\n",
       "    .dataframe thead th {\n",
       "        text-align: right;\n",
       "    }\n",
       "</style>\n",
       "<table border=\"1\" class=\"dataframe\">\n",
       "  <thead>\n",
       "    <tr style=\"text-align: right;\">\n",
       "      <th></th>\n",
       "      <th>BusinessTravel</th>\n",
       "      <th>Department</th>\n",
       "      <th>EducationField</th>\n",
       "      <th>Gender</th>\n",
       "      <th>JobRole</th>\n",
       "      <th>MaritalStatus</th>\n",
       "      <th>Over18</th>\n",
       "      <th>OverTime</th>\n",
       "    </tr>\n",
       "    <tr>\n",
       "      <th>Emp.ID</th>\n",
       "      <th></th>\n",
       "      <th></th>\n",
       "      <th></th>\n",
       "      <th></th>\n",
       "      <th></th>\n",
       "      <th></th>\n",
       "      <th></th>\n",
       "      <th></th>\n",
       "    </tr>\n",
       "  </thead>\n",
       "  <tbody>\n",
       "    <tr>\n",
       "      <th>1487</th>\n",
       "      <td>Travel_Frequently</td>\n",
       "      <td>Sales</td>\n",
       "      <td>Technical Degree</td>\n",
       "      <td>Female</td>\n",
       "      <td>Sales Executive</td>\n",
       "      <td>Single</td>\n",
       "      <td>Y</td>\n",
       "      <td>No</td>\n",
       "    </tr>\n",
       "    <tr>\n",
       "      <th>1786</th>\n",
       "      <td>Travel_Rarely</td>\n",
       "      <td>Research &amp; Development</td>\n",
       "      <td>Technical Degree</td>\n",
       "      <td>Female</td>\n",
       "      <td>Manager</td>\n",
       "      <td>Married</td>\n",
       "      <td>Y</td>\n",
       "      <td>No</td>\n",
       "    </tr>\n",
       "    <tr>\n",
       "      <th>1115</th>\n",
       "      <td>Non-Travel</td>\n",
       "      <td>Research &amp; Development</td>\n",
       "      <td>Life Sciences</td>\n",
       "      <td>Male</td>\n",
       "      <td>Research Scientist</td>\n",
       "      <td>Married</td>\n",
       "      <td>Y</td>\n",
       "      <td>No</td>\n",
       "    </tr>\n",
       "    <tr>\n",
       "      <th>197</th>\n",
       "      <td>Travel_Rarely</td>\n",
       "      <td>Research &amp; Development</td>\n",
       "      <td>Technical Degree</td>\n",
       "      <td>Female</td>\n",
       "      <td>Research Scientist</td>\n",
       "      <td>Divorced</td>\n",
       "      <td>Y</td>\n",
       "      <td>No</td>\n",
       "    </tr>\n",
       "    <tr>\n",
       "      <th>242</th>\n",
       "      <td>Travel_Rarely</td>\n",
       "      <td>Research &amp; Development</td>\n",
       "      <td>Life Sciences</td>\n",
       "      <td>Male</td>\n",
       "      <td>Research Scientist</td>\n",
       "      <td>Single</td>\n",
       "      <td>Y</td>\n",
       "      <td>No</td>\n",
       "    </tr>\n",
       "  </tbody>\n",
       "</table>\n",
       "</div>"
      ],
      "text/plain": [
       "           BusinessTravel              Department    EducationField  Gender  \\\n",
       "Emp.ID                                                                        \n",
       "1487    Travel_Frequently                   Sales  Technical Degree  Female   \n",
       "1786        Travel_Rarely  Research & Development  Technical Degree  Female   \n",
       "1115           Non-Travel  Research & Development     Life Sciences    Male   \n",
       "197         Travel_Rarely  Research & Development  Technical Degree  Female   \n",
       "242         Travel_Rarely  Research & Development     Life Sciences    Male   \n",
       "\n",
       "                   JobRole MaritalStatus Over18 OverTime  \n",
       "Emp.ID                                                    \n",
       "1487       Sales Executive        Single      Y       No  \n",
       "1786               Manager       Married      Y       No  \n",
       "1115    Research Scientist       Married      Y       No  \n",
       "197     Research Scientist      Divorced      Y       No  \n",
       "242     Research Scientist        Single      Y       No  "
      ]
     },
     "execution_count": 898,
     "metadata": {},
     "output_type": "execute_result"
    }
   ],
   "source": [
    "cat.sample(5)"
   ]
  },
  {
   "cell_type": "code",
   "execution_count": 899,
   "metadata": {
    "ExecuteTime": {
     "end_time": "2022-01-15T19:44:49.015907Z",
     "start_time": "2022-01-15T19:44:49.001920Z"
    }
   },
   "outputs": [
    {
     "data": {
      "text/plain": [
       "(1470, 8)"
      ]
     },
     "execution_count": 899,
     "metadata": {},
     "output_type": "execute_result"
    }
   ],
   "source": [
    "cat.shape"
   ]
  },
  {
   "cell_type": "markdown",
   "metadata": {},
   "source": [
    "### Feature Selection\n",
    "#### Part 1. Remove feature with 0 variance"
   ]
  },
  {
   "cell_type": "code",
   "execution_count": 900,
   "metadata": {
    "ExecuteTime": {
     "end_time": "2022-01-15T19:44:49.031846Z",
     "start_time": "2022-01-15T19:44:49.016879Z"
    }
   },
   "outputs": [],
   "source": [
    "from sklearn.feature_selection import VarianceThreshold"
   ]
  },
  {
   "cell_type": "code",
   "execution_count": 901,
   "metadata": {
    "ExecuteTime": {
     "end_time": "2022-01-15T19:44:49.061761Z",
     "start_time": "2022-01-15T19:44:49.036825Z"
    }
   },
   "outputs": [
    {
     "data": {
      "text/plain": [
       "(1470, 23)"
      ]
     },
     "execution_count": 901,
     "metadata": {},
     "output_type": "execute_result"
    }
   ],
   "source": [
    "var_sel = VarianceThreshold(threshold=0)\n",
    "var_sel.fit_transform(num)\n",
    "cols = var_sel.get_support(indices=False)\n",
    "num1 = num.iloc[:,cols]\n",
    "num1.shape"
   ]
  },
  {
   "cell_type": "code",
   "execution_count": 902,
   "metadata": {
    "ExecuteTime": {
     "end_time": "2022-01-15T19:44:49.077717Z",
     "start_time": "2022-01-15T19:44:49.064356Z"
    }
   },
   "outputs": [
    {
     "data": {
      "text/plain": [
       "(1470, 25)"
      ]
     },
     "execution_count": 902,
     "metadata": {},
     "output_type": "execute_result"
    }
   ],
   "source": [
    "num.shape #--- 2 Features with 0 Varaince dropped by VarianceThreshold"
   ]
  },
  {
   "cell_type": "markdown",
   "metadata": {
    "ExecuteTime": {
     "end_time": "2022-01-14T09:59:02.542801Z",
     "start_time": "2022-01-14T09:59:02.526287Z"
    }
   },
   "source": [
    "### Identify discrete features from numerical features"
   ]
  },
  {
   "cell_type": "code",
   "execution_count": 903,
   "metadata": {
    "ExecuteTime": {
     "end_time": "2022-01-15T19:44:49.093673Z",
     "start_time": "2022-01-15T19:44:49.078712Z"
    }
   },
   "outputs": [],
   "source": [
    "descrete_cols = [col for col in num1.columns if num[col].nunique()<=10]"
   ]
  },
  {
   "cell_type": "code",
   "execution_count": 904,
   "metadata": {
    "ExecuteTime": {
     "end_time": "2022-01-15T19:44:49.109751Z",
     "start_time": "2022-01-15T19:44:49.095779Z"
    }
   },
   "outputs": [
    {
     "data": {
      "text/plain": [
       "(1470, 11)"
      ]
     },
     "execution_count": 904,
     "metadata": {},
     "output_type": "execute_result"
    }
   ],
   "source": [
    "descrete = num1[descrete_cols]\n",
    "descrete.shape"
   ]
  },
  {
   "cell_type": "code",
   "execution_count": 905,
   "metadata": {
    "ExecuteTime": {
     "end_time": "2022-01-15T19:44:49.124796Z",
     "start_time": "2022-01-15T19:44:49.111626Z"
    }
   },
   "outputs": [],
   "source": [
    "# joining descrete & catagorical\n",
    "cat_with_descrete = pd.concat((cat,descrete),axis=1)"
   ]
  },
  {
   "cell_type": "code",
   "execution_count": 906,
   "metadata": {
    "ExecuteTime": {
     "end_time": "2022-01-15T19:44:49.140547Z",
     "start_time": "2022-01-15T19:44:49.126586Z"
    }
   },
   "outputs": [
    {
     "data": {
      "text/plain": [
       "(1470, 19)"
      ]
     },
     "execution_count": 906,
     "metadata": {},
     "output_type": "execute_result"
    }
   ],
   "source": [
    "cat_with_descrete.shape"
   ]
  },
  {
   "cell_type": "code",
   "execution_count": 907,
   "metadata": {
    "ExecuteTime": {
     "end_time": "2022-01-15T19:44:49.155986Z",
     "start_time": "2022-01-15T19:44:49.142611Z"
    }
   },
   "outputs": [],
   "source": [
    "# remaining Numerical features\n",
    "num1 = num1.drop(descrete_cols,axis=1)"
   ]
  },
  {
   "cell_type": "code",
   "execution_count": 908,
   "metadata": {
    "ExecuteTime": {
     "end_time": "2022-01-15T19:44:49.171465Z",
     "start_time": "2022-01-15T19:44:49.158499Z"
    }
   },
   "outputs": [
    {
     "data": {
      "text/plain": [
       "(1470, 12)"
      ]
     },
     "execution_count": 908,
     "metadata": {},
     "output_type": "execute_result"
    }
   ],
   "source": [
    "num1.shape"
   ]
  },
  {
   "cell_type": "markdown",
   "metadata": {},
   "source": [
    "### Outlier removal by considering only 1 to 99 percetile values"
   ]
  },
  {
   "cell_type": "code",
   "execution_count": 909,
   "metadata": {
    "ExecuteTime": {
     "end_time": "2022-01-15T19:44:49.186672Z",
     "start_time": "2022-01-15T19:44:49.173460Z"
    }
   },
   "outputs": [],
   "source": [
    "def outlier_remove(x):\n",
    "    x = x.clip(lower=x.quantile(0.01))\n",
    "    x = x.clip(upper=x.quantile(0.99))\n",
    "    return x"
   ]
  },
  {
   "cell_type": "code",
   "execution_count": 910,
   "metadata": {
    "ExecuteTime": {
     "end_time": "2022-01-15T19:44:49.233350Z",
     "start_time": "2022-01-15T19:44:49.188420Z"
    }
   },
   "outputs": [],
   "source": [
    "num_wo_outlier = num1.apply(lambda x: outlier_remove(x))"
   ]
  },
  {
   "cell_type": "code",
   "execution_count": 911,
   "metadata": {
    "ExecuteTime": {
     "end_time": "2022-01-15T19:44:49.295281Z",
     "start_time": "2022-01-15T19:44:49.235294Z"
    }
   },
   "outputs": [
    {
     "data": {
      "text/html": [
       "<div>\n",
       "<style scoped>\n",
       "    .dataframe tbody tr th:only-of-type {\n",
       "        vertical-align: middle;\n",
       "    }\n",
       "\n",
       "    .dataframe tbody tr th {\n",
       "        vertical-align: top;\n",
       "    }\n",
       "\n",
       "    .dataframe thead th {\n",
       "        text-align: right;\n",
       "    }\n",
       "</style>\n",
       "<table border=\"1\" class=\"dataframe\">\n",
       "  <thead>\n",
       "    <tr style=\"text-align: right;\">\n",
       "      <th></th>\n",
       "      <th>Age</th>\n",
       "      <th>DailyRate</th>\n",
       "      <th>DistanceFromHome</th>\n",
       "      <th>HourlyRate</th>\n",
       "      <th>MonthlyIncome</th>\n",
       "      <th>MonthlyRate</th>\n",
       "      <th>PercentSalaryHike</th>\n",
       "      <th>TotalWorkingYears</th>\n",
       "      <th>YearsAtCompany</th>\n",
       "      <th>YearsInCurrentRole</th>\n",
       "      <th>YearsSinceLastPromotion</th>\n",
       "      <th>YearsWithCurrManager</th>\n",
       "    </tr>\n",
       "  </thead>\n",
       "  <tbody>\n",
       "    <tr>\n",
       "      <th>count</th>\n",
       "      <td>1470.000000</td>\n",
       "      <td>1470.000000</td>\n",
       "      <td>1470.000000</td>\n",
       "      <td>1470.000000</td>\n",
       "      <td>1470.000000</td>\n",
       "      <td>1470.000000</td>\n",
       "      <td>1470.000000</td>\n",
       "      <td>1470.000000</td>\n",
       "      <td>1470.000000</td>\n",
       "      <td>1470.000000</td>\n",
       "      <td>1470.000000</td>\n",
       "      <td>1470.000000</td>\n",
       "    </tr>\n",
       "    <tr>\n",
       "      <th>mean</th>\n",
       "      <td>36.918810</td>\n",
       "      <td>802.482993</td>\n",
       "      <td>9.192517</td>\n",
       "      <td>65.891156</td>\n",
       "      <td>6503.407177</td>\n",
       "      <td>14312.602483</td>\n",
       "      <td>15.209524</td>\n",
       "      <td>11.268707</td>\n",
       "      <td>6.980272</td>\n",
       "      <td>4.214966</td>\n",
       "      <td>2.178912</td>\n",
       "      <td>4.102721</td>\n",
       "    </tr>\n",
       "    <tr>\n",
       "      <th>std</th>\n",
       "      <td>9.099146</td>\n",
       "      <td>403.260237</td>\n",
       "      <td>8.106864</td>\n",
       "      <td>20.329428</td>\n",
       "      <td>4700.530849</td>\n",
       "      <td>7112.052810</td>\n",
       "      <td>3.659938</td>\n",
       "      <td>7.710507</td>\n",
       "      <td>6.004901</td>\n",
       "      <td>3.576459</td>\n",
       "      <td>3.188426</td>\n",
       "      <td>3.503717</td>\n",
       "    </tr>\n",
       "    <tr>\n",
       "      <th>min</th>\n",
       "      <td>19.000000</td>\n",
       "      <td>117.000000</td>\n",
       "      <td>1.000000</td>\n",
       "      <td>30.000000</td>\n",
       "      <td>1382.460000</td>\n",
       "      <td>2325.070000</td>\n",
       "      <td>11.000000</td>\n",
       "      <td>1.000000</td>\n",
       "      <td>0.000000</td>\n",
       "      <td>0.000000</td>\n",
       "      <td>0.000000</td>\n",
       "      <td>0.000000</td>\n",
       "    </tr>\n",
       "    <tr>\n",
       "      <th>1%</th>\n",
       "      <td>19.000000</td>\n",
       "      <td>117.000000</td>\n",
       "      <td>1.000000</td>\n",
       "      <td>30.000000</td>\n",
       "      <td>1389.732600</td>\n",
       "      <td>2325.711700</td>\n",
       "      <td>11.000000</td>\n",
       "      <td>1.000000</td>\n",
       "      <td>0.000000</td>\n",
       "      <td>0.000000</td>\n",
       "      <td>0.000000</td>\n",
       "      <td>0.000000</td>\n",
       "    </tr>\n",
       "    <tr>\n",
       "      <th>50%</th>\n",
       "      <td>36.000000</td>\n",
       "      <td>802.000000</td>\n",
       "      <td>7.000000</td>\n",
       "      <td>66.000000</td>\n",
       "      <td>4919.000000</td>\n",
       "      <td>14235.500000</td>\n",
       "      <td>14.000000</td>\n",
       "      <td>10.000000</td>\n",
       "      <td>5.000000</td>\n",
       "      <td>3.000000</td>\n",
       "      <td>1.000000</td>\n",
       "      <td>3.000000</td>\n",
       "    </tr>\n",
       "    <tr>\n",
       "      <th>99%</th>\n",
       "      <td>58.096100</td>\n",
       "      <td>1485.000000</td>\n",
       "      <td>29.000000</td>\n",
       "      <td>100.000000</td>\n",
       "      <td>19626.096100</td>\n",
       "      <td>26703.384400</td>\n",
       "      <td>25.000000</td>\n",
       "      <td>35.000000</td>\n",
       "      <td>31.000000</td>\n",
       "      <td>15.000000</td>\n",
       "      <td>14.000000</td>\n",
       "      <td>14.000000</td>\n",
       "    </tr>\n",
       "    <tr>\n",
       "      <th>max</th>\n",
       "      <td>58.310000</td>\n",
       "      <td>1485.000000</td>\n",
       "      <td>29.000000</td>\n",
       "      <td>100.000000</td>\n",
       "      <td>19626.310000</td>\n",
       "      <td>26704.240000</td>\n",
       "      <td>25.000000</td>\n",
       "      <td>35.000000</td>\n",
       "      <td>31.000000</td>\n",
       "      <td>15.000000</td>\n",
       "      <td>14.000000</td>\n",
       "      <td>14.000000</td>\n",
       "    </tr>\n",
       "    <tr>\n",
       "      <th>unique</th>\n",
       "      <td>41.000000</td>\n",
       "      <td>869.000000</td>\n",
       "      <td>29.000000</td>\n",
       "      <td>71.000000</td>\n",
       "      <td>1321.000000</td>\n",
       "      <td>1400.000000</td>\n",
       "      <td>15.000000</td>\n",
       "      <td>35.000000</td>\n",
       "      <td>31.000000</td>\n",
       "      <td>16.000000</td>\n",
       "      <td>15.000000</td>\n",
       "      <td>15.000000</td>\n",
       "    </tr>\n",
       "  </tbody>\n",
       "</table>\n",
       "</div>"
      ],
      "text/plain": [
       "                Age    DailyRate  DistanceFromHome   HourlyRate  \\\n",
       "count   1470.000000  1470.000000       1470.000000  1470.000000   \n",
       "mean      36.918810   802.482993          9.192517    65.891156   \n",
       "std        9.099146   403.260237          8.106864    20.329428   \n",
       "min       19.000000   117.000000          1.000000    30.000000   \n",
       "1%        19.000000   117.000000          1.000000    30.000000   \n",
       "50%       36.000000   802.000000          7.000000    66.000000   \n",
       "99%       58.096100  1485.000000         29.000000   100.000000   \n",
       "max       58.310000  1485.000000         29.000000   100.000000   \n",
       "unique    41.000000   869.000000         29.000000    71.000000   \n",
       "\n",
       "        MonthlyIncome   MonthlyRate  PercentSalaryHike  TotalWorkingYears  \\\n",
       "count     1470.000000   1470.000000        1470.000000        1470.000000   \n",
       "mean      6503.407177  14312.602483          15.209524          11.268707   \n",
       "std       4700.530849   7112.052810           3.659938           7.710507   \n",
       "min       1382.460000   2325.070000          11.000000           1.000000   \n",
       "1%        1389.732600   2325.711700          11.000000           1.000000   \n",
       "50%       4919.000000  14235.500000          14.000000          10.000000   \n",
       "99%      19626.096100  26703.384400          25.000000          35.000000   \n",
       "max      19626.310000  26704.240000          25.000000          35.000000   \n",
       "unique    1321.000000   1400.000000          15.000000          35.000000   \n",
       "\n",
       "        YearsAtCompany  YearsInCurrentRole  YearsSinceLastPromotion  \\\n",
       "count      1470.000000         1470.000000              1470.000000   \n",
       "mean          6.980272            4.214966                 2.178912   \n",
       "std           6.004901            3.576459                 3.188426   \n",
       "min           0.000000            0.000000                 0.000000   \n",
       "1%            0.000000            0.000000                 0.000000   \n",
       "50%           5.000000            3.000000                 1.000000   \n",
       "99%          31.000000           15.000000                14.000000   \n",
       "max          31.000000           15.000000                14.000000   \n",
       "unique       31.000000           16.000000                15.000000   \n",
       "\n",
       "        YearsWithCurrManager  \n",
       "count            1470.000000  \n",
       "mean                4.102721  \n",
       "std                 3.503717  \n",
       "min                 0.000000  \n",
       "1%                  0.000000  \n",
       "50%                 3.000000  \n",
       "99%                14.000000  \n",
       "max                14.000000  \n",
       "unique             15.000000  "
      ]
     },
     "execution_count": 911,
     "metadata": {},
     "output_type": "execute_result"
    }
   ],
   "source": [
    "Describe(num_wo_outlier)"
   ]
  },
  {
   "cell_type": "code",
   "execution_count": 912,
   "metadata": {
    "ExecuteTime": {
     "end_time": "2022-01-15T19:44:49.358202Z",
     "start_time": "2022-01-15T19:44:49.296278Z"
    }
   },
   "outputs": [
    {
     "data": {
      "text/html": [
       "<div>\n",
       "<style scoped>\n",
       "    .dataframe tbody tr th:only-of-type {\n",
       "        vertical-align: middle;\n",
       "    }\n",
       "\n",
       "    .dataframe tbody tr th {\n",
       "        vertical-align: top;\n",
       "    }\n",
       "\n",
       "    .dataframe thead th {\n",
       "        text-align: right;\n",
       "    }\n",
       "</style>\n",
       "<table border=\"1\" class=\"dataframe\">\n",
       "  <thead>\n",
       "    <tr style=\"text-align: right;\">\n",
       "      <th></th>\n",
       "      <th>Age</th>\n",
       "      <th>DailyRate</th>\n",
       "      <th>DistanceFromHome</th>\n",
       "      <th>HourlyRate</th>\n",
       "      <th>MonthlyIncome</th>\n",
       "      <th>MonthlyRate</th>\n",
       "      <th>PercentSalaryHike</th>\n",
       "      <th>TotalWorkingYears</th>\n",
       "      <th>YearsAtCompany</th>\n",
       "      <th>YearsInCurrentRole</th>\n",
       "      <th>YearsSinceLastPromotion</th>\n",
       "      <th>YearsWithCurrManager</th>\n",
       "    </tr>\n",
       "  </thead>\n",
       "  <tbody>\n",
       "    <tr>\n",
       "      <th>count</th>\n",
       "      <td>1470.000000</td>\n",
       "      <td>1470.000000</td>\n",
       "      <td>1470.000000</td>\n",
       "      <td>1470.000000</td>\n",
       "      <td>1470.000000</td>\n",
       "      <td>1470.000000</td>\n",
       "      <td>1470.000000</td>\n",
       "      <td>1470.000000</td>\n",
       "      <td>1470.000000</td>\n",
       "      <td>1470.000000</td>\n",
       "      <td>1470.000000</td>\n",
       "      <td>1470.000000</td>\n",
       "    </tr>\n",
       "    <tr>\n",
       "      <th>mean</th>\n",
       "      <td>36.923810</td>\n",
       "      <td>802.485714</td>\n",
       "      <td>9.192517</td>\n",
       "      <td>65.891156</td>\n",
       "      <td>6502.931293</td>\n",
       "      <td>14313.103401</td>\n",
       "      <td>15.209524</td>\n",
       "      <td>11.279592</td>\n",
       "      <td>7.008163</td>\n",
       "      <td>4.229252</td>\n",
       "      <td>2.187755</td>\n",
       "      <td>4.123129</td>\n",
       "    </tr>\n",
       "    <tr>\n",
       "      <th>std</th>\n",
       "      <td>9.135373</td>\n",
       "      <td>403.509100</td>\n",
       "      <td>8.106864</td>\n",
       "      <td>20.329428</td>\n",
       "      <td>4707.956783</td>\n",
       "      <td>7117.786044</td>\n",
       "      <td>3.659938</td>\n",
       "      <td>7.780782</td>\n",
       "      <td>6.126525</td>\n",
       "      <td>3.623137</td>\n",
       "      <td>3.222430</td>\n",
       "      <td>3.568136</td>\n",
       "    </tr>\n",
       "    <tr>\n",
       "      <th>min</th>\n",
       "      <td>18.000000</td>\n",
       "      <td>102.000000</td>\n",
       "      <td>1.000000</td>\n",
       "      <td>30.000000</td>\n",
       "      <td>1009.000000</td>\n",
       "      <td>2094.000000</td>\n",
       "      <td>11.000000</td>\n",
       "      <td>0.000000</td>\n",
       "      <td>0.000000</td>\n",
       "      <td>0.000000</td>\n",
       "      <td>0.000000</td>\n",
       "      <td>0.000000</td>\n",
       "    </tr>\n",
       "    <tr>\n",
       "      <th>1%</th>\n",
       "      <td>19.000000</td>\n",
       "      <td>117.000000</td>\n",
       "      <td>1.000000</td>\n",
       "      <td>30.000000</td>\n",
       "      <td>1382.460000</td>\n",
       "      <td>2325.070000</td>\n",
       "      <td>11.000000</td>\n",
       "      <td>1.000000</td>\n",
       "      <td>0.000000</td>\n",
       "      <td>0.000000</td>\n",
       "      <td>0.000000</td>\n",
       "      <td>0.000000</td>\n",
       "    </tr>\n",
       "    <tr>\n",
       "      <th>50%</th>\n",
       "      <td>36.000000</td>\n",
       "      <td>802.000000</td>\n",
       "      <td>7.000000</td>\n",
       "      <td>66.000000</td>\n",
       "      <td>4919.000000</td>\n",
       "      <td>14235.500000</td>\n",
       "      <td>14.000000</td>\n",
       "      <td>10.000000</td>\n",
       "      <td>5.000000</td>\n",
       "      <td>3.000000</td>\n",
       "      <td>1.000000</td>\n",
       "      <td>3.000000</td>\n",
       "    </tr>\n",
       "    <tr>\n",
       "      <th>99%</th>\n",
       "      <td>58.310000</td>\n",
       "      <td>1485.000000</td>\n",
       "      <td>29.000000</td>\n",
       "      <td>100.000000</td>\n",
       "      <td>19626.310000</td>\n",
       "      <td>26704.240000</td>\n",
       "      <td>25.000000</td>\n",
       "      <td>35.000000</td>\n",
       "      <td>31.000000</td>\n",
       "      <td>15.000000</td>\n",
       "      <td>14.000000</td>\n",
       "      <td>14.000000</td>\n",
       "    </tr>\n",
       "    <tr>\n",
       "      <th>max</th>\n",
       "      <td>60.000000</td>\n",
       "      <td>1499.000000</td>\n",
       "      <td>29.000000</td>\n",
       "      <td>100.000000</td>\n",
       "      <td>19999.000000</td>\n",
       "      <td>26999.000000</td>\n",
       "      <td>25.000000</td>\n",
       "      <td>40.000000</td>\n",
       "      <td>40.000000</td>\n",
       "      <td>18.000000</td>\n",
       "      <td>15.000000</td>\n",
       "      <td>17.000000</td>\n",
       "    </tr>\n",
       "    <tr>\n",
       "      <th>unique</th>\n",
       "      <td>43.000000</td>\n",
       "      <td>886.000000</td>\n",
       "      <td>29.000000</td>\n",
       "      <td>71.000000</td>\n",
       "      <td>1349.000000</td>\n",
       "      <td>1427.000000</td>\n",
       "      <td>15.000000</td>\n",
       "      <td>40.000000</td>\n",
       "      <td>37.000000</td>\n",
       "      <td>19.000000</td>\n",
       "      <td>16.000000</td>\n",
       "      <td>18.000000</td>\n",
       "    </tr>\n",
       "  </tbody>\n",
       "</table>\n",
       "</div>"
      ],
      "text/plain": [
       "                Age    DailyRate  DistanceFromHome   HourlyRate  \\\n",
       "count   1470.000000  1470.000000       1470.000000  1470.000000   \n",
       "mean      36.923810   802.485714          9.192517    65.891156   \n",
       "std        9.135373   403.509100          8.106864    20.329428   \n",
       "min       18.000000   102.000000          1.000000    30.000000   \n",
       "1%        19.000000   117.000000          1.000000    30.000000   \n",
       "50%       36.000000   802.000000          7.000000    66.000000   \n",
       "99%       58.310000  1485.000000         29.000000   100.000000   \n",
       "max       60.000000  1499.000000         29.000000   100.000000   \n",
       "unique    43.000000   886.000000         29.000000    71.000000   \n",
       "\n",
       "        MonthlyIncome   MonthlyRate  PercentSalaryHike  TotalWorkingYears  \\\n",
       "count     1470.000000   1470.000000        1470.000000        1470.000000   \n",
       "mean      6502.931293  14313.103401          15.209524          11.279592   \n",
       "std       4707.956783   7117.786044           3.659938           7.780782   \n",
       "min       1009.000000   2094.000000          11.000000           0.000000   \n",
       "1%        1382.460000   2325.070000          11.000000           1.000000   \n",
       "50%       4919.000000  14235.500000          14.000000          10.000000   \n",
       "99%      19626.310000  26704.240000          25.000000          35.000000   \n",
       "max      19999.000000  26999.000000          25.000000          40.000000   \n",
       "unique    1349.000000   1427.000000          15.000000          40.000000   \n",
       "\n",
       "        YearsAtCompany  YearsInCurrentRole  YearsSinceLastPromotion  \\\n",
       "count      1470.000000         1470.000000              1470.000000   \n",
       "mean          7.008163            4.229252                 2.187755   \n",
       "std           6.126525            3.623137                 3.222430   \n",
       "min           0.000000            0.000000                 0.000000   \n",
       "1%            0.000000            0.000000                 0.000000   \n",
       "50%           5.000000            3.000000                 1.000000   \n",
       "99%          31.000000           15.000000                14.000000   \n",
       "max          40.000000           18.000000                15.000000   \n",
       "unique       37.000000           19.000000                16.000000   \n",
       "\n",
       "        YearsWithCurrManager  \n",
       "count            1470.000000  \n",
       "mean                4.123129  \n",
       "std                 3.568136  \n",
       "min                 0.000000  \n",
       "1%                  0.000000  \n",
       "50%                 3.000000  \n",
       "99%                14.000000  \n",
       "max                17.000000  \n",
       "unique             18.000000  "
      ]
     },
     "execution_count": 912,
     "metadata": {},
     "output_type": "execute_result"
    }
   ],
   "source": [
    "Describe(df[num1.columns])"
   ]
  },
  {
   "cell_type": "markdown",
   "metadata": {},
   "source": [
    "## Feature Selection\n",
    "### Section-1 Numerical Variable\n",
    "#### Part:2 - Bi-Variate Analysis (Feature Discretization)"
   ]
  },
  {
   "cell_type": "code",
   "execution_count": 914,
   "metadata": {
    "ExecuteTime": {
     "end_time": "2022-01-15T19:44:49.825181Z",
     "start_time": "2022-01-15T19:44:49.811148Z"
    }
   },
   "outputs": [],
   "source": [
    "from sklearn.preprocessing import KBinsDiscretizer"
   ]
  },
  {
   "cell_type": "code",
   "execution_count": 915,
   "metadata": {
    "ExecuteTime": {
     "end_time": "2022-01-15T19:44:49.840727Z",
     "start_time": "2022-01-15T19:44:49.826155Z"
    }
   },
   "outputs": [],
   "source": [
    "kbin = KBinsDiscretizer(n_bins=10, encode='ordinal', strategy='quantile')"
   ]
  },
  {
   "cell_type": "code",
   "execution_count": 916,
   "metadata": {
    "ExecuteTime": {
     "end_time": "2022-01-15T19:44:49.856650Z",
     "start_time": "2022-01-15T19:44:49.841654Z"
    }
   },
   "outputs": [],
   "source": [
    "kbin.fit(num_wo_outlier)\n",
    "num_bin = kbin.transform(num_wo_outlier)"
   ]
  },
  {
   "cell_type": "code",
   "execution_count": 917,
   "metadata": {
    "ExecuteTime": {
     "end_time": "2022-01-15T19:44:49.887530Z",
     "start_time": "2022-01-15T19:44:49.858615Z"
    },
    "scrolled": true
   },
   "outputs": [
    {
     "data": {
      "text/html": [
       "<div>\n",
       "<style scoped>\n",
       "    .dataframe tbody tr th:only-of-type {\n",
       "        vertical-align: middle;\n",
       "    }\n",
       "\n",
       "    .dataframe tbody tr th {\n",
       "        vertical-align: top;\n",
       "    }\n",
       "\n",
       "    .dataframe thead th {\n",
       "        text-align: right;\n",
       "    }\n",
       "</style>\n",
       "<table border=\"1\" class=\"dataframe\">\n",
       "  <thead>\n",
       "    <tr style=\"text-align: right;\">\n",
       "      <th></th>\n",
       "      <th>Age_Rank</th>\n",
       "      <th>DailyRate_Rank</th>\n",
       "      <th>DistanceFromHome_Rank</th>\n",
       "      <th>HourlyRate_Rank</th>\n",
       "      <th>MonthlyIncome_Rank</th>\n",
       "      <th>MonthlyRate_Rank</th>\n",
       "      <th>PercentSalaryHike_Rank</th>\n",
       "      <th>TotalWorkingYears_Rank</th>\n",
       "      <th>YearsAtCompany_Rank</th>\n",
       "      <th>YearsInCurrentRole_Rank</th>\n",
       "      <th>YearsSinceLastPromotion_Rank</th>\n",
       "      <th>YearsWithCurrManager_Rank</th>\n",
       "    </tr>\n",
       "    <tr>\n",
       "      <th>Emp.ID</th>\n",
       "      <th></th>\n",
       "      <th></th>\n",
       "      <th></th>\n",
       "      <th></th>\n",
       "      <th></th>\n",
       "      <th></th>\n",
       "      <th></th>\n",
       "      <th></th>\n",
       "      <th></th>\n",
       "      <th></th>\n",
       "      <th></th>\n",
       "      <th></th>\n",
       "    </tr>\n",
       "  </thead>\n",
       "  <tbody>\n",
       "    <tr>\n",
       "      <th>1</th>\n",
       "      <td>7.0</td>\n",
       "      <td>7.0</td>\n",
       "      <td>0.0</td>\n",
       "      <td>9.0</td>\n",
       "      <td>6.0</td>\n",
       "      <td>7.0</td>\n",
       "      <td>0.0</td>\n",
       "      <td>4.0</td>\n",
       "      <td>4.0</td>\n",
       "      <td>4.0</td>\n",
       "      <td>0.0</td>\n",
       "      <td>4.0</td>\n",
       "    </tr>\n",
       "    <tr>\n",
       "      <th>2</th>\n",
       "      <td>8.0</td>\n",
       "      <td>1.0</td>\n",
       "      <td>4.0</td>\n",
       "      <td>4.0</td>\n",
       "      <td>5.0</td>\n",
       "      <td>9.0</td>\n",
       "      <td>7.0</td>\n",
       "      <td>5.0</td>\n",
       "      <td>7.0</td>\n",
       "      <td>5.0</td>\n",
       "      <td>1.0</td>\n",
       "      <td>5.0</td>\n",
       "    </tr>\n",
       "    <tr>\n",
       "      <th>4</th>\n",
       "      <td>5.0</td>\n",
       "      <td>9.0</td>\n",
       "      <td>1.0</td>\n",
       "      <td>8.0</td>\n",
       "      <td>0.0</td>\n",
       "      <td>0.0</td>\n",
       "      <td>4.0</td>\n",
       "      <td>3.0</td>\n",
       "      <td>0.0</td>\n",
       "      <td>0.0</td>\n",
       "      <td>0.0</td>\n",
       "      <td>0.0</td>\n",
       "    </tr>\n",
       "    <tr>\n",
       "      <th>5</th>\n",
       "      <td>3.0</td>\n",
       "      <td>9.0</td>\n",
       "      <td>2.0</td>\n",
       "      <td>3.0</td>\n",
       "      <td>2.0</td>\n",
       "      <td>8.0</td>\n",
       "      <td>0.0</td>\n",
       "      <td>4.0</td>\n",
       "      <td>5.0</td>\n",
       "      <td>5.0</td>\n",
       "      <td>2.0</td>\n",
       "      <td>0.0</td>\n",
       "    </tr>\n",
       "    <tr>\n",
       "      <th>7</th>\n",
       "      <td>1.0</td>\n",
       "      <td>3.0</td>\n",
       "      <td>1.0</td>\n",
       "      <td>1.0</td>\n",
       "      <td>3.0</td>\n",
       "      <td>5.0</td>\n",
       "      <td>1.0</td>\n",
       "      <td>2.0</td>\n",
       "      <td>2.0</td>\n",
       "      <td>2.0</td>\n",
       "      <td>2.0</td>\n",
       "      <td>2.0</td>\n",
       "    </tr>\n",
       "  </tbody>\n",
       "</table>\n",
       "</div>"
      ],
      "text/plain": [
       "        Age_Rank  DailyRate_Rank  DistanceFromHome_Rank  HourlyRate_Rank  \\\n",
       "Emp.ID                                                                     \n",
       "1            7.0             7.0                    0.0              9.0   \n",
       "2            8.0             1.0                    4.0              4.0   \n",
       "4            5.0             9.0                    1.0              8.0   \n",
       "5            3.0             9.0                    2.0              3.0   \n",
       "7            1.0             3.0                    1.0              1.0   \n",
       "\n",
       "        MonthlyIncome_Rank  MonthlyRate_Rank  PercentSalaryHike_Rank  \\\n",
       "Emp.ID                                                                 \n",
       "1                      6.0               7.0                     0.0   \n",
       "2                      5.0               9.0                     7.0   \n",
       "4                      0.0               0.0                     4.0   \n",
       "5                      2.0               8.0                     0.0   \n",
       "7                      3.0               5.0                     1.0   \n",
       "\n",
       "        TotalWorkingYears_Rank  YearsAtCompany_Rank  YearsInCurrentRole_Rank  \\\n",
       "Emp.ID                                                                         \n",
       "1                          4.0                  4.0                      4.0   \n",
       "2                          5.0                  7.0                      5.0   \n",
       "4                          3.0                  0.0                      0.0   \n",
       "5                          4.0                  5.0                      5.0   \n",
       "7                          2.0                  2.0                      2.0   \n",
       "\n",
       "        YearsSinceLastPromotion_Rank  YearsWithCurrManager_Rank  \n",
       "Emp.ID                                                           \n",
       "1                                0.0                        4.0  \n",
       "2                                1.0                        5.0  \n",
       "4                                0.0                        0.0  \n",
       "5                                2.0                        0.0  \n",
       "7                                2.0                        2.0  "
      ]
     },
     "execution_count": 917,
     "metadata": {},
     "output_type": "execute_result"
    }
   ],
   "source": [
    "num_binned = pd.DataFrame(num_bin, index=num_wo_outlier.index, columns=num_wo_outlier.columns).add_suffix('_Rank')\n",
    "num_binned.head()"
   ]
  },
  {
   "cell_type": "code",
   "execution_count": 918,
   "metadata": {
    "ExecuteTime": {
     "end_time": "2022-01-15T19:44:49.903662Z",
     "start_time": "2022-01-15T19:44:49.889696Z"
    }
   },
   "outputs": [
    {
     "data": {
      "text/plain": [
       "0.16122448979591836"
      ]
     },
     "execution_count": 918,
     "metadata": {},
     "output_type": "execute_result"
    }
   ],
   "source": [
    "y.mean()"
   ]
  },
  {
   "cell_type": "code",
   "execution_count": 919,
   "metadata": {
    "ExecuteTime": {
     "end_time": "2022-01-15T19:44:58.122771Z",
     "start_time": "2022-01-15T19:44:49.905481Z"
    }
   },
   "outputs": [
    {
     "data": {
      "image/png": "[encoded data removed]",
      "text/plain": [
       "<Figure size 432x288 with 1 Axes>"
      ]
     },
     "metadata": {
      "needs_background": "light"
     },
     "output_type": "display_data"
    },
    {
     "data": {
      "image/png": "[encoded data removed]",
      "text/plain": [
       "<Figure size 432x288 with 1 Axes>"
      ]
     },
     "metadata": {
      "needs_background": "light"
     },
     "output_type": "display_data"
    },
    {
     "data": {
      "image/png": "[encoded data removed]",
      "text/plain": [
       "<Figure size 432x288 with 1 Axes>"
      ]
     },
     "metadata": {
      "needs_background": "light"
     },
     "output_type": "display_data"
    },
    {
     "data": {
      "image/png": "[encoded data removed]",
      "text/plain": [
       "<Figure size 432x288 with 1 Axes>"
      ]
     },
     "metadata": {
      "needs_background": "light"
     },
     "output_type": "display_data"
    },
    {
     "data": {
      "image/png": "[encoded data removed]",
      "text/plain": [
       "<Figure size 432x288 with 1 Axes>"
      ]
     },
     "metadata": {
      "needs_background": "light"
     },
     "output_type": "display_data"
    },
    {
     "data": {
      "image/png": "[encoded data removed]",
      "text/plain": [
       "<Figure size 432x288 with 1 Axes>"
      ]
     },
     "metadata": {
      "needs_background": "light"
     },
     "output_type": "display_data"
    },
    {
     "data": {
      "image/png": "[encoded data removed]",
      "text/plain": [
       "<Figure size 432x288 with 1 Axes>"
      ]
     },
     "metadata": {
      "needs_background": "light"
     },
     "output_type": "display_data"
    },
    {
     "data": {
      "image/png": "[encoded data removed]",
      "text/plain": [
       "<Figure size 432x288 with 1 Axes>"
      ]
     },
     "metadata": {
      "needs_background": "light"
     },
     "output_type": "display_data"
    },
    {
     "data": {
      "image/png": "[encoded data removed]",
      "text/plain": [
       "<Figure size 432x288 with 1 Axes>"
      ]
     },
     "metadata": {
      "needs_background": "light"
     },
     "output_type": "display_data"
    },
    {
     "data": {
      "image/png": "[encoded data removed]",
      "text/plain": [
       "<Figure size 432x288 with 1 Axes>"
      ]
     },
     "metadata": {
      "needs_background": "light"
     },
     "output_type": "display_data"
    },
    {
     "data": {
      "image/png": "[encoded data removed]",
      "text/plain": [
       "<Figure size 432x288 with 1 Axes>"
      ]
     },
     "metadata": {
      "needs_background": "light"
     },
     "output_type": "display_data"
    },
    {
     "data": {
      "image/png": "[encoded data removed]",
      "text/plain": [
       "<Figure size 432x288 with 1 Axes>"
      ]
     },
     "metadata": {
      "needs_background": "light"
     },
     "output_type": "display_data"
    }
   ],
   "source": [
    "# Need to check if features shows some slope with respect to target variable\n",
    "# check if some deciles are below & above the populaiton average target, if this is available then slope willsns be strong\n",
    "# Conclusion - A strong slope is indicator of features's ability to discriminate the event from non event.\n",
    "# This make particluar Feature a Good Predictor\n",
    "\n",
    "for col in num_binned.columns:\n",
    "    sns.lineplot(x=num_binned[col], y=y.mean(), color='red')\n",
    "    sns.barplot(x=num_binned[col], y=y)\n",
    "    plt.show()"
   ]
  },
  {
   "cell_type": "markdown",
   "metadata": {},
   "source": [
    "- we can observe, Age, DistanceFromHome, MonthlyIncome, TotalWorkingYears, YearsAtCompany, YearsInCurrentRole. YeasWithCurrManager have some slope with respect to target mean\n",
    "- we will consider only these features."
   ]
  },
  {
   "cell_type": "code",
   "execution_count": 920,
   "metadata": {
    "ExecuteTime": {
     "end_time": "2022-01-15T19:44:58.138520Z",
     "start_time": "2022-01-15T19:44:58.124748Z"
    }
   },
   "outputs": [],
   "source": [
    "num_var = num_wo_outlier[['Age', 'DistanceFromHome', 'MonthlyIncome', 'TotalWorkingYears', 'YearsAtCompany', \n",
    "                         'YearsInCurrentRole', 'YearsWithCurrManager']]"
   ]
  },
  {
   "cell_type": "markdown",
   "metadata": {},
   "source": [
    "### Part-3   Select K Best"
   ]
  },
  {
   "cell_type": "code",
   "execution_count": 921,
   "metadata": {
    "ExecuteTime": {
     "end_time": "2022-01-15T19:44:58.153739Z",
     "start_time": "2022-01-15T19:44:58.140234Z"
    }
   },
   "outputs": [
    {
     "data": {
      "text/html": [
       "<div>\n",
       "<style scoped>\n",
       "    .dataframe tbody tr th:only-of-type {\n",
       "        vertical-align: middle;\n",
       "    }\n",
       "\n",
       "    .dataframe tbody tr th {\n",
       "        vertical-align: top;\n",
       "    }\n",
       "\n",
       "    .dataframe thead th {\n",
       "        text-align: right;\n",
       "    }\n",
       "</style>\n",
       "<table border=\"1\" class=\"dataframe\">\n",
       "  <thead>\n",
       "    <tr style=\"text-align: right;\">\n",
       "      <th></th>\n",
       "      <th>MonthlyIncome</th>\n",
       "      <th>TotalWorkingYears</th>\n",
       "      <th>YearsAtCompany</th>\n",
       "      <th>YearsInCurrentRole</th>\n",
       "    </tr>\n",
       "    <tr>\n",
       "      <th>Emp.ID</th>\n",
       "      <th></th>\n",
       "      <th></th>\n",
       "      <th></th>\n",
       "      <th></th>\n",
       "    </tr>\n",
       "  </thead>\n",
       "  <tbody>\n",
       "    <tr>\n",
       "      <th>1</th>\n",
       "      <td>5993.0</td>\n",
       "      <td>8</td>\n",
       "      <td>6</td>\n",
       "      <td>4</td>\n",
       "    </tr>\n",
       "    <tr>\n",
       "      <th>2</th>\n",
       "      <td>5130.0</td>\n",
       "      <td>10</td>\n",
       "      <td>10</td>\n",
       "      <td>7</td>\n",
       "    </tr>\n",
       "    <tr>\n",
       "      <th>4</th>\n",
       "      <td>2090.0</td>\n",
       "      <td>7</td>\n",
       "      <td>0</td>\n",
       "      <td>0</td>\n",
       "    </tr>\n",
       "    <tr>\n",
       "      <th>5</th>\n",
       "      <td>2909.0</td>\n",
       "      <td>8</td>\n",
       "      <td>8</td>\n",
       "      <td>7</td>\n",
       "    </tr>\n",
       "    <tr>\n",
       "      <th>7</th>\n",
       "      <td>3468.0</td>\n",
       "      <td>6</td>\n",
       "      <td>2</td>\n",
       "      <td>2</td>\n",
       "    </tr>\n",
       "  </tbody>\n",
       "</table>\n",
       "</div>"
      ],
      "text/plain": [
       "        MonthlyIncome  TotalWorkingYears  YearsAtCompany  YearsInCurrentRole\n",
       "Emp.ID                                                                      \n",
       "1              5993.0                  8               6                   4\n",
       "2              5130.0                 10              10                   7\n",
       "4              2090.0                  7               0                   0\n",
       "5              2909.0                  8               8                   7\n",
       "7              3468.0                  6               2                   2"
      ]
     },
     "execution_count": 921,
     "metadata": {},
     "output_type": "execute_result"
    }
   ],
   "source": [
    "from sklearn.feature_selection import SelectKBest, chi2\n",
    "selector = SelectKBest(chi2, k=4)\n",
    "selector.fit(num_var,y)\n",
    "num_kbest = num_var.iloc[:,selector.get_support()]\n",
    "num_kbest.head()"
   ]
  },
  {
   "cell_type": "markdown",
   "metadata": {},
   "source": [
    "- 4 Features on which target feature is most dependent are identified."
   ]
  },
  {
   "cell_type": "markdown",
   "metadata": {},
   "source": [
    "### Section-2 Catagorical Variable\n",
    "#### Part-2 Bi-Variate Analysis (Feature Discretization)"
   ]
  },
  {
   "cell_type": "code",
   "execution_count": 922,
   "metadata": {
    "ExecuteTime": {
     "end_time": "2022-01-15T19:44:58.184384Z",
     "start_time": "2022-01-15T19:44:58.155197Z"
    },
    "scrolled": true
   },
   "outputs": [
    {
     "data": {
      "text/plain": [
       "BusinessTravel               3\n",
       "Department                   3\n",
       "EducationField               6\n",
       "Gender                       2\n",
       "JobRole                      9\n",
       "MaritalStatus                3\n",
       "OverTime                     2\n",
       "Education                    5\n",
       "EnvironmentSatisfaction      4\n",
       "JobInvolvement               4\n",
       "JobLevel                     5\n",
       "JobSatisfaction              4\n",
       "NumCompaniesWorked          10\n",
       "PerformanceRating            2\n",
       "RelationshipSatisfaction     4\n",
       "StockOptionLevel             4\n",
       "TrainingTimesLastYear        7\n",
       "WorkLifeBalance              4\n",
       "dtype: int64"
      ]
     },
     "execution_count": 922,
     "metadata": {},
     "output_type": "execute_result"
    }
   ],
   "source": [
    "# Consider features having more then 1 unique Values only\n",
    "cat2 = cat_with_descrete.loc[:,cat_with_descrete.nunique()>1]\n",
    "cat2.nunique()"
   ]
  },
  {
   "cell_type": "code",
   "execution_count": 923,
   "metadata": {
    "ExecuteTime": {
     "end_time": "2022-01-15T19:44:58.200300Z",
     "start_time": "2022-01-15T19:44:58.186273Z"
    }
   },
   "outputs": [
    {
     "data": {
      "text/plain": [
       "(1470, 18)"
      ]
     },
     "execution_count": 923,
     "metadata": {},
     "output_type": "execute_result"
    }
   ],
   "source": [
    "cat2.shape"
   ]
  },
  {
   "cell_type": "code",
   "execution_count": 924,
   "metadata": {
    "ExecuteTime": {
     "end_time": "2022-01-15T19:45:05.725522Z",
     "start_time": "2022-01-15T19:44:58.202228Z"
    }
   },
   "outputs": [
    {
     "name": "stdout",
     "output_type": "stream",
     "text": [
      "BusinessTravel\n"
     ]
    },
    {
     "data": {
      "image/png": "[encoded data removed]",
      "text/plain": [
       "<Figure size 432x288 with 1 Axes>"
      ]
     },
     "metadata": {
      "needs_background": "light"
     },
     "output_type": "display_data"
    },
    {
     "name": "stdout",
     "output_type": "stream",
     "text": [
      "Department\n"
     ]
    },
    {
     "data": {
      "image/png": "[encoded data removed]",
      "text/plain": [
       "<Figure size 432x288 with 1 Axes>"
      ]
     },
     "metadata": {
      "needs_background": "light"
     },
     "output_type": "display_data"
    },
    {
     "name": "stdout",
     "output_type": "stream",
     "text": [
      "EducationField\n"
     ]
    },
    {
     "data": {
      "image/png": "[encoded data removed]",
      "text/plain": [
       "<Figure size 432x288 with 1 Axes>"
      ]
     },
     "metadata": {
      "needs_background": "light"
     },
     "output_type": "display_data"
    },
    {
     "name": "stdout",
     "output_type": "stream",
     "text": [
      "Gender\n"
     ]
    },
    {
     "data": {
      "image/png": "[encoded data removed]",
      "text/plain": [
       "<Figure size 432x288 with 1 Axes>"
      ]
     },
     "metadata": {
      "needs_background": "light"
     },
     "output_type": "display_data"
    },
    {
     "name": "stdout",
     "output_type": "stream",
     "text": [
      "JobRole\n"
     ]
    },
    {
     "data": {
      "image/png": "[encoded data removed]",
      "text/plain": [
       "<Figure size 432x288 with 1 Axes>"
      ]
     },
     "metadata": {
      "needs_background": "light"
     },
     "output_type": "display_data"
    },
    {
     "name": "stdout",
     "output_type": "stream",
     "text": [
      "MaritalStatus\n"
     ]
    },
    {
     "data": {
      "image/png": "[encoded data removed]",
      "text/plain": [
       "<Figure size 432x288 with 1 Axes>"
      ]
     },
     "metadata": {
      "needs_background": "light"
     },
     "output_type": "display_data"
    },
    {
     "name": "stdout",
     "output_type": "stream",
     "text": [
      "OverTime\n"
     ]
    },
    {
     "data": {
      "image/png": "[encoded data removed]",
      "text/plain": [
       "<Figure size 432x288 with 1 Axes>"
      ]
     },
     "metadata": {
      "needs_background": "light"
     },
     "output_type": "display_data"
    },
    {
     "name": "stdout",
     "output_type": "stream",
     "text": [
      "Education\n"
     ]
    },
    {
     "data": {
      "image/png": "[encoded data removed]",
      "text/plain": [
       "<Figure size 432x288 with 1 Axes>"
      ]
     },
     "metadata": {
      "needs_background": "light"
     },
     "output_type": "display_data"
    },
    {
     "name": "stdout",
     "output_type": "stream",
     "text": [
      "EnvironmentSatisfaction\n"
     ]
    },
    {
     "data": {
      "image/png": "[encoded data removed]",
      "text/plain": [
       "<Figure size 432x288 with 1 Axes>"
      ]
     },
     "metadata": {
      "needs_background": "light"
     },
     "output_type": "display_data"
    },
    {
     "name": "stdout",
     "output_type": "stream",
     "text": [
      "JobInvolvement\n"
     ]
    },
    {
     "data": {
      "image/png": "[encoded data removed]",
      "text/plain": [
       "<Figure size 432x288 with 1 Axes>"
      ]
     },
     "metadata": {
      "needs_background": "light"
     },
     "output_type": "display_data"
    },
    {
     "name": "stdout",
     "output_type": "stream",
     "text": [
      "JobLevel\n"
     ]
    },
    {
     "data": {
      "image/png": "[encoded data removed]",
      "text/plain": [
       "<Figure size 432x288 with 1 Axes>"
      ]
     },
     "metadata": {
      "needs_background": "light"
     },
     "output_type": "display_data"
    },
    {
     "name": "stdout",
     "output_type": "stream",
     "text": [
      "JobSatisfaction\n"
     ]
    },
    {
     "data": {
      "image/png": "[encoded data removed]",
      "text/plain": [
       "<Figure size 432x288 with 1 Axes>"
      ]
     },
     "metadata": {
      "needs_background": "light"
     },
     "output_type": "display_data"
    },
    {
     "name": "stdout",
     "output_type": "stream",
     "text": [
      "NumCompaniesWorked\n"
     ]
    },
    {
     "data": {
      "image/png": "[encoded data removed]",
      "text/plain": [
       "<Figure size 432x288 with 1 Axes>"
      ]
     },
     "metadata": {
      "needs_background": "light"
     },
     "output_type": "display_data"
    },
    {
     "name": "stdout",
     "output_type": "stream",
     "text": [
      "PerformanceRating\n"
     ]
    },
    {
     "data": {
      "image/png": "[encoded data removed]",
      "text/plain": [
       "<Figure size 432x288 with 1 Axes>"
      ]
     },
     "metadata": {
      "needs_background": "light"
     },
     "output_type": "display_data"
    },
    {
     "name": "stdout",
     "output_type": "stream",
     "text": [
      "RelationshipSatisfaction\n"
     ]
    },
    {
     "data": {
      "image/png": "[encoded data removed]",
      "text/plain": [
       "<Figure size 432x288 with 1 Axes>"
      ]
     },
     "metadata": {
      "needs_background": "light"
     },
     "output_type": "display_data"
    },
    {
     "name": "stdout",
     "output_type": "stream",
     "text": [
      "StockOptionLevel\n"
     ]
    },
    {
     "data": {
      "image/png": "[encoded data removed]",
      "text/plain": [
       "<Figure size 432x288 with 1 Axes>"
      ]
     },
     "metadata": {
      "needs_background": "light"
     },
     "output_type": "display_data"
    },
    {
     "name": "stdout",
     "output_type": "stream",
     "text": [
      "TrainingTimesLastYear\n"
     ]
    },
    {
     "data": {
      "image/png": "[encoded data removed]",
      "text/plain": [
       "<Figure size 432x288 with 1 Axes>"
      ]
     },
     "metadata": {
      "needs_background": "light"
     },
     "output_type": "display_data"
    },
    {
     "name": "stdout",
     "output_type": "stream",
     "text": [
      "WorkLifeBalance\n"
     ]
    },
    {
     "data": {
      "image/png": "[encoded data removed]",
      "text/plain": [
       "<Figure size 432x288 with 1 Axes>"
      ]
     },
     "metadata": {
      "needs_background": "light"
     },
     "output_type": "display_data"
    }
   ],
   "source": [
    "# Categorial Features do not need discretizer.\n",
    "for col in cat2.columns:\n",
    "    print(col)\n",
    "    sns.lineplot(x=cat2[col], y=y.mean(), color='red')\n",
    "    sns.barplot(x=cat2[col], y=y)\n",
    "    plt.xlabel(col,fontsize=15)\n",
    "    plt.show()"
   ]
  },
  {
   "cell_type": "code",
   "execution_count": 925,
   "metadata": {
    "ExecuteTime": {
     "end_time": "2022-01-15T19:45:05.755444Z",
     "start_time": "2022-01-15T19:45:05.727522Z"
    },
    "scrolled": true
   },
   "outputs": [
    {
     "data": {
      "text/html": [
       "<div>\n",
       "<style scoped>\n",
       "    .dataframe tbody tr th:only-of-type {\n",
       "        vertical-align: middle;\n",
       "    }\n",
       "\n",
       "    .dataframe tbody tr th {\n",
       "        vertical-align: top;\n",
       "    }\n",
       "\n",
       "    .dataframe thead th {\n",
       "        text-align: right;\n",
       "    }\n",
       "</style>\n",
       "<table border=\"1\" class=\"dataframe\">\n",
       "  <thead>\n",
       "    <tr style=\"text-align: right;\">\n",
       "      <th></th>\n",
       "      <th>BusinessTravel</th>\n",
       "      <th>EducationField</th>\n",
       "      <th>JobRole</th>\n",
       "      <th>MaritalStatus</th>\n",
       "      <th>OverTime</th>\n",
       "      <th>JobInvolvement</th>\n",
       "      <th>JobLevel</th>\n",
       "      <th>NumCompaniesWorked</th>\n",
       "      <th>StockOptionLevel</th>\n",
       "    </tr>\n",
       "    <tr>\n",
       "      <th>Emp.ID</th>\n",
       "      <th></th>\n",
       "      <th></th>\n",
       "      <th></th>\n",
       "      <th></th>\n",
       "      <th></th>\n",
       "      <th></th>\n",
       "      <th></th>\n",
       "      <th></th>\n",
       "      <th></th>\n",
       "    </tr>\n",
       "  </thead>\n",
       "  <tbody>\n",
       "    <tr>\n",
       "      <th>1</th>\n",
       "      <td>Travel_Rarely</td>\n",
       "      <td>Life Sciences</td>\n",
       "      <td>Sales Executive</td>\n",
       "      <td>Single</td>\n",
       "      <td>Yes</td>\n",
       "      <td>3</td>\n",
       "      <td>2</td>\n",
       "      <td>8</td>\n",
       "      <td>0</td>\n",
       "    </tr>\n",
       "    <tr>\n",
       "      <th>2</th>\n",
       "      <td>Travel_Frequently</td>\n",
       "      <td>Life Sciences</td>\n",
       "      <td>Research Scientist</td>\n",
       "      <td>Married</td>\n",
       "      <td>No</td>\n",
       "      <td>2</td>\n",
       "      <td>2</td>\n",
       "      <td>1</td>\n",
       "      <td>1</td>\n",
       "    </tr>\n",
       "    <tr>\n",
       "      <th>4</th>\n",
       "      <td>Travel_Rarely</td>\n",
       "      <td>Other</td>\n",
       "      <td>Laboratory Technician</td>\n",
       "      <td>Single</td>\n",
       "      <td>Yes</td>\n",
       "      <td>2</td>\n",
       "      <td>1</td>\n",
       "      <td>6</td>\n",
       "      <td>0</td>\n",
       "    </tr>\n",
       "    <tr>\n",
       "      <th>5</th>\n",
       "      <td>Travel_Frequently</td>\n",
       "      <td>Life Sciences</td>\n",
       "      <td>Research Scientist</td>\n",
       "      <td>Married</td>\n",
       "      <td>Yes</td>\n",
       "      <td>3</td>\n",
       "      <td>1</td>\n",
       "      <td>1</td>\n",
       "      <td>0</td>\n",
       "    </tr>\n",
       "    <tr>\n",
       "      <th>7</th>\n",
       "      <td>Travel_Rarely</td>\n",
       "      <td>Medical</td>\n",
       "      <td>Laboratory Technician</td>\n",
       "      <td>Married</td>\n",
       "      <td>No</td>\n",
       "      <td>3</td>\n",
       "      <td>1</td>\n",
       "      <td>9</td>\n",
       "      <td>1</td>\n",
       "    </tr>\n",
       "  </tbody>\n",
       "</table>\n",
       "</div>"
      ],
      "text/plain": [
       "           BusinessTravel EducationField                JobRole MaritalStatus  \\\n",
       "Emp.ID                                                                          \n",
       "1           Travel_Rarely  Life Sciences        Sales Executive        Single   \n",
       "2       Travel_Frequently  Life Sciences     Research Scientist       Married   \n",
       "4           Travel_Rarely          Other  Laboratory Technician        Single   \n",
       "5       Travel_Frequently  Life Sciences     Research Scientist       Married   \n",
       "7           Travel_Rarely        Medical  Laboratory Technician       Married   \n",
       "\n",
       "       OverTime  JobInvolvement  JobLevel  NumCompaniesWorked  \\\n",
       "Emp.ID                                                          \n",
       "1           Yes               3         2                   8   \n",
       "2            No               2         2                   1   \n",
       "4           Yes               2         1                   6   \n",
       "5           Yes               3         1                   1   \n",
       "7            No               3         1                   9   \n",
       "\n",
       "        StockOptionLevel  \n",
       "Emp.ID                    \n",
       "1                      0  \n",
       "2                      1  \n",
       "4                      0  \n",
       "5                      0  \n",
       "7                      1  "
      ]
     },
     "execution_count": 925,
     "metadata": {},
     "output_type": "execute_result"
    }
   ],
   "source": [
    "cat_var = cat2.drop(['Department', 'Gender', 'Education', 'EnvironmentSatisfaction', 'JobSatisfaction', 'PerformanceRating', \n",
    " 'RelationshipSatisfaction','TrainingTimesLastYear', 'WorkLifeBalance'],axis=1)\n",
    "cat_var.head()"
   ]
  },
  {
   "cell_type": "code",
   "execution_count": 926,
   "metadata": {
    "ExecuteTime": {
     "end_time": "2022-01-15T19:45:05.786712Z",
     "start_time": "2022-01-15T19:45:05.757439Z"
    }
   },
   "outputs": [
    {
     "name": "stdout",
     "output_type": "stream",
     "text": [
      "<class 'pandas.core.frame.DataFrame'>\n",
      "Int64Index: 1470 entries, 1 to 2068\n",
      "Data columns (total 9 columns):\n",
      " #   Column              Non-Null Count  Dtype \n",
      "---  ------              --------------  ----- \n",
      " 0   BusinessTravel      1470 non-null   object\n",
      " 1   EducationField      1470 non-null   object\n",
      " 2   JobRole             1470 non-null   object\n",
      " 3   MaritalStatus       1470 non-null   object\n",
      " 4   OverTime            1470 non-null   object\n",
      " 5   JobInvolvement      1470 non-null   object\n",
      " 6   JobLevel            1470 non-null   object\n",
      " 7   NumCompaniesWorked  1470 non-null   object\n",
      " 8   StockOptionLevel    1470 non-null   object\n",
      "dtypes: object(9)\n",
      "memory usage: 154.8+ KB\n"
     ]
    }
   ],
   "source": [
    "# change dtypes to get dummy feature for all cat feature\n",
    "# for col in cat_var.columns:\n",
    "\n",
    "for col in cat_var.columns:\n",
    "    cat_var[col]= cat_var[col].astype('object')\n",
    "cat_var.info()"
   ]
  },
  {
   "cell_type": "code",
   "execution_count": 927,
   "metadata": {
    "ExecuteTime": {
     "end_time": "2022-01-15T19:45:05.818466Z",
     "start_time": "2022-01-15T19:45:05.788585Z"
    }
   },
   "outputs": [
    {
     "data": {
      "text/plain": [
       "(1470, 37)"
      ]
     },
     "execution_count": 927,
     "metadata": {},
     "output_type": "execute_result"
    }
   ],
   "source": [
    "# Create Dummy Features\n",
    "char_dummies = pd.get_dummies(cat_var, drop_first=True)\n",
    "char_dummies.shape"
   ]
  },
  {
   "cell_type": "code",
   "execution_count": 928,
   "metadata": {
    "ExecuteTime": {
     "end_time": "2022-01-15T19:45:05.849384Z",
     "start_time": "2022-01-15T19:45:05.820431Z"
    },
    "scrolled": true
   },
   "outputs": [
    {
     "data": {
      "text/html": [
       "<div>\n",
       "<style scoped>\n",
       "    .dataframe tbody tr th:only-of-type {\n",
       "        vertical-align: middle;\n",
       "    }\n",
       "\n",
       "    .dataframe tbody tr th {\n",
       "        vertical-align: top;\n",
       "    }\n",
       "\n",
       "    .dataframe thead th {\n",
       "        text-align: right;\n",
       "    }\n",
       "</style>\n",
       "<table border=\"1\" class=\"dataframe\">\n",
       "  <thead>\n",
       "    <tr style=\"text-align: right;\">\n",
       "      <th></th>\n",
       "      <th>BusinessTravel_Travel_Frequently</th>\n",
       "      <th>BusinessTravel_Travel_Rarely</th>\n",
       "      <th>EducationField_Life Sciences</th>\n",
       "      <th>EducationField_Marketing</th>\n",
       "      <th>EducationField_Medical</th>\n",
       "      <th>EducationField_Other</th>\n",
       "      <th>EducationField_Technical Degree</th>\n",
       "      <th>JobRole_Human Resources</th>\n",
       "      <th>JobRole_Laboratory Technician</th>\n",
       "      <th>JobRole_Manager</th>\n",
       "      <th>JobRole_Manufacturing Director</th>\n",
       "      <th>JobRole_Research Director</th>\n",
       "      <th>JobRole_Research Scientist</th>\n",
       "      <th>JobRole_Sales Executive</th>\n",
       "      <th>JobRole_Sales Representative</th>\n",
       "      <th>MaritalStatus_Married</th>\n",
       "      <th>MaritalStatus_Single</th>\n",
       "      <th>OverTime_Yes</th>\n",
       "      <th>JobInvolvement_2</th>\n",
       "      <th>JobInvolvement_3</th>\n",
       "      <th>JobInvolvement_4</th>\n",
       "      <th>JobLevel_2</th>\n",
       "      <th>JobLevel_3</th>\n",
       "      <th>JobLevel_4</th>\n",
       "      <th>JobLevel_5</th>\n",
       "      <th>NumCompaniesWorked_1</th>\n",
       "      <th>NumCompaniesWorked_2</th>\n",
       "      <th>NumCompaniesWorked_3</th>\n",
       "      <th>NumCompaniesWorked_4</th>\n",
       "      <th>NumCompaniesWorked_5</th>\n",
       "      <th>NumCompaniesWorked_6</th>\n",
       "      <th>NumCompaniesWorked_7</th>\n",
       "      <th>NumCompaniesWorked_8</th>\n",
       "      <th>NumCompaniesWorked_9</th>\n",
       "      <th>StockOptionLevel_1</th>\n",
       "      <th>StockOptionLevel_2</th>\n",
       "      <th>StockOptionLevel_3</th>\n",
       "    </tr>\n",
       "    <tr>\n",
       "      <th>Emp.ID</th>\n",
       "      <th></th>\n",
       "      <th></th>\n",
       "      <th></th>\n",
       "      <th></th>\n",
       "      <th></th>\n",
       "      <th></th>\n",
       "      <th></th>\n",
       "      <th></th>\n",
       "      <th></th>\n",
       "      <th></th>\n",
       "      <th></th>\n",
       "      <th></th>\n",
       "      <th></th>\n",
       "      <th></th>\n",
       "      <th></th>\n",
       "      <th></th>\n",
       "      <th></th>\n",
       "      <th></th>\n",
       "      <th></th>\n",
       "      <th></th>\n",
       "      <th></th>\n",
       "      <th></th>\n",
       "      <th></th>\n",
       "      <th></th>\n",
       "      <th></th>\n",
       "      <th></th>\n",
       "      <th></th>\n",
       "      <th></th>\n",
       "      <th></th>\n",
       "      <th></th>\n",
       "      <th></th>\n",
       "      <th></th>\n",
       "      <th></th>\n",
       "      <th></th>\n",
       "      <th></th>\n",
       "      <th></th>\n",
       "      <th></th>\n",
       "    </tr>\n",
       "  </thead>\n",
       "  <tbody>\n",
       "    <tr>\n",
       "      <th>1</th>\n",
       "      <td>0</td>\n",
       "      <td>1</td>\n",
       "      <td>1</td>\n",
       "      <td>0</td>\n",
       "      <td>0</td>\n",
       "      <td>0</td>\n",
       "      <td>0</td>\n",
       "      <td>0</td>\n",
       "      <td>0</td>\n",
       "      <td>0</td>\n",
       "      <td>0</td>\n",
       "      <td>0</td>\n",
       "      <td>0</td>\n",
       "      <td>1</td>\n",
       "      <td>0</td>\n",
       "      <td>0</td>\n",
       "      <td>1</td>\n",
       "      <td>1</td>\n",
       "      <td>0</td>\n",
       "      <td>1</td>\n",
       "      <td>0</td>\n",
       "      <td>1</td>\n",
       "      <td>0</td>\n",
       "      <td>0</td>\n",
       "      <td>0</td>\n",
       "      <td>0</td>\n",
       "      <td>0</td>\n",
       "      <td>0</td>\n",
       "      <td>0</td>\n",
       "      <td>0</td>\n",
       "      <td>0</td>\n",
       "      <td>0</td>\n",
       "      <td>1</td>\n",
       "      <td>0</td>\n",
       "      <td>0</td>\n",
       "      <td>0</td>\n",
       "      <td>0</td>\n",
       "    </tr>\n",
       "    <tr>\n",
       "      <th>2</th>\n",
       "      <td>1</td>\n",
       "      <td>0</td>\n",
       "      <td>1</td>\n",
       "      <td>0</td>\n",
       "      <td>0</td>\n",
       "      <td>0</td>\n",
       "      <td>0</td>\n",
       "      <td>0</td>\n",
       "      <td>0</td>\n",
       "      <td>0</td>\n",
       "      <td>0</td>\n",
       "      <td>0</td>\n",
       "      <td>1</td>\n",
       "      <td>0</td>\n",
       "      <td>0</td>\n",
       "      <td>1</td>\n",
       "      <td>0</td>\n",
       "      <td>0</td>\n",
       "      <td>1</td>\n",
       "      <td>0</td>\n",
       "      <td>0</td>\n",
       "      <td>1</td>\n",
       "      <td>0</td>\n",
       "      <td>0</td>\n",
       "      <td>0</td>\n",
       "      <td>1</td>\n",
       "      <td>0</td>\n",
       "      <td>0</td>\n",
       "      <td>0</td>\n",
       "      <td>0</td>\n",
       "      <td>0</td>\n",
       "      <td>0</td>\n",
       "      <td>0</td>\n",
       "      <td>0</td>\n",
       "      <td>1</td>\n",
       "      <td>0</td>\n",
       "      <td>0</td>\n",
       "    </tr>\n",
       "    <tr>\n",
       "      <th>4</th>\n",
       "      <td>0</td>\n",
       "      <td>1</td>\n",
       "      <td>0</td>\n",
       "      <td>0</td>\n",
       "      <td>0</td>\n",
       "      <td>1</td>\n",
       "      <td>0</td>\n",
       "      <td>0</td>\n",
       "      <td>1</td>\n",
       "      <td>0</td>\n",
       "      <td>0</td>\n",
       "      <td>0</td>\n",
       "      <td>0</td>\n",
       "      <td>0</td>\n",
       "      <td>0</td>\n",
       "      <td>0</td>\n",
       "      <td>1</td>\n",
       "      <td>1</td>\n",
       "      <td>1</td>\n",
       "      <td>0</td>\n",
       "      <td>0</td>\n",
       "      <td>0</td>\n",
       "      <td>0</td>\n",
       "      <td>0</td>\n",
       "      <td>0</td>\n",
       "      <td>0</td>\n",
       "      <td>0</td>\n",
       "      <td>0</td>\n",
       "      <td>0</td>\n",
       "      <td>0</td>\n",
       "      <td>1</td>\n",
       "      <td>0</td>\n",
       "      <td>0</td>\n",
       "      <td>0</td>\n",
       "      <td>0</td>\n",
       "      <td>0</td>\n",
       "      <td>0</td>\n",
       "    </tr>\n",
       "    <tr>\n",
       "      <th>5</th>\n",
       "      <td>1</td>\n",
       "      <td>0</td>\n",
       "      <td>1</td>\n",
       "      <td>0</td>\n",
       "      <td>0</td>\n",
       "      <td>0</td>\n",
       "      <td>0</td>\n",
       "      <td>0</td>\n",
       "      <td>0</td>\n",
       "      <td>0</td>\n",
       "      <td>0</td>\n",
       "      <td>0</td>\n",
       "      <td>1</td>\n",
       "      <td>0</td>\n",
       "      <td>0</td>\n",
       "      <td>1</td>\n",
       "      <td>0</td>\n",
       "      <td>1</td>\n",
       "      <td>0</td>\n",
       "      <td>1</td>\n",
       "      <td>0</td>\n",
       "      <td>0</td>\n",
       "      <td>0</td>\n",
       "      <td>0</td>\n",
       "      <td>0</td>\n",
       "      <td>1</td>\n",
       "      <td>0</td>\n",
       "      <td>0</td>\n",
       "      <td>0</td>\n",
       "      <td>0</td>\n",
       "      <td>0</td>\n",
       "      <td>0</td>\n",
       "      <td>0</td>\n",
       "      <td>0</td>\n",
       "      <td>0</td>\n",
       "      <td>0</td>\n",
       "      <td>0</td>\n",
       "    </tr>\n",
       "    <tr>\n",
       "      <th>7</th>\n",
       "      <td>0</td>\n",
       "      <td>1</td>\n",
       "      <td>0</td>\n",
       "      <td>0</td>\n",
       "      <td>1</td>\n",
       "      <td>0</td>\n",
       "      <td>0</td>\n",
       "      <td>0</td>\n",
       "      <td>1</td>\n",
       "      <td>0</td>\n",
       "      <td>0</td>\n",
       "      <td>0</td>\n",
       "      <td>0</td>\n",
       "      <td>0</td>\n",
       "      <td>0</td>\n",
       "      <td>1</td>\n",
       "      <td>0</td>\n",
       "      <td>0</td>\n",
       "      <td>0</td>\n",
       "      <td>1</td>\n",
       "      <td>0</td>\n",
       "      <td>0</td>\n",
       "      <td>0</td>\n",
       "      <td>0</td>\n",
       "      <td>0</td>\n",
       "      <td>0</td>\n",
       "      <td>0</td>\n",
       "      <td>0</td>\n",
       "      <td>0</td>\n",
       "      <td>0</td>\n",
       "      <td>0</td>\n",
       "      <td>0</td>\n",
       "      <td>0</td>\n",
       "      <td>1</td>\n",
       "      <td>1</td>\n",
       "      <td>0</td>\n",
       "      <td>0</td>\n",
       "    </tr>\n",
       "  </tbody>\n",
       "</table>\n",
       "</div>"
      ],
      "text/plain": [
       "        BusinessTravel_Travel_Frequently  BusinessTravel_Travel_Rarely  \\\n",
       "Emp.ID                                                                   \n",
       "1                                      0                             1   \n",
       "2                                      1                             0   \n",
       "4                                      0                             1   \n",
       "5                                      1                             0   \n",
       "7                                      0                             1   \n",
       "\n",
       "        EducationField_Life Sciences  EducationField_Marketing  \\\n",
       "Emp.ID                                                           \n",
       "1                                  1                         0   \n",
       "2                                  1                         0   \n",
       "4                                  0                         0   \n",
       "5                                  1                         0   \n",
       "7                                  0                         0   \n",
       "\n",
       "        EducationField_Medical  EducationField_Other  \\\n",
       "Emp.ID                                                 \n",
       "1                            0                     0   \n",
       "2                            0                     0   \n",
       "4                            0                     1   \n",
       "5                            0                     0   \n",
       "7                            1                     0   \n",
       "\n",
       "        EducationField_Technical Degree  JobRole_Human Resources  \\\n",
       "Emp.ID                                                             \n",
       "1                                     0                        0   \n",
       "2                                     0                        0   \n",
       "4                                     0                        0   \n",
       "5                                     0                        0   \n",
       "7                                     0                        0   \n",
       "\n",
       "        JobRole_Laboratory Technician  JobRole_Manager  \\\n",
       "Emp.ID                                                   \n",
       "1                                   0                0   \n",
       "2                                   0                0   \n",
       "4                                   1                0   \n",
       "5                                   0                0   \n",
       "7                                   1                0   \n",
       "\n",
       "        JobRole_Manufacturing Director  JobRole_Research Director  \\\n",
       "Emp.ID                                                              \n",
       "1                                    0                          0   \n",
       "2                                    0                          0   \n",
       "4                                    0                          0   \n",
       "5                                    0                          0   \n",
       "7                                    0                          0   \n",
       "\n",
       "        JobRole_Research Scientist  JobRole_Sales Executive  \\\n",
       "Emp.ID                                                        \n",
       "1                                0                        1   \n",
       "2                                1                        0   \n",
       "4                                0                        0   \n",
       "5                                1                        0   \n",
       "7                                0                        0   \n",
       "\n",
       "        JobRole_Sales Representative  MaritalStatus_Married  \\\n",
       "Emp.ID                                                        \n",
       "1                                  0                      0   \n",
       "2                                  0                      1   \n",
       "4                                  0                      0   \n",
       "5                                  0                      1   \n",
       "7                                  0                      1   \n",
       "\n",
       "        MaritalStatus_Single  OverTime_Yes  JobInvolvement_2  \\\n",
       "Emp.ID                                                         \n",
       "1                          1             1                 0   \n",
       "2                          0             0                 1   \n",
       "4                          1             1                 1   \n",
       "5                          0             1                 0   \n",
       "7                          0             0                 0   \n",
       "\n",
       "        JobInvolvement_3  JobInvolvement_4  JobLevel_2  JobLevel_3  \\\n",
       "Emp.ID                                                               \n",
       "1                      1                 0           1           0   \n",
       "2                      0                 0           1           0   \n",
       "4                      0                 0           0           0   \n",
       "5                      1                 0           0           0   \n",
       "7                      1                 0           0           0   \n",
       "\n",
       "        JobLevel_4  JobLevel_5  NumCompaniesWorked_1  NumCompaniesWorked_2  \\\n",
       "Emp.ID                                                                       \n",
       "1                0           0                     0                     0   \n",
       "2                0           0                     1                     0   \n",
       "4                0           0                     0                     0   \n",
       "5                0           0                     1                     0   \n",
       "7                0           0                     0                     0   \n",
       "\n",
       "        NumCompaniesWorked_3  NumCompaniesWorked_4  NumCompaniesWorked_5  \\\n",
       "Emp.ID                                                                     \n",
       "1                          0                     0                     0   \n",
       "2                          0                     0                     0   \n",
       "4                          0                     0                     0   \n",
       "5                          0                     0                     0   \n",
       "7                          0                     0                     0   \n",
       "\n",
       "        NumCompaniesWorked_6  NumCompaniesWorked_7  NumCompaniesWorked_8  \\\n",
       "Emp.ID                                                                     \n",
       "1                          0                     0                     1   \n",
       "2                          0                     0                     0   \n",
       "4                          1                     0                     0   \n",
       "5                          0                     0                     0   \n",
       "7                          0                     0                     0   \n",
       "\n",
       "        NumCompaniesWorked_9  StockOptionLevel_1  StockOptionLevel_2  \\\n",
       "Emp.ID                                                                 \n",
       "1                          0                   0                   0   \n",
       "2                          0                   1                   0   \n",
       "4                          0                   0                   0   \n",
       "5                          0                   0                   0   \n",
       "7                          1                   1                   0   \n",
       "\n",
       "        StockOptionLevel_3  \n",
       "Emp.ID                      \n",
       "1                        0  \n",
       "2                        0  \n",
       "4                        0  \n",
       "5                        0  \n",
       "7                        0  "
      ]
     },
     "execution_count": 928,
     "metadata": {},
     "output_type": "execute_result"
    }
   ],
   "source": [
    "char_dummies.head()"
   ]
  },
  {
   "cell_type": "code",
   "execution_count": 929,
   "metadata": {
    "ExecuteTime": {
     "end_time": "2022-01-15T19:45:05.865311Z",
     "start_time": "2022-01-15T19:45:05.850374Z"
    }
   },
   "outputs": [
    {
     "data": {
      "text/plain": [
       "27"
      ]
     },
     "execution_count": 929,
     "metadata": {},
     "output_type": "execute_result"
    }
   ],
   "source": [
    "int(char_dummies.shape[1]*0.75)\n",
    "# char_dummies.shape[1]"
   ]
  },
  {
   "cell_type": "markdown",
   "metadata": {},
   "source": [
    "### part-2 Select K Best"
   ]
  },
  {
   "cell_type": "code",
   "execution_count": 930,
   "metadata": {
    "ExecuteTime": {
     "end_time": "2022-01-15T19:45:05.895891Z",
     "start_time": "2022-01-15T19:45:05.867306Z"
    }
   },
   "outputs": [
    {
     "name": "stdout",
     "output_type": "stream",
     "text": [
      "<class 'pandas.core.frame.DataFrame'>\n",
      "Int64Index: 1470 entries, 1 to 2068\n",
      "Data columns (total 27 columns):\n",
      " #   Column                            Non-Null Count  Dtype\n",
      "---  ------                            --------------  -----\n",
      " 0   BusinessTravel_Travel_Frequently  1470 non-null   uint8\n",
      " 1   EducationField_Marketing          1470 non-null   uint8\n",
      " 2   EducationField_Medical            1470 non-null   uint8\n",
      " 3   EducationField_Technical Degree   1470 non-null   uint8\n",
      " 4   JobRole_Laboratory Technician     1470 non-null   uint8\n",
      " 5   JobRole_Manager                   1470 non-null   uint8\n",
      " 6   JobRole_Manufacturing Director    1470 non-null   uint8\n",
      " 7   JobRole_Research Director         1470 non-null   uint8\n",
      " 8   JobRole_Sales Representative      1470 non-null   uint8\n",
      " 9   MaritalStatus_Married             1470 non-null   uint8\n",
      " 10  MaritalStatus_Single              1470 non-null   uint8\n",
      " 11  OverTime_Yes                      1470 non-null   uint8\n",
      " 12  JobInvolvement_2                  1470 non-null   uint8\n",
      " 13  JobInvolvement_3                  1470 non-null   uint8\n",
      " 14  JobInvolvement_4                  1470 non-null   uint8\n",
      " 15  JobLevel_2                        1470 non-null   uint8\n",
      " 16  JobLevel_4                        1470 non-null   uint8\n",
      " 17  JobLevel_5                        1470 non-null   uint8\n",
      " 18  NumCompaniesWorked_1              1470 non-null   uint8\n",
      " 19  NumCompaniesWorked_2              1470 non-null   uint8\n",
      " 20  NumCompaniesWorked_3              1470 non-null   uint8\n",
      " 21  NumCompaniesWorked_5              1470 non-null   uint8\n",
      " 22  NumCompaniesWorked_6              1470 non-null   uint8\n",
      " 23  NumCompaniesWorked_7              1470 non-null   uint8\n",
      " 24  NumCompaniesWorked_9              1470 non-null   uint8\n",
      " 25  StockOptionLevel_1                1470 non-null   uint8\n",
      " 26  StockOptionLevel_2                1470 non-null   uint8\n",
      "dtypes: uint8(27)\n",
      "memory usage: 90.2 KB\n"
     ]
    }
   ],
   "source": [
    "kbest = SelectKBest(chi2, k=int(char_dummies.shape[1]*0.75))  # Consider 75% of features with help of selectkbest\n",
    "kbest.fit(char_dummies,y)\n",
    "cols_char = kbest.get_support()\n",
    "char_best = char_dummies.loc[:,cols_char]\n",
    "char_best.info()"
   ]
  },
  {
   "cell_type": "markdown",
   "metadata": {},
   "source": [
    "### creating Master dataset for Model training"
   ]
  },
  {
   "cell_type": "code",
   "execution_count": 931,
   "metadata": {
    "ExecuteTime": {
     "end_time": "2022-01-15T19:45:05.911848Z",
     "start_time": "2022-01-15T19:45:05.897882Z"
    }
   },
   "outputs": [
    {
     "data": {
      "text/plain": [
       "(1470, 31)"
      ]
     },
     "execution_count": 931,
     "metadata": {},
     "output_type": "execute_result"
    }
   ],
   "source": [
    "X_all = pd.concat([num_kbest,char_best], axis=1)\n",
    "X_all.shape"
   ]
  },
  {
   "cell_type": "markdown",
   "metadata": {},
   "source": [
    "### Model Preperation"
   ]
  },
  {
   "cell_type": "markdown",
   "metadata": {},
   "source": [
    "#### Train Test split"
   ]
  },
  {
   "cell_type": "code",
   "execution_count": 934,
   "metadata": {
    "ExecuteTime": {
     "end_time": "2022-01-15T19:45:58.945213Z",
     "start_time": "2022-01-15T19:45:58.932017Z"
    }
   },
   "outputs": [],
   "source": [
    "from sklearn.model_selection import train_test_split\n",
    "X_train, X_val, y_train, y_val = train_test_split(X_all,y,train_size=0.8, random_state=2) # Random state selected t get even attrition rate accross train & val split"
   ]
  },
  {
   "cell_type": "code",
   "execution_count": 935,
   "metadata": {
    "ExecuteTime": {
     "end_time": "2022-01-15T19:45:58.960940Z",
     "start_time": "2022-01-15T19:45:58.947973Z"
    }
   },
   "outputs": [
    {
     "name": "stdout",
     "output_type": "stream",
     "text": [
      "Shape of X_train (1176, 31)\n",
      "Shape of X_val (294, 31)\n",
      "Attrition rate in training split 0.16071428571428573\n",
      "Attrition rate in validation split 0.16326530612244897\n"
     ]
    }
   ],
   "source": [
    "# Analyse split\n",
    "print('Shape of X_train',X_train.shape)\n",
    "print('Shape of X_val',X_val.shape)\n",
    "print('Attrition rate in training split',y_train.mean())\n",
    "print('Attrition rate in validation split',y_val.mean())"
   ]
  },
  {
   "cell_type": "code",
   "execution_count": 936,
   "metadata": {
    "ExecuteTime": {
     "end_time": "2022-01-15T19:45:58.976895Z",
     "start_time": "2022-01-15T19:45:58.963929Z"
    }
   },
   "outputs": [],
   "source": [
    "# Call models to evaluate\n",
    "from sklearn.tree import DecisionTreeClassifier\n",
    "from sklearn.ensemble import RandomForestClassifier, GradientBoostingClassifier\n",
    "dt = DecisionTreeClassifier(random_state=2)\n",
    "rf = RandomForestClassifier(random_state=2)\n",
    "gbm = GradientBoostingClassifier(random_state=2)"
   ]
  },
  {
   "cell_type": "code",
   "execution_count": 937,
   "metadata": {
    "ExecuteTime": {
     "end_time": "2022-01-15T19:45:58.991854Z",
     "start_time": "2022-01-15T19:45:58.979358Z"
    }
   },
   "outputs": [],
   "source": [
    "# model fit function\n",
    "from sklearn.model_selection import GridSearchCV\n",
    "def model_fit(est,param,x,y):\n",
    "    g_search = GridSearchCV(est,param,n_jobs=-1, cv=5)\n",
    "    g_search.fit(x,y)\n",
    "    print('Best Parameter for-->',est,'\\n', g_search.best_params_)"
   ]
  },
  {
   "cell_type": "code",
   "execution_count": 938,
   "metadata": {
    "ExecuteTime": {
     "end_time": "2022-01-15T19:45:59.007079Z",
     "start_time": "2022-01-15T19:45:58.993850Z"
    }
   },
   "outputs": [],
   "source": [
    "dt_params = {'max_depth':[3,4,5,6], 'criterion':['gini', 'entropy'], 'min_samples_split':[50,100]}\n",
    "rf_params = {'criterion':['gini','entropy'], 'n_estimators':[50,100,150],'max_depth':[3,4,5,6],\n",
    "             'min_samples_split':[50,100]}\n",
    "gbm_params = {'criterion':['squared_error', 'mse'],'n_estimators':[50,100,150], \n",
    "              'max_depth':[3,4,5,6],'min_samples_split':[50,100], 'learning_rate':[0.05,0.1,]}"
   ]
  },
  {
   "cell_type": "code",
   "execution_count": 939,
   "metadata": {
    "ExecuteTime": {
     "end_time": "2022-01-15T19:46:35.327005Z",
     "start_time": "2022-01-15T19:45:59.009547Z"
    }
   },
   "outputs": [
    {
     "name": "stdout",
     "output_type": "stream",
     "text": [
      "Best Parameter for--> DecisionTreeClassifier(random_state=2) \n",
      " {'criterion': 'gini', 'max_depth': 3, 'min_samples_split': 50}\n",
      "Best Parameter for--> RandomForestClassifier(random_state=2) \n",
      " {'criterion': 'gini', 'max_depth': 6, 'min_samples_split': 50, 'n_estimators': 100}\n",
      "Best Parameter for--> GradientBoostingClassifier(random_state=2) \n",
      " {'criterion': 'squared_error', 'learning_rate': 0.1, 'max_depth': 3, 'min_samples_split': 100, 'n_estimators': 100}\n"
     ]
    }
   ],
   "source": [
    "model_fit(dt,dt_params,X_train,y_train)\n",
    "model_fit(rf,rf_params,X_train,y_train)\n",
    "model_fit(gbm,gbm_params,X_train,y_train)"
   ]
  },
  {
   "cell_type": "code",
   "execution_count": 940,
   "metadata": {
    "ExecuteTime": {
     "end_time": "2022-01-15T19:46:35.713164Z",
     "start_time": "2022-01-15T19:46:35.329063Z"
    }
   },
   "outputs": [
    {
     "data": {
      "text/plain": [
       "GradientBoostingClassifier(criterion='squared_error', min_samples_split=100)"
      ]
     },
     "execution_count": 940,
     "metadata": {},
     "output_type": "execute_result"
    }
   ],
   "source": [
    "# Model fitting on basis of Best params from gridsearchCV\n",
    "dt = DecisionTreeClassifier(criterion='gini', max_depth=3, min_samples_split=50, random_state=2)\n",
    "dt.fit(X_train,y_train)\n",
    "rf = RandomForestClassifier(criterion='gini', max_depth=6, min_samples_split=50, random_state=2)\n",
    "rf.fit(X_train,y_train)\n",
    "gbm = GradientBoostingClassifier(criterion='squared_error',\n",
    "                                 learning_rate=0.1, max_depth=3, min_samples_split=100, n_estimators=100)\n",
    "gbm.fit(X_train,y_train)"
   ]
  },
  {
   "cell_type": "code",
   "execution_count": 941,
   "metadata": {
    "ExecuteTime": {
     "end_time": "2022-01-15T19:46:35.729072Z",
     "start_time": "2022-01-15T19:46:35.715158Z"
    }
   },
   "outputs": [],
   "source": [
    "# Model Evaluation\n",
    "from sklearn.metrics import plot_confusion_matrix, accuracy_score, recall_score,precision_score,f1_score\n",
    "def model_eval(est,X_val,y_val):\n",
    "    print(est,'\\n')\n",
    "    plot_confusion_matrix(est,X_val, y_val)\n",
    "    print ('Accuracy-->',accuracy_score(y_val, est.predict(X_val)))\n",
    "    print ('Recall-->',recall_score(y_val, est.predict(X_val)))\n",
    "    print ('Precision-->',precision_score(y_val, est.predict(X_val)))\n",
    "    print ('F1_Score-->',f1_score(y_val, est.predict(X_val)))\n",
    "    plt.show()"
   ]
  },
  {
   "cell_type": "code",
   "execution_count": 942,
   "metadata": {
    "ExecuteTime": {
     "end_time": "2022-01-15T19:46:36.376359Z",
     "start_time": "2022-01-15T19:46:35.732963Z"
    },
    "scrolled": true
   },
   "outputs": [
    {
     "name": "stdout",
     "output_type": "stream",
     "text": [
      "DecisionTreeClassifier(max_depth=3, min_samples_split=50, random_state=2) \n",
      "\n",
      "Accuracy--> 0.8503401360544217\n",
      "Recall--> 0.1875\n",
      "Precision--> 0.6428571428571429\n",
      "F1_Score--> 0.2903225806451613\n"
     ]
    },
    {
     "data": {
      "image/png": "[encoded data removed]",
      "text/plain": [
       "<Figure size 432x288 with 2 Axes>"
      ]
     },
     "metadata": {
      "needs_background": "light"
     },
     "output_type": "display_data"
    },
    {
     "name": "stdout",
     "output_type": "stream",
     "text": [
      "RandomForestClassifier(max_depth=6, min_samples_split=50, random_state=2) \n",
      "\n",
      "Accuracy--> 0.8469387755102041\n",
      "Recall--> 0.08333333333333333\n",
      "Precision--> 0.8\n",
      "F1_Score--> 0.1509433962264151\n"
     ]
    },
    {
     "data": {
      "image/png": "[encoded data removed]",
      "text/plain": [
       "<Figure size 432x288 with 2 Axes>"
      ]
     },
     "metadata": {
      "needs_background": "light"
     },
     "output_type": "display_data"
    },
    {
     "name": "stdout",
     "output_type": "stream",
     "text": [
      "GradientBoostingClassifier(criterion='squared_error', min_samples_split=100) \n",
      "\n",
      "Accuracy--> 0.8605442176870748\n",
      "Recall--> 0.3125\n",
      "Precision--> 0.6521739130434783\n",
      "F1_Score--> 0.4225352112676057\n"
     ]
    },
    {
     "data": {
      "image/png": "[encoded data removed]",
      "text/plain": [
       "<Figure size 432x288 with 2 Axes>"
      ]
     },
     "metadata": {
      "needs_background": "light"
     },
     "output_type": "display_data"
    }
   ],
   "source": [
    "model_eval(dt,X_val,y_val)\n",
    "model_eval(rf,X_val,y_val)\n",
    "model_eval(gbm,X_val,y_val)"
   ]
  },
  {
   "cell_type": "code",
   "execution_count": 943,
   "metadata": {
    "ExecuteTime": {
     "end_time": "2022-01-15T19:46:36.392145Z",
     "start_time": "2022-01-15T19:46:36.378182Z"
    }
   },
   "outputs": [
    {
     "data": {
      "text/plain": [
       "array([0.29451648, 0.12632921, 0.06719346, 0.00913333, 0.03020104,\n",
       "       0.02608508, 0.01715942, 0.01250925, 0.01054721, 0.        ,\n",
       "       0.00552218, 0.00426564, 0.        , 0.00100096, 0.05692817,\n",
       "       0.16978949, 0.02113387, 0.01098807, 0.00877146, 0.01216364,\n",
       "       0.        , 0.        , 0.0004563 , 0.00438663, 0.00194774,\n",
       "       0.01592835, 0.00843419, 0.01645927, 0.01266037, 0.03881152,\n",
       "       0.01667768])"
      ]
     },
     "execution_count": 943,
     "metadata": {},
     "output_type": "execute_result"
    }
   ],
   "source": [
    "gbm.feature_importances_"
   ]
  },
  {
   "cell_type": "code",
   "execution_count": 944,
   "metadata": {
    "ExecuteTime": {
     "end_time": "2022-01-15T19:46:36.407658Z",
     "start_time": "2022-01-15T19:46:36.393142Z"
    }
   },
   "outputs": [
    {
     "data": {
      "text/plain": [
       "array(['MonthlyIncome', 'TotalWorkingYears', 'YearsAtCompany',\n",
       "       'YearsInCurrentRole', 'BusinessTravel_Travel_Frequently',\n",
       "       'EducationField_Marketing', 'EducationField_Medical',\n",
       "       'EducationField_Technical Degree', 'JobRole_Laboratory Technician',\n",
       "       'JobRole_Manager', 'JobRole_Manufacturing Director',\n",
       "       'JobRole_Research Director', 'JobRole_Sales Representative',\n",
       "       'MaritalStatus_Married', 'MaritalStatus_Single', 'OverTime_Yes',\n",
       "       'JobInvolvement_2', 'JobInvolvement_3', 'JobInvolvement_4',\n",
       "       'JobLevel_2', 'JobLevel_4', 'JobLevel_5', 'NumCompaniesWorked_1',\n",
       "       'NumCompaniesWorked_2', 'NumCompaniesWorked_3',\n",
       "       'NumCompaniesWorked_5', 'NumCompaniesWorked_6',\n",
       "       'NumCompaniesWorked_7', 'NumCompaniesWorked_9',\n",
       "       'StockOptionLevel_1', 'StockOptionLevel_2'], dtype=object)"
      ]
     },
     "execution_count": 944,
     "metadata": {},
     "output_type": "execute_result"
    }
   ],
   "source": [
    "gbm.feature_names_in_"
   ]
  },
  {
   "cell_type": "code",
   "execution_count": 945,
   "metadata": {
    "ExecuteTime": {
     "end_time": "2022-01-15T19:46:36.640900Z",
     "start_time": "2022-01-15T19:46:36.409596Z"
    }
   },
   "outputs": [
    {
     "data": {
      "image/png": "[encoded data removed]",
      "text/plain": [
       "<Figure size 432x288 with 1 Axes>"
      ]
     },
     "metadata": {
      "needs_background": "light"
     },
     "output_type": "display_data"
    }
   ],
   "source": [
    "# Feature importance based on best estimator\n",
    "feature_importance = pd.DataFrame(gbm.feature_importances_, \n",
    "                                  index=X_all.columns, columns=['FI']).sort_values('FI',ascending=False)\n",
    "ax = sns.barplot(x='FI', y=feature_importance[:10].index, data=feature_importance.iloc[:10])"
   ]
  },
  {
   "cell_type": "markdown",
   "metadata": {},
   "source": [
    "### Probability Decile Analysis"
   ]
  },
  {
   "cell_type": "code",
   "execution_count": 1027,
   "metadata": {
    "ExecuteTime": {
     "end_time": "2022-01-16T15:47:00.244878Z",
     "start_time": "2022-01-16T15:47:00.143228Z"
    },
    "scrolled": true
   },
   "outputs": [
    {
     "data": {
      "text/html": [
       "<div>\n",
       "<style scoped>\n",
       "    .dataframe tbody tr th:only-of-type {\n",
       "        vertical-align: middle;\n",
       "    }\n",
       "\n",
       "    .dataframe tbody tr th {\n",
       "        vertical-align: top;\n",
       "    }\n",
       "\n",
       "    .dataframe thead th {\n",
       "        text-align: right;\n",
       "    }\n",
       "</style>\n",
       "<table border=\"1\" class=\"dataframe\">\n",
       "  <thead>\n",
       "    <tr style=\"text-align: right;\">\n",
       "      <th></th>\n",
       "      <th>count</th>\n",
       "      <th>Actual_event_rate</th>\n",
       "      <th>N_events</th>\n",
       "      <th>cumm_event</th>\n",
       "      <th>event_rate</th>\n",
       "      <th>cumm_event_rate</th>\n",
       "      <th>N_Non_events</th>\n",
       "      <th>cumm_Non_events</th>\n",
       "      <th>Non_event_rate</th>\n",
       "      <th>cumm_non_event_rate</th>\n",
       "      <th>KS</th>\n",
       "      <th>Decile</th>\n",
       "      <th>Lift_overe_Avg</th>\n",
       "    </tr>\n",
       "    <tr>\n",
       "      <th>Rank_gbm</th>\n",
       "      <th></th>\n",
       "      <th></th>\n",
       "      <th></th>\n",
       "      <th></th>\n",
       "      <th></th>\n",
       "      <th></th>\n",
       "      <th></th>\n",
       "      <th></th>\n",
       "      <th></th>\n",
       "      <th></th>\n",
       "      <th></th>\n",
       "      <th></th>\n",
       "      <th></th>\n",
       "    </tr>\n",
       "  </thead>\n",
       "  <tbody>\n",
       "    <tr>\n",
       "      <th>10</th>\n",
       "      <td>147</td>\n",
       "      <td>0.823129</td>\n",
       "      <td>121.0</td>\n",
       "      <td>121.0</td>\n",
       "      <td>0.510549</td>\n",
       "      <td>0.510549</td>\n",
       "      <td>26.0</td>\n",
       "      <td>26.0</td>\n",
       "      <td>0.021087</td>\n",
       "      <td>0.021087</td>\n",
       "      <td>0.4895</td>\n",
       "      <td>1</td>\n",
       "      <td>5.105485</td>\n",
       "    </tr>\n",
       "    <tr>\n",
       "      <th>9</th>\n",
       "      <td>147</td>\n",
       "      <td>0.340136</td>\n",
       "      <td>50.0</td>\n",
       "      <td>171.0</td>\n",
       "      <td>0.210970</td>\n",
       "      <td>0.721519</td>\n",
       "      <td>97.0</td>\n",
       "      <td>123.0</td>\n",
       "      <td>0.078670</td>\n",
       "      <td>0.099757</td>\n",
       "      <td>0.6218</td>\n",
       "      <td>2</td>\n",
       "      <td>2.109705</td>\n",
       "    </tr>\n",
       "    <tr>\n",
       "      <th>8</th>\n",
       "      <td>147</td>\n",
       "      <td>0.183673</td>\n",
       "      <td>27.0</td>\n",
       "      <td>198.0</td>\n",
       "      <td>0.113924</td>\n",
       "      <td>0.835443</td>\n",
       "      <td>120.0</td>\n",
       "      <td>243.0</td>\n",
       "      <td>0.097324</td>\n",
       "      <td>0.197080</td>\n",
       "      <td>0.6384</td>\n",
       "      <td>3</td>\n",
       "      <td>1.139241</td>\n",
       "    </tr>\n",
       "    <tr>\n",
       "      <th>7</th>\n",
       "      <td>147</td>\n",
       "      <td>0.068027</td>\n",
       "      <td>10.0</td>\n",
       "      <td>208.0</td>\n",
       "      <td>0.042194</td>\n",
       "      <td>0.877637</td>\n",
       "      <td>137.0</td>\n",
       "      <td>380.0</td>\n",
       "      <td>0.111111</td>\n",
       "      <td>0.308191</td>\n",
       "      <td>0.5694</td>\n",
       "      <td>4</td>\n",
       "      <td>0.421941</td>\n",
       "    </tr>\n",
       "    <tr>\n",
       "      <th>6</th>\n",
       "      <td>147</td>\n",
       "      <td>0.040816</td>\n",
       "      <td>6.0</td>\n",
       "      <td>214.0</td>\n",
       "      <td>0.025316</td>\n",
       "      <td>0.902954</td>\n",
       "      <td>141.0</td>\n",
       "      <td>521.0</td>\n",
       "      <td>0.114355</td>\n",
       "      <td>0.422547</td>\n",
       "      <td>0.4804</td>\n",
       "      <td>5</td>\n",
       "      <td>0.253165</td>\n",
       "    </tr>\n",
       "    <tr>\n",
       "      <th>5</th>\n",
       "      <td>147</td>\n",
       "      <td>0.081633</td>\n",
       "      <td>12.0</td>\n",
       "      <td>226.0</td>\n",
       "      <td>0.050633</td>\n",
       "      <td>0.953586</td>\n",
       "      <td>135.0</td>\n",
       "      <td>656.0</td>\n",
       "      <td>0.109489</td>\n",
       "      <td>0.532036</td>\n",
       "      <td>0.4216</td>\n",
       "      <td>6</td>\n",
       "      <td>0.506329</td>\n",
       "    </tr>\n",
       "    <tr>\n",
       "      <th>4</th>\n",
       "      <td>147</td>\n",
       "      <td>0.034014</td>\n",
       "      <td>5.0</td>\n",
       "      <td>231.0</td>\n",
       "      <td>0.021097</td>\n",
       "      <td>0.974684</td>\n",
       "      <td>142.0</td>\n",
       "      <td>798.0</td>\n",
       "      <td>0.115166</td>\n",
       "      <td>0.647202</td>\n",
       "      <td>0.3275</td>\n",
       "      <td>7</td>\n",
       "      <td>0.210970</td>\n",
       "    </tr>\n",
       "    <tr>\n",
       "      <th>3</th>\n",
       "      <td>147</td>\n",
       "      <td>0.013605</td>\n",
       "      <td>2.0</td>\n",
       "      <td>233.0</td>\n",
       "      <td>0.008439</td>\n",
       "      <td>0.983122</td>\n",
       "      <td>145.0</td>\n",
       "      <td>943.0</td>\n",
       "      <td>0.117599</td>\n",
       "      <td>0.764801</td>\n",
       "      <td>0.2183</td>\n",
       "      <td>8</td>\n",
       "      <td>0.084388</td>\n",
       "    </tr>\n",
       "    <tr>\n",
       "      <th>2</th>\n",
       "      <td>147</td>\n",
       "      <td>0.006803</td>\n",
       "      <td>1.0</td>\n",
       "      <td>234.0</td>\n",
       "      <td>0.004219</td>\n",
       "      <td>0.987342</td>\n",
       "      <td>146.0</td>\n",
       "      <td>1089.0</td>\n",
       "      <td>0.118410</td>\n",
       "      <td>0.883212</td>\n",
       "      <td>0.1041</td>\n",
       "      <td>9</td>\n",
       "      <td>0.042194</td>\n",
       "    </tr>\n",
       "    <tr>\n",
       "      <th>1</th>\n",
       "      <td>147</td>\n",
       "      <td>0.020408</td>\n",
       "      <td>3.0</td>\n",
       "      <td>237.0</td>\n",
       "      <td>0.012658</td>\n",
       "      <td>1.000000</td>\n",
       "      <td>144.0</td>\n",
       "      <td>1233.0</td>\n",
       "      <td>0.116788</td>\n",
       "      <td>1.000000</td>\n",
       "      <td>0.0000</td>\n",
       "      <td>10</td>\n",
       "      <td>0.126582</td>\n",
       "    </tr>\n",
       "  </tbody>\n",
       "</table>\n",
       "</div>"
      ],
      "text/plain": [
       "          count  Actual_event_rate  N_events  cumm_event  event_rate  \\\n",
       "Rank_gbm                                                               \n",
       "10          147           0.823129     121.0       121.0    0.510549   \n",
       "9           147           0.340136      50.0       171.0    0.210970   \n",
       "8           147           0.183673      27.0       198.0    0.113924   \n",
       "7           147           0.068027      10.0       208.0    0.042194   \n",
       "6           147           0.040816       6.0       214.0    0.025316   \n",
       "5           147           0.081633      12.0       226.0    0.050633   \n",
       "4           147           0.034014       5.0       231.0    0.021097   \n",
       "3           147           0.013605       2.0       233.0    0.008439   \n",
       "2           147           0.006803       1.0       234.0    0.004219   \n",
       "1           147           0.020408       3.0       237.0    0.012658   \n",
       "\n",
       "          cumm_event_rate  N_Non_events  cumm_Non_events  Non_event_rate  \\\n",
       "Rank_gbm                                                                   \n",
       "10               0.510549          26.0             26.0        0.021087   \n",
       "9                0.721519          97.0            123.0        0.078670   \n",
       "8                0.835443         120.0            243.0        0.097324   \n",
       "7                0.877637         137.0            380.0        0.111111   \n",
       "6                0.902954         141.0            521.0        0.114355   \n",
       "5                0.953586         135.0            656.0        0.109489   \n",
       "4                0.974684         142.0            798.0        0.115166   \n",
       "3                0.983122         145.0            943.0        0.117599   \n",
       "2                0.987342         146.0           1089.0        0.118410   \n",
       "1                1.000000         144.0           1233.0        0.116788   \n",
       "\n",
       "          cumm_non_event_rate      KS  Decile  Lift_overe_Avg  \n",
       "Rank_gbm                                                       \n",
       "10                   0.021087  0.4895       1        5.105485  \n",
       "9                    0.099757  0.6218       2        2.109705  \n",
       "8                    0.197080  0.6384       3        1.139241  \n",
       "7                    0.308191  0.5694       4        0.421941  \n",
       "6                    0.422547  0.4804       5        0.253165  \n",
       "5                    0.532036  0.4216       6        0.506329  \n",
       "4                    0.647202  0.3275       7        0.210970  \n",
       "3                    0.764801  0.2183       8        0.084388  \n",
       "2                    0.883212  0.1041       9        0.042194  \n",
       "1                    1.000000  0.0000      10        0.126582  "
      ]
     },
     "execution_count": 1027,
     "metadata": {},
     "output_type": "execute_result"
    }
   ],
   "source": [
    "df['pred_prob']=pd.DataFrame(gbm.predict_proba(X_all)[:,1], index=df.index)\n",
    "df['Rank_gbm'] = pd.qcut(df['pred_prob'].rank(method='first').values,10,duplicates='drop').codes+1\n",
    "# .rank used to provide ranking based on value for ease of qcut\n",
    "# .codes+1 provides numeric codes for ranked groups.\n",
    "rank_df_actuals = df.groupby('Rank_gbm')['target'].agg(['count','mean'])\n",
    "rank_df_actuals = pd.DataFrame(rank_df_actuals)\n",
    "rank_df_actuals.rename(columns={'mean':'Actual_event_rate'}, inplace=True)\n",
    "\n",
    "# Ranking in descending order\n",
    "sorted_rank_df = rank_df_actuals.sort_values('Rank_gbm', ascending=False)\n",
    "\n",
    "# Getting Cummulative values for events\n",
    "sorted_rank_df['N_events'] = sorted_rank_df['count'] * rank_df_actuals['Actual_event_rate']\n",
    "sorted_rank_df['cumm_event'] = sorted_rank_df['N_events'].cumsum()\n",
    "sorted_rank_df['event_rate'] = (sorted_rank_df['N_events']/max(sorted_rank_df['cumm_event']))\n",
    "sorted_rank_df['cumm_event_rate'] = sorted_rank_df['event_rate'].cumsum()\n",
    "\n",
    "# Getting Cummulative Values for Non-events\n",
    "sorted_rank_df['N_Non_events'] = sorted_rank_df['count']-sorted_rank_df['N_events']\n",
    "sorted_rank_df['cumm_Non_events'] = sorted_rank_df['N_Non_events'].cumsum()\n",
    "sorted_rank_df['Non_event_rate'] = sorted_rank_df['N_Non_events']/max(sorted_rank_df['cumm_Non_events'])\n",
    "sorted_rank_df['cumm_non_event_rate'] = sorted_rank_df['Non_event_rate'].cumsum()\n",
    "sorted_rank_df['KS'] = round((sorted_rank_df['cumm_event_rate'] - sorted_rank_df['cumm_non_event_rate']),4)\n",
    "sorted_rank_df['Decile'] = list(range(1,sorted_rank_df.shape[0]+1))\n",
    "sorted_rank_df['Lift_overe_Avg'] = sorted_rank_df['Actual_event_rate'] / df.target.mean()\n",
    "sorted_rank_df\n"
   ]
  },
  {
   "cell_type": "code",
   "execution_count": 1084,
   "metadata": {
    "ExecuteTime": {
     "end_time": "2022-01-16T17:53:37.046342Z",
     "start_time": "2022-01-16T17:53:35.939542Z"
    }
   },
   "outputs": [
    {
     "data": {
      "image/png": "[encoded data removed]",
      "text/plain": [
       "<Figure size 1080x360 with 3 Axes>"
      ]
     },
     "metadata": {
      "needs_background": "light"
     },
     "output_type": "display_data"
    }
   ],
   "source": [
    "# Display Effectiveness of Decile based on Model Probabilities\n",
    "fig, axs = plt.subplots(1,3, figsize=(15,5))\n",
    "plt.suptitle('Effectiveness of Deciles baesd on Model Probabilities', fontsize=20, color='purple',y=1.01)\n",
    "sns.lineplot(x ='Decile',y='Actual_event_rate', data=sorted_rank_df, ax=axs[0], color='red')\n",
    "axs[0].set_title('Actual Event Rate as per Decile', fontsize=12)\n",
    "sns.barplot(x='Decile', y='Lift_overe_Avg', data=sorted_rank_df,ax=axs[1],color='blue')\n",
    "axs[1].set_title('Lift Over Avg. as per Deciles', fontsize=12)\n",
    "sns.lineplot(x='Decile', y='cumm_event_rate', data=sorted_rank_df, color='red',ax=axs[2])\n",
    "sns.lineplot(x='Decile', y='cumm_non_event_rate', data=sorted_rank_df,ax=axs[2])\n",
    "axs[2].set_title('Gain Rate', fontsize=12)\n",
    "plt.show()"
   ]
  },
  {
   "cell_type": "code",
   "execution_count": 1085,
   "metadata": {
    "ExecuteTime": {
     "end_time": "2022-01-16T18:25:49.867440Z",
     "start_time": "2022-01-16T18:25:49.820232Z"
    }
   },
   "outputs": [
    {
     "data": {
      "text/html": [
       "<div>\n",
       "<style scoped>\n",
       "    .dataframe tbody tr th:only-of-type {\n",
       "        vertical-align: middle;\n",
       "    }\n",
       "\n",
       "    .dataframe tbody tr th {\n",
       "        vertical-align: top;\n",
       "    }\n",
       "\n",
       "    .dataframe thead th {\n",
       "        text-align: right;\n",
       "    }\n",
       "</style>\n",
       "<table border=\"1\" class=\"dataframe\">\n",
       "  <thead>\n",
       "    <tr style=\"text-align: right;\">\n",
       "      <th></th>\n",
       "      <th>count</th>\n",
       "      <th>Actual_event_rate</th>\n",
       "      <th>N_events</th>\n",
       "      <th>cumm_event</th>\n",
       "      <th>event_rate</th>\n",
       "      <th>cumm_event_rate</th>\n",
       "      <th>N_Non_events</th>\n",
       "      <th>cumm_Non_events</th>\n",
       "      <th>Non_event_rate</th>\n",
       "      <th>cumm_non_event_rate</th>\n",
       "      <th>KS</th>\n",
       "      <th>Decile</th>\n",
       "      <th>Lift_overe_Avg</th>\n",
       "    </tr>\n",
       "    <tr>\n",
       "      <th>Rank_gbm</th>\n",
       "      <th></th>\n",
       "      <th></th>\n",
       "      <th></th>\n",
       "      <th></th>\n",
       "      <th></th>\n",
       "      <th></th>\n",
       "      <th></th>\n",
       "      <th></th>\n",
       "      <th></th>\n",
       "      <th></th>\n",
       "      <th></th>\n",
       "      <th></th>\n",
       "      <th></th>\n",
       "    </tr>\n",
       "  </thead>\n",
       "  <tbody>\n",
       "    <tr>\n",
       "      <th>10</th>\n",
       "      <td>147</td>\n",
       "      <td>0.823129</td>\n",
       "      <td>121.0</td>\n",
       "      <td>121.0</td>\n",
       "      <td>0.510549</td>\n",
       "      <td>0.510549</td>\n",
       "      <td>26.0</td>\n",
       "      <td>26.0</td>\n",
       "      <td>0.021087</td>\n",
       "      <td>0.021087</td>\n",
       "      <td>0.4895</td>\n",
       "      <td>1</td>\n",
       "      <td>5.105485</td>\n",
       "    </tr>\n",
       "    <tr>\n",
       "      <th>9</th>\n",
       "      <td>147</td>\n",
       "      <td>0.340136</td>\n",
       "      <td>50.0</td>\n",
       "      <td>171.0</td>\n",
       "      <td>0.210970</td>\n",
       "      <td>0.721519</td>\n",
       "      <td>97.0</td>\n",
       "      <td>123.0</td>\n",
       "      <td>0.078670</td>\n",
       "      <td>0.099757</td>\n",
       "      <td>0.6218</td>\n",
       "      <td>2</td>\n",
       "      <td>2.109705</td>\n",
       "    </tr>\n",
       "    <tr>\n",
       "      <th>8</th>\n",
       "      <td>147</td>\n",
       "      <td>0.183673</td>\n",
       "      <td>27.0</td>\n",
       "      <td>198.0</td>\n",
       "      <td>0.113924</td>\n",
       "      <td>0.835443</td>\n",
       "      <td>120.0</td>\n",
       "      <td>243.0</td>\n",
       "      <td>0.097324</td>\n",
       "      <td>0.197080</td>\n",
       "      <td>0.6384</td>\n",
       "      <td>3</td>\n",
       "      <td>1.139241</td>\n",
       "    </tr>\n",
       "    <tr>\n",
       "      <th>7</th>\n",
       "      <td>147</td>\n",
       "      <td>0.068027</td>\n",
       "      <td>10.0</td>\n",
       "      <td>208.0</td>\n",
       "      <td>0.042194</td>\n",
       "      <td>0.877637</td>\n",
       "      <td>137.0</td>\n",
       "      <td>380.0</td>\n",
       "      <td>0.111111</td>\n",
       "      <td>0.308191</td>\n",
       "      <td>0.5694</td>\n",
       "      <td>4</td>\n",
       "      <td>0.421941</td>\n",
       "    </tr>\n",
       "    <tr>\n",
       "      <th>6</th>\n",
       "      <td>147</td>\n",
       "      <td>0.040816</td>\n",
       "      <td>6.0</td>\n",
       "      <td>214.0</td>\n",
       "      <td>0.025316</td>\n",
       "      <td>0.902954</td>\n",
       "      <td>141.0</td>\n",
       "      <td>521.0</td>\n",
       "      <td>0.114355</td>\n",
       "      <td>0.422547</td>\n",
       "      <td>0.4804</td>\n",
       "      <td>5</td>\n",
       "      <td>0.253165</td>\n",
       "    </tr>\n",
       "    <tr>\n",
       "      <th>5</th>\n",
       "      <td>147</td>\n",
       "      <td>0.081633</td>\n",
       "      <td>12.0</td>\n",
       "      <td>226.0</td>\n",
       "      <td>0.050633</td>\n",
       "      <td>0.953586</td>\n",
       "      <td>135.0</td>\n",
       "      <td>656.0</td>\n",
       "      <td>0.109489</td>\n",
       "      <td>0.532036</td>\n",
       "      <td>0.4216</td>\n",
       "      <td>6</td>\n",
       "      <td>0.506329</td>\n",
       "    </tr>\n",
       "    <tr>\n",
       "      <th>4</th>\n",
       "      <td>147</td>\n",
       "      <td>0.034014</td>\n",
       "      <td>5.0</td>\n",
       "      <td>231.0</td>\n",
       "      <td>0.021097</td>\n",
       "      <td>0.974684</td>\n",
       "      <td>142.0</td>\n",
       "      <td>798.0</td>\n",
       "      <td>0.115166</td>\n",
       "      <td>0.647202</td>\n",
       "      <td>0.3275</td>\n",
       "      <td>7</td>\n",
       "      <td>0.210970</td>\n",
       "    </tr>\n",
       "    <tr>\n",
       "      <th>3</th>\n",
       "      <td>147</td>\n",
       "      <td>0.013605</td>\n",
       "      <td>2.0</td>\n",
       "      <td>233.0</td>\n",
       "      <td>0.008439</td>\n",
       "      <td>0.983122</td>\n",
       "      <td>145.0</td>\n",
       "      <td>943.0</td>\n",
       "      <td>0.117599</td>\n",
       "      <td>0.764801</td>\n",
       "      <td>0.2183</td>\n",
       "      <td>8</td>\n",
       "      <td>0.084388</td>\n",
       "    </tr>\n",
       "    <tr>\n",
       "      <th>2</th>\n",
       "      <td>147</td>\n",
       "      <td>0.006803</td>\n",
       "      <td>1.0</td>\n",
       "      <td>234.0</td>\n",
       "      <td>0.004219</td>\n",
       "      <td>0.987342</td>\n",
       "      <td>146.0</td>\n",
       "      <td>1089.0</td>\n",
       "      <td>0.118410</td>\n",
       "      <td>0.883212</td>\n",
       "      <td>0.1041</td>\n",
       "      <td>9</td>\n",
       "      <td>0.042194</td>\n",
       "    </tr>\n",
       "    <tr>\n",
       "      <th>1</th>\n",
       "      <td>147</td>\n",
       "      <td>0.020408</td>\n",
       "      <td>3.0</td>\n",
       "      <td>237.0</td>\n",
       "      <td>0.012658</td>\n",
       "      <td>1.000000</td>\n",
       "      <td>144.0</td>\n",
       "      <td>1233.0</td>\n",
       "      <td>0.116788</td>\n",
       "      <td>1.000000</td>\n",
       "      <td>0.0000</td>\n",
       "      <td>10</td>\n",
       "      <td>0.126582</td>\n",
       "    </tr>\n",
       "  </tbody>\n",
       "</table>\n",
       "</div>"
      ],
      "text/plain": [
       "          count  Actual_event_rate  N_events  cumm_event  event_rate  \\\n",
       "Rank_gbm                                                               \n",
       "10          147           0.823129     121.0       121.0    0.510549   \n",
       "9           147           0.340136      50.0       171.0    0.210970   \n",
       "8           147           0.183673      27.0       198.0    0.113924   \n",
       "7           147           0.068027      10.0       208.0    0.042194   \n",
       "6           147           0.040816       6.0       214.0    0.025316   \n",
       "5           147           0.081633      12.0       226.0    0.050633   \n",
       "4           147           0.034014       5.0       231.0    0.021097   \n",
       "3           147           0.013605       2.0       233.0    0.008439   \n",
       "2           147           0.006803       1.0       234.0    0.004219   \n",
       "1           147           0.020408       3.0       237.0    0.012658   \n",
       "\n",
       "          cumm_event_rate  N_Non_events  cumm_Non_events  Non_event_rate  \\\n",
       "Rank_gbm                                                                   \n",
       "10               0.510549          26.0             26.0        0.021087   \n",
       "9                0.721519          97.0            123.0        0.078670   \n",
       "8                0.835443         120.0            243.0        0.097324   \n",
       "7                0.877637         137.0            380.0        0.111111   \n",
       "6                0.902954         141.0            521.0        0.114355   \n",
       "5                0.953586         135.0            656.0        0.109489   \n",
       "4                0.974684         142.0            798.0        0.115166   \n",
       "3                0.983122         145.0            943.0        0.117599   \n",
       "2                0.987342         146.0           1089.0        0.118410   \n",
       "1                1.000000         144.0           1233.0        0.116788   \n",
       "\n",
       "          cumm_non_event_rate      KS  Decile  Lift_overe_Avg  \n",
       "Rank_gbm                                                       \n",
       "10                   0.021087  0.4895       1        5.105485  \n",
       "9                    0.099757  0.6218       2        2.109705  \n",
       "8                    0.197080  0.6384       3        1.139241  \n",
       "7                    0.308191  0.5694       4        0.421941  \n",
       "6                    0.422547  0.4804       5        0.253165  \n",
       "5                    0.532036  0.4216       6        0.506329  \n",
       "4                    0.647202  0.3275       7        0.210970  \n",
       "3                    0.764801  0.2183       8        0.084388  \n",
       "2                    0.883212  0.1041       9        0.042194  \n",
       "1                    1.000000  0.0000      10        0.126582  "
      ]
     },
     "execution_count": 1085,
     "metadata": {},
     "output_type": "execute_result"
    }
   ],
   "source": [
    "sorted_rank_df"
   ]
  },
  {
   "cell_type": "code",
   "execution_count": 1086,
   "metadata": {
    "ExecuteTime": {
     "end_time": "2022-01-16T18:27:37.681077Z",
     "start_time": "2022-01-16T18:27:37.651022Z"
    }
   },
   "outputs": [],
   "source": [
    "# audience\n",
    "# Around 80% attrition events are in 3 Ranks, so will group them in Bottom & Top groups\n",
    "df['Ranking_group']=np.where(df['Rank_gbm']<8,'Bottom7','Top3')"
   ]
  },
  {
   "cell_type": "code",
   "execution_count": 1096,
   "metadata": {
    "ExecuteTime": {
     "end_time": "2022-01-16T18:45:21.406540Z",
     "start_time": "2022-01-16T18:45:21.370655Z"
    },
    "scrolled": true
   },
   "outputs": [
    {
     "data": {
      "text/html": [
       "<div>\n",
       "<style scoped>\n",
       "    .dataframe tbody tr th:only-of-type {\n",
       "        vertical-align: middle;\n",
       "    }\n",
       "\n",
       "    .dataframe tbody tr th {\n",
       "        vertical-align: top;\n",
       "    }\n",
       "\n",
       "    .dataframe thead th {\n",
       "        text-align: right;\n",
       "    }\n",
       "</style>\n",
       "<table border=\"1\" class=\"dataframe\">\n",
       "  <thead>\n",
       "    <tr style=\"text-align: right;\">\n",
       "      <th></th>\n",
       "      <th>mean</th>\n",
       "      <th>count</th>\n",
       "      <th>sum</th>\n",
       "      <th>event_rate</th>\n",
       "    </tr>\n",
       "    <tr>\n",
       "      <th>Ranking_group</th>\n",
       "      <th></th>\n",
       "      <th></th>\n",
       "      <th></th>\n",
       "      <th></th>\n",
       "    </tr>\n",
       "  </thead>\n",
       "  <tbody>\n",
       "    <tr>\n",
       "      <th>Bottom7</th>\n",
       "      <td>0.037901</td>\n",
       "      <td>1029</td>\n",
       "      <td>39</td>\n",
       "      <td>0.164557</td>\n",
       "    </tr>\n",
       "    <tr>\n",
       "      <th>Top3</th>\n",
       "      <td>0.448980</td>\n",
       "      <td>441</td>\n",
       "      <td>198</td>\n",
       "      <td>0.835443</td>\n",
       "    </tr>\n",
       "  </tbody>\n",
       "</table>\n",
       "</div>"
      ],
      "text/plain": [
       "                   mean  count  sum  event_rate\n",
       "Ranking_group                                  \n",
       "Bottom7        0.037901   1029   39    0.164557\n",
       "Top3           0.448980    441  198    0.835443"
      ]
     },
     "execution_count": 1096,
     "metadata": {},
     "output_type": "execute_result"
    }
   ],
   "source": [
    "ranking_group_df = df.groupby('Ranking_group')['target'].agg(['mean', 'count', 'sum'])\n",
    "ranking_group_df['event_rate'] = ranking_group_df['sum']/ranking_group_df['sum'].sum()\n",
    "ranking_group_df"
   ]
  },
  {
   "cell_type": "markdown",
   "metadata": {},
   "source": [
    "- Top3 ranked group have 441 employee out of which 198 attrited, which is 83.5% of total attriters"
   ]
  },
  {
   "cell_type": "code",
   "execution_count": 1102,
   "metadata": {
    "ExecuteTime": {
     "end_time": "2022-01-16T18:58:27.638668Z",
     "start_time": "2022-01-16T18:58:27.617203Z"
    }
   },
   "outputs": [
    {
     "data": {
      "text/plain": [
       "Top3    441\n",
       "Name: Ranking_group, dtype: int64"
      ]
     },
     "execution_count": 1102,
     "metadata": {},
     "output_type": "execute_result"
    }
   ],
   "source": [
    "# Focussing on Top3 ranked employees only\n",
    "df_top3 = df[df['Ranking_group']=='Top3']\n",
    "df_top3.Ranking_group.value_counts()"
   ]
  },
  {
   "cell_type": "code",
   "execution_count": 1106,
   "metadata": {
    "ExecuteTime": {
     "end_time": "2022-01-16T19:06:35.651293Z",
     "start_time": "2022-01-16T19:06:35.596436Z"
    }
   },
   "outputs": [
    {
     "data": {
      "text/html": [
       "<div>\n",
       "<style scoped>\n",
       "    .dataframe tbody tr th:only-of-type {\n",
       "        vertical-align: middle;\n",
       "    }\n",
       "\n",
       "    .dataframe tbody tr th {\n",
       "        vertical-align: top;\n",
       "    }\n",
       "\n",
       "    .dataframe thead th {\n",
       "        text-align: right;\n",
       "    }\n",
       "</style>\n",
       "<table border=\"1\" class=\"dataframe\">\n",
       "  <thead>\n",
       "    <tr style=\"text-align: right;\">\n",
       "      <th></th>\n",
       "      <th>Age</th>\n",
       "      <th>BusinessTravel</th>\n",
       "      <th>DailyRate</th>\n",
       "      <th>Department</th>\n",
       "      <th>DistanceFromHome</th>\n",
       "      <th>Education</th>\n",
       "      <th>EducationField</th>\n",
       "      <th>EmployeeCount</th>\n",
       "      <th>EnvironmentSatisfaction</th>\n",
       "      <th>Gender</th>\n",
       "      <th>HourlyRate</th>\n",
       "      <th>JobInvolvement</th>\n",
       "      <th>JobLevel</th>\n",
       "      <th>JobRole</th>\n",
       "      <th>JobSatisfaction</th>\n",
       "      <th>MaritalStatus</th>\n",
       "      <th>MonthlyIncome</th>\n",
       "      <th>MonthlyRate</th>\n",
       "      <th>NumCompaniesWorked</th>\n",
       "      <th>Over18</th>\n",
       "      <th>OverTime</th>\n",
       "      <th>PercentSalaryHike</th>\n",
       "      <th>PerformanceRating</th>\n",
       "      <th>RelationshipSatisfaction</th>\n",
       "      <th>StandardHours</th>\n",
       "      <th>StockOptionLevel</th>\n",
       "      <th>TotalWorkingYears</th>\n",
       "      <th>TrainingTimesLastYear</th>\n",
       "      <th>WorkLifeBalance</th>\n",
       "      <th>YearsAtCompany</th>\n",
       "      <th>YearsInCurrentRole</th>\n",
       "      <th>YearsSinceLastPromotion</th>\n",
       "      <th>YearsWithCurrManager</th>\n",
       "      <th>target</th>\n",
       "      <th>y_pred_P</th>\n",
       "      <th>P_Rank_gbm</th>\n",
       "      <th>pred_prob</th>\n",
       "      <th>Rank_gbm</th>\n",
       "      <th>Ranking_group</th>\n",
       "    </tr>\n",
       "    <tr>\n",
       "      <th>Emp.ID</th>\n",
       "      <th></th>\n",
       "      <th></th>\n",
       "      <th></th>\n",
       "      <th></th>\n",
       "      <th></th>\n",
       "      <th></th>\n",
       "      <th></th>\n",
       "      <th></th>\n",
       "      <th></th>\n",
       "      <th></th>\n",
       "      <th></th>\n",
       "      <th></th>\n",
       "      <th></th>\n",
       "      <th></th>\n",
       "      <th></th>\n",
       "      <th></th>\n",
       "      <th></th>\n",
       "      <th></th>\n",
       "      <th></th>\n",
       "      <th></th>\n",
       "      <th></th>\n",
       "      <th></th>\n",
       "      <th></th>\n",
       "      <th></th>\n",
       "      <th></th>\n",
       "      <th></th>\n",
       "      <th></th>\n",
       "      <th></th>\n",
       "      <th></th>\n",
       "      <th></th>\n",
       "      <th></th>\n",
       "      <th></th>\n",
       "      <th></th>\n",
       "      <th></th>\n",
       "      <th></th>\n",
       "      <th></th>\n",
       "      <th></th>\n",
       "      <th></th>\n",
       "      <th></th>\n",
       "    </tr>\n",
       "  </thead>\n",
       "  <tbody>\n",
       "    <tr>\n",
       "      <th>1</th>\n",
       "      <td>41</td>\n",
       "      <td>Travel_Rarely</td>\n",
       "      <td>1102</td>\n",
       "      <td>Sales</td>\n",
       "      <td>1</td>\n",
       "      <td>2</td>\n",
       "      <td>Life Sciences</td>\n",
       "      <td>1</td>\n",
       "      <td>2</td>\n",
       "      <td>Female</td>\n",
       "      <td>94</td>\n",
       "      <td>3</td>\n",
       "      <td>2</td>\n",
       "      <td>Sales Executive</td>\n",
       "      <td>4</td>\n",
       "      <td>Single</td>\n",
       "      <td>5993</td>\n",
       "      <td>19479</td>\n",
       "      <td>8</td>\n",
       "      <td>Y</td>\n",
       "      <td>Yes</td>\n",
       "      <td>11</td>\n",
       "      <td>3</td>\n",
       "      <td>1</td>\n",
       "      <td>80</td>\n",
       "      <td>0</td>\n",
       "      <td>8</td>\n",
       "      <td>0</td>\n",
       "      <td>1</td>\n",
       "      <td>6</td>\n",
       "      <td>4</td>\n",
       "      <td>0</td>\n",
       "      <td>5</td>\n",
       "      <td>1</td>\n",
       "      <td>0.054793</td>\n",
       "      <td>4</td>\n",
       "      <td>0.256759</td>\n",
       "      <td>9</td>\n",
       "      <td>Top3</td>\n",
       "    </tr>\n",
       "    <tr>\n",
       "      <th>4</th>\n",
       "      <td>37</td>\n",
       "      <td>Travel_Rarely</td>\n",
       "      <td>1373</td>\n",
       "      <td>Research &amp; Development</td>\n",
       "      <td>2</td>\n",
       "      <td>2</td>\n",
       "      <td>Other</td>\n",
       "      <td>1</td>\n",
       "      <td>4</td>\n",
       "      <td>Male</td>\n",
       "      <td>92</td>\n",
       "      <td>2</td>\n",
       "      <td>1</td>\n",
       "      <td>Laboratory Technician</td>\n",
       "      <td>3</td>\n",
       "      <td>Single</td>\n",
       "      <td>2090</td>\n",
       "      <td>2396</td>\n",
       "      <td>6</td>\n",
       "      <td>Y</td>\n",
       "      <td>Yes</td>\n",
       "      <td>15</td>\n",
       "      <td>3</td>\n",
       "      <td>2</td>\n",
       "      <td>80</td>\n",
       "      <td>0</td>\n",
       "      <td>7</td>\n",
       "      <td>3</td>\n",
       "      <td>3</td>\n",
       "      <td>0</td>\n",
       "      <td>0</td>\n",
       "      <td>0</td>\n",
       "      <td>0</td>\n",
       "      <td>1</td>\n",
       "      <td>0.058847</td>\n",
       "      <td>4</td>\n",
       "      <td>0.891538</td>\n",
       "      <td>10</td>\n",
       "      <td>Top3</td>\n",
       "    </tr>\n",
       "    <tr>\n",
       "      <th>5</th>\n",
       "      <td>33</td>\n",
       "      <td>Travel_Frequently</td>\n",
       "      <td>1392</td>\n",
       "      <td>Research &amp; Development</td>\n",
       "      <td>3</td>\n",
       "      <td>4</td>\n",
       "      <td>Life Sciences</td>\n",
       "      <td>1</td>\n",
       "      <td>4</td>\n",
       "      <td>Female</td>\n",
       "      <td>56</td>\n",
       "      <td>3</td>\n",
       "      <td>1</td>\n",
       "      <td>Research Scientist</td>\n",
       "      <td>3</td>\n",
       "      <td>Married</td>\n",
       "      <td>2909</td>\n",
       "      <td>23159</td>\n",
       "      <td>1</td>\n",
       "      <td>Y</td>\n",
       "      <td>Yes</td>\n",
       "      <td>11</td>\n",
       "      <td>3</td>\n",
       "      <td>3</td>\n",
       "      <td>80</td>\n",
       "      <td>0</td>\n",
       "      <td>8</td>\n",
       "      <td>3</td>\n",
       "      <td>3</td>\n",
       "      <td>8</td>\n",
       "      <td>7</td>\n",
       "      <td>3</td>\n",
       "      <td>0</td>\n",
       "      <td>0</td>\n",
       "      <td>0.186420</td>\n",
       "      <td>8</td>\n",
       "      <td>0.335839</td>\n",
       "      <td>9</td>\n",
       "      <td>Top3</td>\n",
       "    </tr>\n",
       "    <tr>\n",
       "      <th>8</th>\n",
       "      <td>32</td>\n",
       "      <td>Travel_Frequently</td>\n",
       "      <td>1005</td>\n",
       "      <td>Research &amp; Development</td>\n",
       "      <td>2</td>\n",
       "      <td>2</td>\n",
       "      <td>Life Sciences</td>\n",
       "      <td>1</td>\n",
       "      <td>4</td>\n",
       "      <td>Male</td>\n",
       "      <td>79</td>\n",
       "      <td>3</td>\n",
       "      <td>1</td>\n",
       "      <td>Laboratory Technician</td>\n",
       "      <td>4</td>\n",
       "      <td>Single</td>\n",
       "      <td>3068</td>\n",
       "      <td>11864</td>\n",
       "      <td>0</td>\n",
       "      <td>Y</td>\n",
       "      <td>No</td>\n",
       "      <td>13</td>\n",
       "      <td>3</td>\n",
       "      <td>3</td>\n",
       "      <td>80</td>\n",
       "      <td>0</td>\n",
       "      <td>8</td>\n",
       "      <td>2</td>\n",
       "      <td>2</td>\n",
       "      <td>7</td>\n",
       "      <td>7</td>\n",
       "      <td>3</td>\n",
       "      <td>6</td>\n",
       "      <td>0</td>\n",
       "      <td>0.130478</td>\n",
       "      <td>7</td>\n",
       "      <td>0.186420</td>\n",
       "      <td>8</td>\n",
       "      <td>Top3</td>\n",
       "    </tr>\n",
       "    <tr>\n",
       "      <th>10</th>\n",
       "      <td>59</td>\n",
       "      <td>Travel_Rarely</td>\n",
       "      <td>1324</td>\n",
       "      <td>Research &amp; Development</td>\n",
       "      <td>3</td>\n",
       "      <td>3</td>\n",
       "      <td>Medical</td>\n",
       "      <td>1</td>\n",
       "      <td>3</td>\n",
       "      <td>Female</td>\n",
       "      <td>81</td>\n",
       "      <td>4</td>\n",
       "      <td>1</td>\n",
       "      <td>Laboratory Technician</td>\n",
       "      <td>1</td>\n",
       "      <td>Married</td>\n",
       "      <td>2670</td>\n",
       "      <td>9964</td>\n",
       "      <td>4</td>\n",
       "      <td>Y</td>\n",
       "      <td>Yes</td>\n",
       "      <td>20</td>\n",
       "      <td>4</td>\n",
       "      <td>1</td>\n",
       "      <td>80</td>\n",
       "      <td>3</td>\n",
       "      <td>12</td>\n",
       "      <td>3</td>\n",
       "      <td>2</td>\n",
       "      <td>1</td>\n",
       "      <td>0</td>\n",
       "      <td>0</td>\n",
       "      <td>0</td>\n",
       "      <td>0</td>\n",
       "      <td>0.033410</td>\n",
       "      <td>2</td>\n",
       "      <td>0.274127</td>\n",
       "      <td>9</td>\n",
       "      <td>Top3</td>\n",
       "    </tr>\n",
       "  </tbody>\n",
       "</table>\n",
       "</div>"
      ],
      "text/plain": [
       "        Age     BusinessTravel  DailyRate              Department  \\\n",
       "Emp.ID                                                              \n",
       "1        41      Travel_Rarely       1102                   Sales   \n",
       "4        37      Travel_Rarely       1373  Research & Development   \n",
       "5        33  Travel_Frequently       1392  Research & Development   \n",
       "8        32  Travel_Frequently       1005  Research & Development   \n",
       "10       59      Travel_Rarely       1324  Research & Development   \n",
       "\n",
       "        DistanceFromHome  Education EducationField  EmployeeCount  \\\n",
       "Emp.ID                                                              \n",
       "1                      1          2  Life Sciences              1   \n",
       "4                      2          2          Other              1   \n",
       "5                      3          4  Life Sciences              1   \n",
       "8                      2          2  Life Sciences              1   \n",
       "10                     3          3        Medical              1   \n",
       "\n",
       "        EnvironmentSatisfaction  Gender  HourlyRate  JobInvolvement  JobLevel  \\\n",
       "Emp.ID                                                                          \n",
       "1                             2  Female          94               3         2   \n",
       "4                             4    Male          92               2         1   \n",
       "5                             4  Female          56               3         1   \n",
       "8                             4    Male          79               3         1   \n",
       "10                            3  Female          81               4         1   \n",
       "\n",
       "                      JobRole  JobSatisfaction MaritalStatus  MonthlyIncome  \\\n",
       "Emp.ID                                                                        \n",
       "1             Sales Executive                4        Single           5993   \n",
       "4       Laboratory Technician                3        Single           2090   \n",
       "5          Research Scientist                3       Married           2909   \n",
       "8       Laboratory Technician                4        Single           3068   \n",
       "10      Laboratory Technician                1       Married           2670   \n",
       "\n",
       "        MonthlyRate  NumCompaniesWorked Over18 OverTime  PercentSalaryHike  \\\n",
       "Emp.ID                                                                       \n",
       "1             19479                   8      Y      Yes                 11   \n",
       "4              2396                   6      Y      Yes                 15   \n",
       "5             23159                   1      Y      Yes                 11   \n",
       "8             11864                   0      Y       No                 13   \n",
       "10             9964                   4      Y      Yes                 20   \n",
       "\n",
       "        PerformanceRating  RelationshipSatisfaction  StandardHours  \\\n",
       "Emp.ID                                                               \n",
       "1                       3                         1             80   \n",
       "4                       3                         2             80   \n",
       "5                       3                         3             80   \n",
       "8                       3                         3             80   \n",
       "10                      4                         1             80   \n",
       "\n",
       "        StockOptionLevel  TotalWorkingYears  TrainingTimesLastYear  \\\n",
       "Emp.ID                                                               \n",
       "1                      0                  8                      0   \n",
       "4                      0                  7                      3   \n",
       "5                      0                  8                      3   \n",
       "8                      0                  8                      2   \n",
       "10                     3                 12                      3   \n",
       "\n",
       "        WorkLifeBalance  YearsAtCompany  YearsInCurrentRole  \\\n",
       "Emp.ID                                                        \n",
       "1                     1               6                   4   \n",
       "4                     3               0                   0   \n",
       "5                     3               8                   7   \n",
       "8                     2               7                   7   \n",
       "10                    2               1                   0   \n",
       "\n",
       "        YearsSinceLastPromotion  YearsWithCurrManager  target  y_pred_P  \\\n",
       "Emp.ID                                                                    \n",
       "1                             0                     5       1  0.054793   \n",
       "4                             0                     0       1  0.058847   \n",
       "5                             3                     0       0  0.186420   \n",
       "8                             3                     6       0  0.130478   \n",
       "10                            0                     0       0  0.033410   \n",
       "\n",
       "        P_Rank_gbm  pred_prob  Rank_gbm Ranking_group  \n",
       "Emp.ID                                                 \n",
       "1                4   0.256759         9          Top3  \n",
       "4                4   0.891538        10          Top3  \n",
       "5                8   0.335839         9          Top3  \n",
       "8                7   0.186420         8          Top3  \n",
       "10               2   0.274127         9          Top3  "
      ]
     },
     "execution_count": 1106,
     "metadata": {},
     "output_type": "execute_result"
    }
   ],
   "source": [
    "df_top3.head()"
   ]
  },
  {
   "cell_type": "code",
   "execution_count": 1105,
   "metadata": {
    "ExecuteTime": {
     "end_time": "2022-01-16T19:04:38.774274Z",
     "start_time": "2022-01-16T19:04:38.757521Z"
    }
   },
   "outputs": [
    {
     "data": {
      "text/html": [
       "<div>\n",
       "<style scoped>\n",
       "    .dataframe tbody tr th:only-of-type {\n",
       "        vertical-align: middle;\n",
       "    }\n",
       "\n",
       "    .dataframe tbody tr th {\n",
       "        vertical-align: top;\n",
       "    }\n",
       "\n",
       "    .dataframe thead th {\n",
       "        text-align: right;\n",
       "    }\n",
       "</style>\n",
       "<table border=\"1\" class=\"dataframe\">\n",
       "  <thead>\n",
       "    <tr style=\"text-align: right;\">\n",
       "      <th></th>\n",
       "      <th>FI</th>\n",
       "    </tr>\n",
       "  </thead>\n",
       "  <tbody>\n",
       "    <tr>\n",
       "      <th>MonthlyIncome</th>\n",
       "      <td>0.294516</td>\n",
       "    </tr>\n",
       "    <tr>\n",
       "      <th>OverTime_Yes</th>\n",
       "      <td>0.169789</td>\n",
       "    </tr>\n",
       "    <tr>\n",
       "      <th>TotalWorkingYears</th>\n",
       "      <td>0.126329</td>\n",
       "    </tr>\n",
       "  </tbody>\n",
       "</table>\n",
       "</div>"
      ],
      "text/plain": [
       "                         FI\n",
       "MonthlyIncome      0.294516\n",
       "OverTime_Yes       0.169789\n",
       "TotalWorkingYears  0.126329"
      ]
     },
     "execution_count": 1105,
     "metadata": {},
     "output_type": "execute_result"
    }
   ],
   "source": [
    "# Based on Feature importance from Model\n",
    "feature_importance[:3]"
   ]
  },
  {
   "cell_type": "code",
   "execution_count": 1108,
   "metadata": {
    "ExecuteTime": {
     "end_time": "2022-01-16T19:08:11.597149Z",
     "start_time": "2022-01-16T19:08:11.571108Z"
    }
   },
   "outputs": [],
   "source": [
    "# 1. Monthly income\n",
    "df_top3['Income_rank'] = pd.qcut(df_top3['MonthlyIncome'].rank(method='first').values,10,duplicates='drop').codes+1"
   ]
  },
  {
   "cell_type": "code",
   "execution_count": 1117,
   "metadata": {
    "ExecuteTime": {
     "end_time": "2022-01-16T20:02:07.352016Z",
     "start_time": "2022-01-16T20:02:07.328548Z"
    }
   },
   "outputs": [
    {
     "data": {
      "text/html": [
       "<div>\n",
       "<style scoped>\n",
       "    .dataframe tbody tr th:only-of-type {\n",
       "        vertical-align: middle;\n",
       "    }\n",
       "\n",
       "    .dataframe tbody tr th {\n",
       "        vertical-align: top;\n",
       "    }\n",
       "\n",
       "    .dataframe thead th {\n",
       "        text-align: right;\n",
       "    }\n",
       "</style>\n",
       "<table border=\"1\" class=\"dataframe\">\n",
       "  <thead>\n",
       "    <tr style=\"text-align: right;\">\n",
       "      <th></th>\n",
       "      <th>min</th>\n",
       "      <th>mean</th>\n",
       "      <th>max</th>\n",
       "    </tr>\n",
       "    <tr>\n",
       "      <th>Income_group</th>\n",
       "      <th></th>\n",
       "      <th></th>\n",
       "      <th></th>\n",
       "    </tr>\n",
       "  </thead>\n",
       "  <tbody>\n",
       "    <tr>\n",
       "      <th>1</th>\n",
       "      <td>1009</td>\n",
       "      <td>1586.088889</td>\n",
       "      <td>2058</td>\n",
       "    </tr>\n",
       "    <tr>\n",
       "      <th>2</th>\n",
       "      <td>2061</td>\n",
       "      <td>2220.363636</td>\n",
       "      <td>2335</td>\n",
       "    </tr>\n",
       "    <tr>\n",
       "      <th>3</th>\n",
       "      <td>2340</td>\n",
       "      <td>2424.750000</td>\n",
       "      <td>2559</td>\n",
       "    </tr>\n",
       "    <tr>\n",
       "      <th>4</th>\n",
       "      <td>2561</td>\n",
       "      <td>2690.795455</td>\n",
       "      <td>2814</td>\n",
       "    </tr>\n",
       "    <tr>\n",
       "      <th>5</th>\n",
       "      <td>2827</td>\n",
       "      <td>3102.113636</td>\n",
       "      <td>3485</td>\n",
       "    </tr>\n",
       "    <tr>\n",
       "      <th>6</th>\n",
       "      <td>3500</td>\n",
       "      <td>4086.863636</td>\n",
       "      <td>4538</td>\n",
       "    </tr>\n",
       "    <tr>\n",
       "      <th>7</th>\n",
       "      <td>4554</td>\n",
       "      <td>5025.681818</td>\n",
       "      <td>5485</td>\n",
       "    </tr>\n",
       "    <tr>\n",
       "      <th>8</th>\n",
       "      <td>5487</td>\n",
       "      <td>6274.250000</td>\n",
       "      <td>7143</td>\n",
       "    </tr>\n",
       "    <tr>\n",
       "      <th>9</th>\n",
       "      <td>7314</td>\n",
       "      <td>8834.272727</td>\n",
       "      <td>9998</td>\n",
       "    </tr>\n",
       "    <tr>\n",
       "      <th>10</th>\n",
       "      <td>10008</td>\n",
       "      <td>12297.386364</td>\n",
       "      <td>19999</td>\n",
       "    </tr>\n",
       "  </tbody>\n",
       "</table>\n",
       "</div>"
      ],
      "text/plain": [
       "                min          mean    max\n",
       "Income_group                            \n",
       "1              1009   1586.088889   2058\n",
       "2              2061   2220.363636   2335\n",
       "3              2340   2424.750000   2559\n",
       "4              2561   2690.795455   2814\n",
       "5              2827   3102.113636   3485\n",
       "6              3500   4086.863636   4538\n",
       "7              4554   5025.681818   5485\n",
       "8              5487   6274.250000   7143\n",
       "9              7314   8834.272727   9998\n",
       "10            10008  12297.386364  19999"
      ]
     },
     "execution_count": 1117,
     "metadata": {},
     "output_type": "execute_result"
    }
   ],
   "source": [
    "df_top3.groupby('Income_rank')['MonthlyIncome'].agg(['min','mean','max'])"
   ]
  },
  {
   "cell_type": "code",
   "execution_count": 1119,
   "metadata": {
    "ExecuteTime": {
     "end_time": "2022-01-16T20:04:30.650551Z",
     "start_time": "2022-01-16T20:04:30.634487Z"
    }
   },
   "outputs": [],
   "source": [
    "mean_income = df_top3.MonthlyIncome.mean()"
   ]
  },
  {
   "cell_type": "code",
   "execution_count": 1122,
   "metadata": {
    "ExecuteTime": {
     "end_time": "2022-01-16T20:06:20.005068Z",
     "start_time": "2022-01-16T20:06:19.964367Z"
    }
   },
   "outputs": [
    {
     "data": {
      "text/html": [
       "<div>\n",
       "<style scoped>\n",
       "    .dataframe tbody tr th:only-of-type {\n",
       "        vertical-align: middle;\n",
       "    }\n",
       "\n",
       "    .dataframe tbody tr th {\n",
       "        vertical-align: top;\n",
       "    }\n",
       "\n",
       "    .dataframe thead th {\n",
       "        text-align: right;\n",
       "    }\n",
       "</style>\n",
       "<table border=\"1\" class=\"dataframe\">\n",
       "  <thead>\n",
       "    <tr style=\"text-align: right;\">\n",
       "      <th></th>\n",
       "      <th>count</th>\n",
       "      <th>mean</th>\n",
       "      <th>sum</th>\n",
       "    </tr>\n",
       "    <tr>\n",
       "      <th>Income_group</th>\n",
       "      <th></th>\n",
       "      <th></th>\n",
       "      <th></th>\n",
       "    </tr>\n",
       "  </thead>\n",
       "  <tbody>\n",
       "    <tr>\n",
       "      <th>High_income</th>\n",
       "      <td>159</td>\n",
       "      <td>0.389937</td>\n",
       "      <td>62</td>\n",
       "    </tr>\n",
       "    <tr>\n",
       "      <th>Low_income</th>\n",
       "      <td>282</td>\n",
       "      <td>0.482270</td>\n",
       "      <td>136</td>\n",
       "    </tr>\n",
       "  </tbody>\n",
       "</table>\n",
       "</div>"
      ],
      "text/plain": [
       "              count      mean  sum\n",
       "Income_group                      \n",
       "High_income     159  0.389937   62\n",
       "Low_income      282  0.482270  136"
      ]
     },
     "execution_count": 1122,
     "metadata": {},
     "output_type": "execute_result"
    }
   ],
   "source": [
    "df_top3['Income_group'] = np.where(df_top3['MonthlyIncome']>mean_income,'High_income','Low_income')\n",
    "df_top3.groupby('Income_group')['target'].agg(['count','mean','sum'])"
   ]
  },
  {
   "cell_type": "markdown",
   "metadata": {},
   "source": [
    "- Employee with Low income group are most proned to Attrite"
   ]
  },
  {
   "cell_type": "code",
   "execution_count": 1128,
   "metadata": {
    "ExecuteTime": {
     "end_time": "2022-01-16T20:10:47.075325Z",
     "start_time": "2022-01-16T20:10:47.051700Z"
    }
   },
   "outputs": [
    {
     "data": {
      "text/html": [
       "<div>\n",
       "<style scoped>\n",
       "    .dataframe tbody tr th:only-of-type {\n",
       "        vertical-align: middle;\n",
       "    }\n",
       "\n",
       "    .dataframe tbody tr th {\n",
       "        vertical-align: top;\n",
       "    }\n",
       "\n",
       "    .dataframe thead th {\n",
       "        text-align: right;\n",
       "    }\n",
       "</style>\n",
       "<table border=\"1\" class=\"dataframe\">\n",
       "  <thead>\n",
       "    <tr style=\"text-align: right;\">\n",
       "      <th></th>\n",
       "      <th>count</th>\n",
       "      <th>mean</th>\n",
       "      <th>sum</th>\n",
       "    </tr>\n",
       "    <tr>\n",
       "      <th>OverTime</th>\n",
       "      <th></th>\n",
       "      <th></th>\n",
       "      <th></th>\n",
       "    </tr>\n",
       "  </thead>\n",
       "  <tbody>\n",
       "    <tr>\n",
       "      <th>No</th>\n",
       "      <td>197</td>\n",
       "      <td>0.390863</td>\n",
       "      <td>77</td>\n",
       "    </tr>\n",
       "    <tr>\n",
       "      <th>Yes</th>\n",
       "      <td>244</td>\n",
       "      <td>0.495902</td>\n",
       "      <td>121</td>\n",
       "    </tr>\n",
       "  </tbody>\n",
       "</table>\n",
       "</div>"
      ],
      "text/plain": [
       "          count      mean  sum\n",
       "OverTime                      \n",
       "No          197  0.390863   77\n",
       "Yes         244  0.495902  121"
      ]
     },
     "execution_count": 1128,
     "metadata": {},
     "output_type": "execute_result"
    }
   ],
   "source": [
    "# 2. OverTime_Yes\n",
    "df_top3.groupby('OverTime')['target'].agg(['count','mean','sum'])"
   ]
  },
  {
   "cell_type": "markdown",
   "metadata": {},
   "source": [
    "- 50% employee who were doing Overtime Attrited"
   ]
  },
  {
   "cell_type": "code",
   "execution_count": 1130,
   "metadata": {
    "ExecuteTime": {
     "end_time": "2022-01-16T20:17:49.312841Z",
     "start_time": "2022-01-16T20:17:49.275177Z"
    }
   },
   "outputs": [
    {
     "data": {
      "text/html": [
       "<div>\n",
       "<style scoped>\n",
       "    .dataframe tbody tr th:only-of-type {\n",
       "        vertical-align: middle;\n",
       "    }\n",
       "\n",
       "    .dataframe tbody tr th {\n",
       "        vertical-align: top;\n",
       "    }\n",
       "\n",
       "    .dataframe thead th {\n",
       "        text-align: right;\n",
       "    }\n",
       "</style>\n",
       "<table border=\"1\" class=\"dataframe\">\n",
       "  <thead>\n",
       "    <tr style=\"text-align: right;\">\n",
       "      <th></th>\n",
       "      <th>min</th>\n",
       "      <th>mean</th>\n",
       "      <th>max</th>\n",
       "    </tr>\n",
       "    <tr>\n",
       "      <th>wrk_exp_rank</th>\n",
       "      <th></th>\n",
       "      <th></th>\n",
       "      <th></th>\n",
       "    </tr>\n",
       "  </thead>\n",
       "  <tbody>\n",
       "    <tr>\n",
       "      <th>1</th>\n",
       "      <td>0</td>\n",
       "      <td>0.755556</td>\n",
       "      <td>1</td>\n",
       "    </tr>\n",
       "    <tr>\n",
       "      <th>2</th>\n",
       "      <td>1</td>\n",
       "      <td>1.045455</td>\n",
       "      <td>2</td>\n",
       "    </tr>\n",
       "    <tr>\n",
       "      <th>3</th>\n",
       "      <td>2</td>\n",
       "      <td>2.931818</td>\n",
       "      <td>4</td>\n",
       "    </tr>\n",
       "    <tr>\n",
       "      <th>4</th>\n",
       "      <td>4</td>\n",
       "      <td>5.068182</td>\n",
       "      <td>6</td>\n",
       "    </tr>\n",
       "    <tr>\n",
       "      <th>5</th>\n",
       "      <td>6</td>\n",
       "      <td>6.477273</td>\n",
       "      <td>7</td>\n",
       "    </tr>\n",
       "    <tr>\n",
       "      <th>6</th>\n",
       "      <td>7</td>\n",
       "      <td>7.954545</td>\n",
       "      <td>9</td>\n",
       "    </tr>\n",
       "    <tr>\n",
       "      <th>7</th>\n",
       "      <td>9</td>\n",
       "      <td>9.522727</td>\n",
       "      <td>10</td>\n",
       "    </tr>\n",
       "    <tr>\n",
       "      <th>8</th>\n",
       "      <td>10</td>\n",
       "      <td>10.386364</td>\n",
       "      <td>12</td>\n",
       "    </tr>\n",
       "    <tr>\n",
       "      <th>9</th>\n",
       "      <td>12</td>\n",
       "      <td>15.500000</td>\n",
       "      <td>18</td>\n",
       "    </tr>\n",
       "    <tr>\n",
       "      <th>10</th>\n",
       "      <td>18</td>\n",
       "      <td>24.340909</td>\n",
       "      <td>40</td>\n",
       "    </tr>\n",
       "  </tbody>\n",
       "</table>\n",
       "</div>"
      ],
      "text/plain": [
       "              min       mean  max\n",
       "wrk_exp_rank                     \n",
       "1               0   0.755556    1\n",
       "2               1   1.045455    2\n",
       "3               2   2.931818    4\n",
       "4               4   5.068182    6\n",
       "5               6   6.477273    7\n",
       "6               7   7.954545    9\n",
       "7               9   9.522727   10\n",
       "8              10  10.386364   12\n",
       "9              12  15.500000   18\n",
       "10             18  24.340909   40"
      ]
     },
     "execution_count": 1130,
     "metadata": {},
     "output_type": "execute_result"
    }
   ],
   "source": [
    "# 3. TotalWorkingYears\n",
    "df_top3['wrk_exp_rank'] = pd.qcut(df_top3['TotalWorkingYears'].rank(method='first').values,10,duplicates='drop').codes+1\n",
    "df_top3.groupby('wrk_exp_rank')['TotalWorkingYears'].agg(['min','mean','max'])"
   ]
  },
  {
   "cell_type": "code",
   "execution_count": 1131,
   "metadata": {
    "ExecuteTime": {
     "end_time": "2022-01-16T20:18:48.431052Z",
     "start_time": "2022-01-16T20:18:48.416098Z"
    }
   },
   "outputs": [],
   "source": [
    "mean_wrk_exp  =df_top3.TotalWorkingYears.mean()"
   ]
  },
  {
   "cell_type": "code",
   "execution_count": 1133,
   "metadata": {
    "ExecuteTime": {
     "end_time": "2022-01-16T20:25:39.086083Z",
     "start_time": "2022-01-16T20:25:39.043590Z"
    }
   },
   "outputs": [
    {
     "data": {
      "text/html": [
       "<div>\n",
       "<style scoped>\n",
       "    .dataframe tbody tr th:only-of-type {\n",
       "        vertical-align: middle;\n",
       "    }\n",
       "\n",
       "    .dataframe tbody tr th {\n",
       "        vertical-align: top;\n",
       "    }\n",
       "\n",
       "    .dataframe thead th {\n",
       "        text-align: right;\n",
       "    }\n",
       "</style>\n",
       "<table border=\"1\" class=\"dataframe\">\n",
       "  <thead>\n",
       "    <tr style=\"text-align: right;\">\n",
       "      <th></th>\n",
       "      <th>count</th>\n",
       "      <th>mean</th>\n",
       "      <th>sum</th>\n",
       "    </tr>\n",
       "    <tr>\n",
       "      <th>exp_group</th>\n",
       "      <th></th>\n",
       "      <th></th>\n",
       "      <th></th>\n",
       "    </tr>\n",
       "  </thead>\n",
       "  <tbody>\n",
       "    <tr>\n",
       "      <th>High_exp</th>\n",
       "      <td>182</td>\n",
       "      <td>0.373626</td>\n",
       "      <td>68</td>\n",
       "    </tr>\n",
       "    <tr>\n",
       "      <th>Low_exp</th>\n",
       "      <td>259</td>\n",
       "      <td>0.501931</td>\n",
       "      <td>130</td>\n",
       "    </tr>\n",
       "  </tbody>\n",
       "</table>\n",
       "</div>"
      ],
      "text/plain": [
       "           count      mean  sum\n",
       "exp_group                      \n",
       "High_exp     182  0.373626   68\n",
       "Low_exp      259  0.501931  130"
      ]
     },
     "execution_count": 1133,
     "metadata": {},
     "output_type": "execute_result"
    }
   ],
   "source": [
    "df_top3['exp_group'] = np.where(df_top3['TotalWorkingYears']>mean_wrk_exp,'High_exp','Low_exp')\n",
    "df_top3.groupby('exp_group')['target'].agg(['count','mean','sum'])"
   ]
  },
  {
   "cell_type": "markdown",
   "metadata": {},
   "source": [
    "- 50% employees with Low Exp attrited"
   ]
  },
  {
   "cell_type": "code",
   "execution_count": 1136,
   "metadata": {
    "ExecuteTime": {
     "end_time": "2022-01-16T20:42:44.606522Z",
     "start_time": "2022-01-16T20:42:44.555348Z"
    }
   },
   "outputs": [
    {
     "data": {
      "text/html": [
       "<div>\n",
       "<style scoped>\n",
       "    .dataframe tbody tr th:only-of-type {\n",
       "        vertical-align: middle;\n",
       "    }\n",
       "\n",
       "    .dataframe tbody tr th {\n",
       "        vertical-align: top;\n",
       "    }\n",
       "\n",
       "    .dataframe thead th {\n",
       "        text-align: right;\n",
       "    }\n",
       "</style>\n",
       "<table border=\"1\" class=\"dataframe\">\n",
       "  <thead>\n",
       "    <tr style=\"text-align: right;\">\n",
       "      <th>Income_group</th>\n",
       "      <th>High_income</th>\n",
       "      <th>Low_income</th>\n",
       "    </tr>\n",
       "    <tr>\n",
       "      <th>exp_group</th>\n",
       "      <th></th>\n",
       "      <th></th>\n",
       "    </tr>\n",
       "  </thead>\n",
       "  <tbody>\n",
       "    <tr>\n",
       "      <th>High_exp</th>\n",
       "      <td>128</td>\n",
       "      <td>54</td>\n",
       "    </tr>\n",
       "    <tr>\n",
       "      <th>Low_exp</th>\n",
       "      <td>31</td>\n",
       "      <td>228</td>\n",
       "    </tr>\n",
       "  </tbody>\n",
       "</table>\n",
       "</div>"
      ],
      "text/plain": [
       "Income_group  High_income  Low_income\n",
       "exp_group                            \n",
       "High_exp              128          54\n",
       "Low_exp                31         228"
      ]
     },
     "execution_count": 1136,
     "metadata": {},
     "output_type": "execute_result"
    }
   ],
   "source": [
    "# check with Crosstabs\n",
    "pd.crosstab(index=df_top3['exp_group'], columns=df_top3['Income_group'],values=df_top3['TotalWorkingYears'],aggfunc=('count'))"
   ]
  },
  {
   "cell_type": "code",
   "execution_count": 1141,
   "metadata": {
    "ExecuteTime": {
     "end_time": "2022-01-16T20:45:25.462314Z",
     "start_time": "2022-01-16T20:45:25.414359Z"
    }
   },
   "outputs": [
    {
     "data": {
      "text/html": [
       "<div>\n",
       "<style scoped>\n",
       "    .dataframe tbody tr th:only-of-type {\n",
       "        vertical-align: middle;\n",
       "    }\n",
       "\n",
       "    .dataframe tbody tr th {\n",
       "        vertical-align: top;\n",
       "    }\n",
       "\n",
       "    .dataframe thead th {\n",
       "        text-align: right;\n",
       "    }\n",
       "</style>\n",
       "<table border=\"1\" class=\"dataframe\">\n",
       "  <thead>\n",
       "    <tr style=\"text-align: right;\">\n",
       "      <th>Income_group</th>\n",
       "      <th>High_income</th>\n",
       "      <th>Low_income</th>\n",
       "    </tr>\n",
       "    <tr>\n",
       "      <th>exp_group</th>\n",
       "      <th></th>\n",
       "      <th></th>\n",
       "    </tr>\n",
       "  </thead>\n",
       "  <tbody>\n",
       "    <tr>\n",
       "      <th>High_exp</th>\n",
       "      <td>0.351562</td>\n",
       "      <td>0.425926</td>\n",
       "    </tr>\n",
       "    <tr>\n",
       "      <th>Low_exp</th>\n",
       "      <td>0.548387</td>\n",
       "      <td>0.495614</td>\n",
       "    </tr>\n",
       "  </tbody>\n",
       "</table>\n",
       "</div>"
      ],
      "text/plain": [
       "Income_group  High_income  Low_income\n",
       "exp_group                            \n",
       "High_exp         0.351562    0.425926\n",
       "Low_exp          0.548387    0.495614"
      ]
     },
     "execution_count": 1141,
     "metadata": {},
     "output_type": "execute_result"
    }
   ],
   "source": [
    "pd.crosstab(index=df_top3['exp_group'], columns=df_top3['Income_group'], values=df_top3['target'], aggfunc='mean')"
   ]
  },
  {
   "cell_type": "markdown",
   "metadata": {},
   "source": [
    "- around 50% employee having low_exp & High_income, low_exp & Low_income have attrited\n",
    "- Majorly employee with Low exp. are most proned to attrite."
   ]
  },
  {
   "cell_type": "code",
   "execution_count": 1143,
   "metadata": {
    "ExecuteTime": {
     "end_time": "2022-01-16T20:51:07.930747Z",
     "start_time": "2022-01-16T20:51:07.880583Z"
    }
   },
   "outputs": [
    {
     "data": {
      "text/html": [
       "<div>\n",
       "<style scoped>\n",
       "    .dataframe tbody tr th:only-of-type {\n",
       "        vertical-align: middle;\n",
       "    }\n",
       "\n",
       "    .dataframe tbody tr th {\n",
       "        vertical-align: top;\n",
       "    }\n",
       "\n",
       "    .dataframe thead th {\n",
       "        text-align: right;\n",
       "    }\n",
       "</style>\n",
       "<table border=\"1\" class=\"dataframe\">\n",
       "  <thead>\n",
       "    <tr style=\"text-align: right;\">\n",
       "      <th>Income_group</th>\n",
       "      <th>High_income</th>\n",
       "      <th>Low_income</th>\n",
       "    </tr>\n",
       "    <tr>\n",
       "      <th>OverTime</th>\n",
       "      <th></th>\n",
       "      <th></th>\n",
       "    </tr>\n",
       "  </thead>\n",
       "  <tbody>\n",
       "    <tr>\n",
       "      <th>No</th>\n",
       "      <td>0.384615</td>\n",
       "      <td>0.393939</td>\n",
       "    </tr>\n",
       "    <tr>\n",
       "      <th>Yes</th>\n",
       "      <td>0.393617</td>\n",
       "      <td>0.560000</td>\n",
       "    </tr>\n",
       "  </tbody>\n",
       "</table>\n",
       "</div>"
      ],
      "text/plain": [
       "Income_group  High_income  Low_income\n",
       "OverTime                             \n",
       "No               0.384615    0.393939\n",
       "Yes              0.393617    0.560000"
      ]
     },
     "execution_count": 1143,
     "metadata": {},
     "output_type": "execute_result"
    }
   ],
   "source": [
    "pd.crosstab(index=df_top3['OverTime'],columns=df_top3['Income_group'], values=df_top3['target'], aggfunc='mean')"
   ]
  },
  {
   "cell_type": "markdown",
   "metadata": {},
   "source": [
    "- Employee wit Low_income and doing Overtime are most Proned to Attrite"
   ]
  },
  {
   "cell_type": "markdown",
   "metadata": {},
   "source": [
    "### Conclusion"
   ]
  },
  {
   "cell_type": "markdown",
   "metadata": {},
   "source": [
    " - Employees with Low Experience, low Income & working Overtime are most Proned to Attrite"
   ]
  }
 ],
 "metadata": {
  "kernelspec": {
   "display_name": "Python 3",
   "language": "python",
   "name": "python3"
  },
  "language_info": {
   "codemirror_mode": {
    "name": "ipython",
    "version": 3
   },
   "file_extension": ".py",
   "mimetype": "text/x-python",
   "name": "python",
   "nbconvert_exporter": "python",
   "pygments_lexer": "ipython3",
   "version": "3.8.5"
  }
 },
 "nbformat": 4,
 "nbformat_minor": 4
}
